{
  "cells": [
    {
      "cell_type": "code",
      "source": [
        "!pip install pymed"
      ],
      "metadata": {
        "colab": {
          "base_uri": "https://localhost:8080/"
        },
        "id": "5_z9KwGlqjTR",
        "outputId": "d131a72b-e61b-43ed-c711-388ab1dcb2e2"
      },
      "id": "5_z9KwGlqjTR",
      "execution_count": 36,
      "outputs": [
        {
          "output_type": "stream",
          "name": "stdout",
          "text": [
            "Requirement already satisfied: pymed in /usr/local/lib/python3.7/dist-packages (0.8.9)\n",
            "Requirement already satisfied: requests>=2.20.0 in /usr/local/lib/python3.7/dist-packages (from pymed) (2.23.0)\n",
            "Requirement already satisfied: certifi>=2017.4.17 in /usr/local/lib/python3.7/dist-packages (from requests>=2.20.0->pymed) (2021.10.8)\n",
            "Requirement already satisfied: urllib3!=1.25.0,!=1.25.1,<1.26,>=1.21.1 in /usr/local/lib/python3.7/dist-packages (from requests>=2.20.0->pymed) (1.24.3)\n",
            "Requirement already satisfied: chardet<4,>=3.0.2 in /usr/local/lib/python3.7/dist-packages (from requests>=2.20.0->pymed) (3.0.4)\n",
            "Requirement already satisfied: idna<3,>=2.5 in /usr/local/lib/python3.7/dist-packages (from requests>=2.20.0->pymed) (2.10)\n"
          ]
        }
      ]
    },
    {
      "cell_type": "code",
      "source": [
        "!pip install transformers"
      ],
      "metadata": {
        "colab": {
          "base_uri": "https://localhost:8080/"
        },
        "id": "cswtc3HNBbcW",
        "outputId": "8ad3efcf-5c32-4736-e1d3-aea7a86e9867"
      },
      "id": "cswtc3HNBbcW",
      "execution_count": 37,
      "outputs": [
        {
          "output_type": "stream",
          "name": "stdout",
          "text": [
            "Requirement already satisfied: transformers in /usr/local/lib/python3.7/dist-packages (4.19.0)\n",
            "Requirement already satisfied: huggingface-hub<1.0,>=0.1.0 in /usr/local/lib/python3.7/dist-packages (from transformers) (0.6.0)\n",
            "Requirement already satisfied: numpy>=1.17 in /usr/local/lib/python3.7/dist-packages (from transformers) (1.21.6)\n",
            "Requirement already satisfied: tqdm>=4.27 in /usr/local/lib/python3.7/dist-packages (from transformers) (4.64.0)\n",
            "Requirement already satisfied: packaging>=20.0 in /usr/local/lib/python3.7/dist-packages (from transformers) (21.3)\n",
            "Requirement already satisfied: filelock in /usr/local/lib/python3.7/dist-packages (from transformers) (3.6.0)\n",
            "Requirement already satisfied: requests in /usr/local/lib/python3.7/dist-packages (from transformers) (2.23.0)\n",
            "Requirement already satisfied: regex!=2019.12.17 in /usr/local/lib/python3.7/dist-packages (from transformers) (2019.12.20)\n",
            "Requirement already satisfied: importlib-metadata in /usr/local/lib/python3.7/dist-packages (from transformers) (4.11.3)\n",
            "Requirement already satisfied: pyyaml>=5.1 in /usr/local/lib/python3.7/dist-packages (from transformers) (6.0)\n",
            "Requirement already satisfied: tokenizers!=0.11.3,<0.13,>=0.11.1 in /usr/local/lib/python3.7/dist-packages (from transformers) (0.12.1)\n",
            "Requirement already satisfied: typing-extensions>=3.7.4.3 in /usr/local/lib/python3.7/dist-packages (from huggingface-hub<1.0,>=0.1.0->transformers) (4.2.0)\n",
            "Requirement already satisfied: pyparsing!=3.0.5,>=2.0.2 in /usr/local/lib/python3.7/dist-packages (from packaging>=20.0->transformers) (3.0.8)\n",
            "Requirement already satisfied: zipp>=0.5 in /usr/local/lib/python3.7/dist-packages (from importlib-metadata->transformers) (3.8.0)\n",
            "Requirement already satisfied: urllib3!=1.25.0,!=1.25.1,<1.26,>=1.21.1 in /usr/local/lib/python3.7/dist-packages (from requests->transformers) (1.24.3)\n",
            "Requirement already satisfied: idna<3,>=2.5 in /usr/local/lib/python3.7/dist-packages (from requests->transformers) (2.10)\n",
            "Requirement already satisfied: certifi>=2017.4.17 in /usr/local/lib/python3.7/dist-packages (from requests->transformers) (2021.10.8)\n",
            "Requirement already satisfied: chardet<4,>=3.0.2 in /usr/local/lib/python3.7/dist-packages (from requests->transformers) (3.0.4)\n"
          ]
        }
      ]
    },
    {
      "cell_type": "code",
      "execution_count": 38,
      "id": "86b9167f",
      "metadata": {
        "id": "86b9167f"
      },
      "outputs": [],
      "source": [
        "import subprocess\n",
        "import numpy as np\n",
        "import pandas as pd\n",
        "import matplotlib.pyplot as plt\n",
        "import seaborn as sns\n",
        "import matplotlib.ticker as mtick\n",
        "import time\n",
        "import random\n",
        "from pymed import PubMed\n",
        "import transformers\n",
        "import torch\n",
        "from sklearn.metrics import accuracy_score, precision_recall_fscore_support\n",
        "import os\n",
        "import argparse\n",
        "\n",
        "%matplotlib inline"
      ]
    },
    {
      "cell_type": "code",
      "source": [
        "from google.colab import drive\n",
        "drive.mount('/content/drive')"
      ],
      "metadata": {
        "colab": {
          "base_uri": "https://localhost:8080/"
        },
        "id": "T2eTXBToL60l",
        "outputId": "1f48ed8a-abe0-4d93-ba44-f43edaa7c788"
      },
      "id": "T2eTXBToL60l",
      "execution_count": 39,
      "outputs": [
        {
          "output_type": "stream",
          "name": "stdout",
          "text": [
            "Drive already mounted at /content/drive; to attempt to forcibly remount, call drive.mount(\"/content/drive\", force_remount=True).\n"
          ]
        }
      ]
    },
    {
      "cell_type": "code",
      "source": [
        "seed = 123"
      ],
      "metadata": {
        "id": "x9KUc_8W1mwk"
      },
      "id": "x9KUc_8W1mwk",
      "execution_count": 40,
      "outputs": []
    },
    {
      "cell_type": "markdown",
      "source": [
        "# Load custom modules"
      ],
      "metadata": {
        "id": "Rn--yAGRwEsu"
      },
      "id": "Rn--yAGRwEsu"
    },
    {
      "cell_type": "code",
      "source": [
        "user = \"jessicaw9910\"\n",
        "repo = \"NLU_project\"\n",
        "src_dir = \"src\"\n",
        "pyfile = \"main.py\"\n",
        "\n",
        "url = f\"https://raw.githubusercontent.com/{user}/{repo}/main/{src_dir}/{pyfile}\"\n",
        "!wget --no-cache --backups=1 {url}\n",
        "\n",
        "# result = subprocess.run([\"wget\", \"--no-cache\", \"--backups=1\", url], stderr=subprocess.PIPE, stdout=subprocess.PIPE)\n",
        "# print(result.stderr.decode(\"utf-8\"))"
      ],
      "metadata": {
        "colab": {
          "base_uri": "https://localhost:8080/"
        },
        "id": "-p_1xc_LwFjd",
        "outputId": "6ae5a22f-ee00-4feb-f371-26999e7a14e2"
      },
      "id": "-p_1xc_LwFjd",
      "execution_count": 41,
      "outputs": [
        {
          "output_type": "stream",
          "name": "stdout",
          "text": [
            "--2022-05-12 19:18:16--  https://raw.githubusercontent.com/jessicaw9910/NLU_project/main/src/main.py\n",
            "Resolving raw.githubusercontent.com (raw.githubusercontent.com)... 185.199.108.133, 185.199.109.133, 185.199.110.133, ...\n",
            "Connecting to raw.githubusercontent.com (raw.githubusercontent.com)|185.199.108.133|:443... connected.\n",
            "HTTP request sent, awaiting response... 200 OK\n",
            "Length: 5664 (5.5K) [text/plain]\n",
            "Saving to: ‘main.py’\n",
            "\n",
            "main.py             100%[===================>]   5.53K  --.-KB/s    in 0s      \n",
            "\n",
            "2022-05-12 19:18:16 (69.0 MB/s) - ‘main.py’ saved [5664/5664]\n",
            "\n"
          ]
        }
      ]
    },
    {
      "cell_type": "code",
      "source": [
        "pyfile = \"utils.py\"\n",
        "\n",
        "url = f\"https://raw.githubusercontent.com/{user}/{repo}/main/{src_dir}/{pyfile}\"\n",
        "!wget --no-cache --backups=1 {url}"
      ],
      "metadata": {
        "colab": {
          "base_uri": "https://localhost:8080/"
        },
        "id": "TIOVfCpKwtoC",
        "outputId": "6e57b618-6845-44aa-fdd6-8b635e511736"
      },
      "id": "TIOVfCpKwtoC",
      "execution_count": 42,
      "outputs": [
        {
          "output_type": "stream",
          "name": "stdout",
          "text": [
            "--2022-05-12 19:18:17--  https://raw.githubusercontent.com/jessicaw9910/NLU_project/main/src/utils.py\n",
            "Resolving raw.githubusercontent.com (raw.githubusercontent.com)... 185.199.108.133, 185.199.109.133, 185.199.110.133, ...\n",
            "Connecting to raw.githubusercontent.com (raw.githubusercontent.com)|185.199.108.133|:443... connected.\n",
            "HTTP request sent, awaiting response... 200 OK\n",
            "Length: 8602 (8.4K) [text/plain]\n",
            "Saving to: ‘utils.py’\n",
            "\n",
            "utils.py            100%[===================>]   8.40K  --.-KB/s    in 0s      \n",
            "\n",
            "2022-05-12 19:18:17 (88.9 MB/s) - ‘utils.py’ saved [8602/8602]\n",
            "\n"
          ]
        }
      ]
    },
    {
      "cell_type": "code",
      "source": [
        "from utils import *\n",
        "from main import *"
      ],
      "metadata": {
        "id": "eRefbVfKw1Ap"
      },
      "id": "eRefbVfKw1Ap",
      "execution_count": 43,
      "outputs": []
    },
    {
      "cell_type": "markdown",
      "source": [
        "# Load Data\n",
        "\n",
        "If have run retrieve abstracts previously"
      ],
      "metadata": {
        "id": "b8zc5iUWtd65"
      },
      "id": "b8zc5iUWtd65"
    },
    {
      "cell_type": "code",
      "execution_count": 44,
      "id": "18f8aca3",
      "metadata": {
        "id": "18f8aca3"
      },
      "outputs": [],
      "source": [
        "df_mad = pd.read_csv('/content/drive/My Drive/nlu_project/assets/df_mad.csv')"
      ]
    },
    {
      "cell_type": "code",
      "execution_count": 45,
      "id": "74d17c27",
      "metadata": {
        "id": "74d17c27"
      },
      "outputs": [],
      "source": [
        "df_abstracts = pd.read_csv('/content/drive/My Drive/nlu_project/assets/articles.csv')"
      ]
    },
    {
      "cell_type": "markdown",
      "id": "f558b48d",
      "metadata": {
        "id": "f558b48d"
      },
      "source": [
        "# Retrieve Abstracts"
      ]
    },
    {
      "cell_type": "markdown",
      "source": [
        "Referred to implementation [here](https://stackoverflow.com/questions/65148151/when-i-try-to-get-all-article-details-from-query-on-pubmed-to-pandas-dataframe-a)."
      ],
      "metadata": {
        "id": "HP7fxjzgP8Qp"
      },
      "id": "HP7fxjzgP8Qp"
    },
    {
      "cell_type": "code",
      "execution_count": 10,
      "id": "42cb81c5",
      "metadata": {
        "id": "42cb81c5"
      },
      "outputs": [],
      "source": [
        "df_mad = pd.read_csv('/content/drive/My Drive/nlu_project/assets/df_mad.csv')"
      ]
    },
    {
      "cell_type": "code",
      "source": [
        "## run only first time\n",
        "abstract_list, drug, tcga = save_abstracts(df_mad, first_pass=True)"
      ],
      "metadata": {
        "id": "plTHeJTP0_PZ"
      },
      "id": "plTHeJTP0_PZ",
      "execution_count": null,
      "outputs": []
    },
    {
      "cell_type": "code",
      "source": [
        "## repeat as many times as necessary until complete\n",
        "abstract_list, drug, tcga = save_abstracts(df_mad, drug, tcga, abstract_list)"
      ],
      "metadata": {
        "id": "ht9wBiE41Nia"
      },
      "id": "ht9wBiE41Nia",
      "execution_count": null,
      "outputs": []
    },
    {
      "cell_type": "code",
      "source": [
        "df_abstract = create_dataframe(abstract_list, df_mad)\n",
        "\n",
        "## split data into train, val, test\n",
        "df_abstracts = annotate_splits(df_abstracts, seed=seed)\n",
        "# df_test = df_abstracts.copy()\n",
        "# sum([i != j for i, j in zip(list(df_abstracts['set']), list(df_test['set']))])"
      ],
      "metadata": {
        "id": "ICPzpp7F1i5L"
      },
      "id": "ICPzpp7F1i5L",
      "execution_count": null,
      "outputs": []
    },
    {
      "cell_type": "code",
      "execution_count": null,
      "id": "12544fa3",
      "metadata": {
        "id": "12544fa3"
      },
      "outputs": [],
      "source": [
        "df_articles.to_csv('/content/drive/My Drive/nlu_project/assets/articles.csv', index=False)"
      ]
    },
    {
      "cell_type": "markdown",
      "id": "378bb455",
      "metadata": {
        "id": "378bb455"
      },
      "source": [
        "# Analyze Abstracts"
      ]
    },
    {
      "cell_type": "code",
      "execution_count": null,
      "id": "dddf3ea1",
      "metadata": {
        "colab": {
          "base_uri": "https://localhost:8080/"
        },
        "id": "dddf3ea1",
        "outputId": "3b866ac2-6fd3-4812-f3a5-b5617b1b76ab"
      },
      "outputs": [
        {
          "output_type": "execute_result",
          "data": {
            "text/plain": [
              "Gemcitabine_Lung squamous cell carcinoma           426\n",
              "Topotecan_Small cell lung cancer                   425\n",
              "Docetaxel_Head and Neck squamous cell carcinoma    415\n",
              "Docetaxel_Esophageal carcinoma                     414\n",
              "Tamoxifen_Breast invasive carcinoma                413\n",
              "Irinotecan_Small cell lung cancer                  409\n",
              "Gemcitabine_Bladder Urothelial Carcinoma           406\n",
              "Sorafenib_Kidney renal clear cell carcinoma        406\n",
              "Gemcitabine_Lung adenocarcinoma                    403\n",
              "Oxaliplatin_Stomach adenocarcinoma                 403\n",
              "Name: id, dtype: int64"
            ]
          },
          "metadata": {},
          "execution_count": 9
        }
      ],
      "source": [
        "df_abstracts['id'].value_counts().head(10)"
      ]
    },
    {
      "cell_type": "code",
      "source": [
        "df_abstracts.shape"
      ],
      "metadata": {
        "colab": {
          "base_uri": "https://localhost:8080/"
        },
        "id": "RysJdYHrktcn",
        "outputId": "71a76cc1-dc39-4b0d-c6ad-5719b8cd4e76"
      },
      "id": "RysJdYHrktcn",
      "execution_count": null,
      "outputs": [
        {
          "output_type": "execute_result",
          "data": {
            "text/plain": [
              "(59791, 7)"
            ]
          },
          "metadata": {},
          "execution_count": 135
        }
      ]
    },
    {
      "cell_type": "code",
      "execution_count": null,
      "id": "ad06a21f",
      "metadata": {
        "colab": {
          "base_uri": "https://localhost:8080/"
        },
        "id": "ad06a21f",
        "outputId": "52089cc6-62cb-4095-9af9-5643247d08b0"
      },
      "outputs": [
        {
          "output_type": "execute_result",
          "data": {
            "text/plain": [
              "10"
            ]
          },
          "metadata": {},
          "execution_count": 134
        }
      ],
      "source": [
        "sum(df_abstracts['id'].value_counts() > 400)"
      ]
    },
    {
      "cell_type": "code",
      "source": [
        "df_mad.groupby(['abstract_bool', 'SENSITIVE']).size().reset_index(name='n')"
      ],
      "metadata": {
        "colab": {
          "base_uri": "https://localhost:8080/",
          "height": 175
        },
        "id": "D1dZ_8MnejSh",
        "outputId": "4cab7956-ef35-4f47-df56-febcc3f24f16"
      },
      "id": "D1dZ_8MnejSh",
      "execution_count": null,
      "outputs": [
        {
          "output_type": "execute_result",
          "data": {
            "text/plain": [
              "   abstract_bool  SENSITIVE     n\n",
              "0          False      False  2264\n",
              "1          False       True   918\n",
              "2           True      False   793\n",
              "3           True       True   762"
            ],
            "text/html": [
              "\n",
              "  <div id=\"df-9545b62b-323c-4d4c-ab59-ae7166987990\">\n",
              "    <div class=\"colab-df-container\">\n",
              "      <div>\n",
              "<style scoped>\n",
              "    .dataframe tbody tr th:only-of-type {\n",
              "        vertical-align: middle;\n",
              "    }\n",
              "\n",
              "    .dataframe tbody tr th {\n",
              "        vertical-align: top;\n",
              "    }\n",
              "\n",
              "    .dataframe thead th {\n",
              "        text-align: right;\n",
              "    }\n",
              "</style>\n",
              "<table border=\"1\" class=\"dataframe\">\n",
              "  <thead>\n",
              "    <tr style=\"text-align: right;\">\n",
              "      <th></th>\n",
              "      <th>abstract_bool</th>\n",
              "      <th>SENSITIVE</th>\n",
              "      <th>n</th>\n",
              "    </tr>\n",
              "  </thead>\n",
              "  <tbody>\n",
              "    <tr>\n",
              "      <th>0</th>\n",
              "      <td>False</td>\n",
              "      <td>False</td>\n",
              "      <td>2264</td>\n",
              "    </tr>\n",
              "    <tr>\n",
              "      <th>1</th>\n",
              "      <td>False</td>\n",
              "      <td>True</td>\n",
              "      <td>918</td>\n",
              "    </tr>\n",
              "    <tr>\n",
              "      <th>2</th>\n",
              "      <td>True</td>\n",
              "      <td>False</td>\n",
              "      <td>793</td>\n",
              "    </tr>\n",
              "    <tr>\n",
              "      <th>3</th>\n",
              "      <td>True</td>\n",
              "      <td>True</td>\n",
              "      <td>762</td>\n",
              "    </tr>\n",
              "  </tbody>\n",
              "</table>\n",
              "</div>\n",
              "      <button class=\"colab-df-convert\" onclick=\"convertToInteractive('df-9545b62b-323c-4d4c-ab59-ae7166987990')\"\n",
              "              title=\"Convert this dataframe to an interactive table.\"\n",
              "              style=\"display:none;\">\n",
              "        \n",
              "  <svg xmlns=\"http://www.w3.org/2000/svg\" height=\"24px\"viewBox=\"0 0 24 24\"\n",
              "       width=\"24px\">\n",
              "    <path d=\"M0 0h24v24H0V0z\" fill=\"none\"/>\n",
              "    <path d=\"M18.56 5.44l.94 2.06.94-2.06 2.06-.94-2.06-.94-.94-2.06-.94 2.06-2.06.94zm-11 1L8.5 8.5l.94-2.06 2.06-.94-2.06-.94L8.5 2.5l-.94 2.06-2.06.94zm10 10l.94 2.06.94-2.06 2.06-.94-2.06-.94-.94-2.06-.94 2.06-2.06.94z\"/><path d=\"M17.41 7.96l-1.37-1.37c-.4-.4-.92-.59-1.43-.59-.52 0-1.04.2-1.43.59L10.3 9.45l-7.72 7.72c-.78.78-.78 2.05 0 2.83L4 21.41c.39.39.9.59 1.41.59.51 0 1.02-.2 1.41-.59l7.78-7.78 2.81-2.81c.8-.78.8-2.07 0-2.86zM5.41 20L4 18.59l7.72-7.72 1.47 1.35L5.41 20z\"/>\n",
              "  </svg>\n",
              "      </button>\n",
              "      \n",
              "  <style>\n",
              "    .colab-df-container {\n",
              "      display:flex;\n",
              "      flex-wrap:wrap;\n",
              "      gap: 12px;\n",
              "    }\n",
              "\n",
              "    .colab-df-convert {\n",
              "      background-color: #E8F0FE;\n",
              "      border: none;\n",
              "      border-radius: 50%;\n",
              "      cursor: pointer;\n",
              "      display: none;\n",
              "      fill: #1967D2;\n",
              "      height: 32px;\n",
              "      padding: 0 0 0 0;\n",
              "      width: 32px;\n",
              "    }\n",
              "\n",
              "    .colab-df-convert:hover {\n",
              "      background-color: #E2EBFA;\n",
              "      box-shadow: 0px 1px 2px rgba(60, 64, 67, 0.3), 0px 1px 3px 1px rgba(60, 64, 67, 0.15);\n",
              "      fill: #174EA6;\n",
              "    }\n",
              "\n",
              "    [theme=dark] .colab-df-convert {\n",
              "      background-color: #3B4455;\n",
              "      fill: #D2E3FC;\n",
              "    }\n",
              "\n",
              "    [theme=dark] .colab-df-convert:hover {\n",
              "      background-color: #434B5C;\n",
              "      box-shadow: 0px 1px 3px 1px rgba(0, 0, 0, 0.15);\n",
              "      filter: drop-shadow(0px 1px 2px rgba(0, 0, 0, 0.3));\n",
              "      fill: #FFFFFF;\n",
              "    }\n",
              "  </style>\n",
              "\n",
              "      <script>\n",
              "        const buttonEl =\n",
              "          document.querySelector('#df-9545b62b-323c-4d4c-ab59-ae7166987990 button.colab-df-convert');\n",
              "        buttonEl.style.display =\n",
              "          google.colab.kernel.accessAllowed ? 'block' : 'none';\n",
              "\n",
              "        async function convertToInteractive(key) {\n",
              "          const element = document.querySelector('#df-9545b62b-323c-4d4c-ab59-ae7166987990');\n",
              "          const dataTable =\n",
              "            await google.colab.kernel.invokeFunction('convertToInteractive',\n",
              "                                                     [key], {});\n",
              "          if (!dataTable) return;\n",
              "\n",
              "          const docLinkHtml = 'Like what you see? Visit the ' +\n",
              "            '<a target=\"_blank\" href=https://colab.research.google.com/notebooks/data_table.ipynb>data table notebook</a>'\n",
              "            + ' to learn more about interactive tables.';\n",
              "          element.innerHTML = '';\n",
              "          dataTable['output_type'] = 'display_data';\n",
              "          await google.colab.output.renderOutput(dataTable, element);\n",
              "          const docLink = document.createElement('div');\n",
              "          docLink.innerHTML = docLinkHtml;\n",
              "          element.appendChild(docLink);\n",
              "        }\n",
              "      </script>\n",
              "    </div>\n",
              "  </div>\n",
              "  "
            ]
          },
          "metadata": {},
          "execution_count": 117
        }
      ]
    },
    {
      "cell_type": "code",
      "execution_count": null,
      "id": "431fed6c",
      "metadata": {
        "id": "431fed6c"
      },
      "outputs": [],
      "source": [
        "## distribution of sensitivity by abstract for stacked bar chart\n",
        "df_count = df_mad.groupby(['abstract_bool', 'SENSITIVE']).size().reset_index(name='n')\n",
        "vals = [('Total', False, df_mad['SENSITIVE'].value_counts()[0]), \n",
        "        ('Total', True, df_mad['SENSITIVE'].value_counts()[1])]\n",
        "df_add = pd.DataFrame(vals, columns=df_count.columns)\n",
        "df_count = df_count.append(df_add, ignore_index = True)\n",
        "df_count = df_count.pivot(index='abstract_bool', columns='SENSITIVE', values='n')"
      ]
    },
    {
      "cell_type": "code",
      "source": [
        "df_count.div(df_count.sum(axis=1), axis=0)"
      ],
      "metadata": {
        "colab": {
          "base_uri": "https://localhost:8080/",
          "height": 175
        },
        "id": "tow3RlLRwupI",
        "outputId": "0c4586ee-64b5-4432-99eb-4cf4d5cfee69"
      },
      "id": "tow3RlLRwupI",
      "execution_count": null,
      "outputs": [
        {
          "output_type": "execute_result",
          "data": {
            "text/plain": [
              "SENSITIVE         False      True\n",
              "abstract_bool                    \n",
              "False          0.903834  0.096166\n",
              "True           0.743408  0.256592\n",
              "Total          0.851172  0.148828"
            ],
            "text/html": [
              "\n",
              "  <div id=\"df-ceb65f3f-616a-45c8-aafb-9835192de1d1\">\n",
              "    <div class=\"colab-df-container\">\n",
              "      <div>\n",
              "<style scoped>\n",
              "    .dataframe tbody tr th:only-of-type {\n",
              "        vertical-align: middle;\n",
              "    }\n",
              "\n",
              "    .dataframe tbody tr th {\n",
              "        vertical-align: top;\n",
              "    }\n",
              "\n",
              "    .dataframe thead th {\n",
              "        text-align: right;\n",
              "    }\n",
              "</style>\n",
              "<table border=\"1\" class=\"dataframe\">\n",
              "  <thead>\n",
              "    <tr style=\"text-align: right;\">\n",
              "      <th>SENSITIVE</th>\n",
              "      <th>False</th>\n",
              "      <th>True</th>\n",
              "    </tr>\n",
              "    <tr>\n",
              "      <th>abstract_bool</th>\n",
              "      <th></th>\n",
              "      <th></th>\n",
              "    </tr>\n",
              "  </thead>\n",
              "  <tbody>\n",
              "    <tr>\n",
              "      <th>False</th>\n",
              "      <td>0.903834</td>\n",
              "      <td>0.096166</td>\n",
              "    </tr>\n",
              "    <tr>\n",
              "      <th>True</th>\n",
              "      <td>0.743408</td>\n",
              "      <td>0.256592</td>\n",
              "    </tr>\n",
              "    <tr>\n",
              "      <th>Total</th>\n",
              "      <td>0.851172</td>\n",
              "      <td>0.148828</td>\n",
              "    </tr>\n",
              "  </tbody>\n",
              "</table>\n",
              "</div>\n",
              "      <button class=\"colab-df-convert\" onclick=\"convertToInteractive('df-ceb65f3f-616a-45c8-aafb-9835192de1d1')\"\n",
              "              title=\"Convert this dataframe to an interactive table.\"\n",
              "              style=\"display:none;\">\n",
              "        \n",
              "  <svg xmlns=\"http://www.w3.org/2000/svg\" height=\"24px\"viewBox=\"0 0 24 24\"\n",
              "       width=\"24px\">\n",
              "    <path d=\"M0 0h24v24H0V0z\" fill=\"none\"/>\n",
              "    <path d=\"M18.56 5.44l.94 2.06.94-2.06 2.06-.94-2.06-.94-.94-2.06-.94 2.06-2.06.94zm-11 1L8.5 8.5l.94-2.06 2.06-.94-2.06-.94L8.5 2.5l-.94 2.06-2.06.94zm10 10l.94 2.06.94-2.06 2.06-.94-2.06-.94-.94-2.06-.94 2.06-2.06.94z\"/><path d=\"M17.41 7.96l-1.37-1.37c-.4-.4-.92-.59-1.43-.59-.52 0-1.04.2-1.43.59L10.3 9.45l-7.72 7.72c-.78.78-.78 2.05 0 2.83L4 21.41c.39.39.9.59 1.41.59.51 0 1.02-.2 1.41-.59l7.78-7.78 2.81-2.81c.8-.78.8-2.07 0-2.86zM5.41 20L4 18.59l7.72-7.72 1.47 1.35L5.41 20z\"/>\n",
              "  </svg>\n",
              "      </button>\n",
              "      \n",
              "  <style>\n",
              "    .colab-df-container {\n",
              "      display:flex;\n",
              "      flex-wrap:wrap;\n",
              "      gap: 12px;\n",
              "    }\n",
              "\n",
              "    .colab-df-convert {\n",
              "      background-color: #E8F0FE;\n",
              "      border: none;\n",
              "      border-radius: 50%;\n",
              "      cursor: pointer;\n",
              "      display: none;\n",
              "      fill: #1967D2;\n",
              "      height: 32px;\n",
              "      padding: 0 0 0 0;\n",
              "      width: 32px;\n",
              "    }\n",
              "\n",
              "    .colab-df-convert:hover {\n",
              "      background-color: #E2EBFA;\n",
              "      box-shadow: 0px 1px 2px rgba(60, 64, 67, 0.3), 0px 1px 3px 1px rgba(60, 64, 67, 0.15);\n",
              "      fill: #174EA6;\n",
              "    }\n",
              "\n",
              "    [theme=dark] .colab-df-convert {\n",
              "      background-color: #3B4455;\n",
              "      fill: #D2E3FC;\n",
              "    }\n",
              "\n",
              "    [theme=dark] .colab-df-convert:hover {\n",
              "      background-color: #434B5C;\n",
              "      box-shadow: 0px 1px 3px 1px rgba(0, 0, 0, 0.15);\n",
              "      filter: drop-shadow(0px 1px 2px rgba(0, 0, 0, 0.3));\n",
              "      fill: #FFFFFF;\n",
              "    }\n",
              "  </style>\n",
              "\n",
              "      <script>\n",
              "        const buttonEl =\n",
              "          document.querySelector('#df-ceb65f3f-616a-45c8-aafb-9835192de1d1 button.colab-df-convert');\n",
              "        buttonEl.style.display =\n",
              "          google.colab.kernel.accessAllowed ? 'block' : 'none';\n",
              "\n",
              "        async function convertToInteractive(key) {\n",
              "          const element = document.querySelector('#df-ceb65f3f-616a-45c8-aafb-9835192de1d1');\n",
              "          const dataTable =\n",
              "            await google.colab.kernel.invokeFunction('convertToInteractive',\n",
              "                                                     [key], {});\n",
              "          if (!dataTable) return;\n",
              "\n",
              "          const docLinkHtml = 'Like what you see? Visit the ' +\n",
              "            '<a target=\"_blank\" href=https://colab.research.google.com/notebooks/data_table.ipynb>data table notebook</a>'\n",
              "            + ' to learn more about interactive tables.';\n",
              "          element.innerHTML = '';\n",
              "          dataTable['output_type'] = 'display_data';\n",
              "          await google.colab.output.renderOutput(dataTable, element);\n",
              "          const docLink = document.createElement('div');\n",
              "          docLink.innerHTML = docLinkHtml;\n",
              "          element.appendChild(docLink);\n",
              "        }\n",
              "      </script>\n",
              "    </div>\n",
              "  </div>\n",
              "  "
            ]
          },
          "metadata": {},
          "execution_count": 143
        }
      ]
    },
    {
      "cell_type": "code",
      "source": [
        "df_count"
      ],
      "metadata": {
        "colab": {
          "base_uri": "https://localhost:8080/",
          "height": 175
        },
        "id": "l4_v4X_Ox0fA",
        "outputId": "8651eea9-ba79-4cc4-e984-da9e566f7398"
      },
      "id": "l4_v4X_Ox0fA",
      "execution_count": null,
      "outputs": [
        {
          "output_type": "execute_result",
          "data": {
            "text/plain": [
              "SENSITIVE      False  True\n",
              "abstract_bool             \n",
              "False           2264   918\n",
              "True             793   762\n",
              "Total           3057  1680"
            ],
            "text/html": [
              "\n",
              "  <div id=\"df-994d56ab-2bb6-495d-8949-ad15ef9ed7f3\">\n",
              "    <div class=\"colab-df-container\">\n",
              "      <div>\n",
              "<style scoped>\n",
              "    .dataframe tbody tr th:only-of-type {\n",
              "        vertical-align: middle;\n",
              "    }\n",
              "\n",
              "    .dataframe tbody tr th {\n",
              "        vertical-align: top;\n",
              "    }\n",
              "\n",
              "    .dataframe thead th {\n",
              "        text-align: right;\n",
              "    }\n",
              "</style>\n",
              "<table border=\"1\" class=\"dataframe\">\n",
              "  <thead>\n",
              "    <tr style=\"text-align: right;\">\n",
              "      <th>SENSITIVE</th>\n",
              "      <th>False</th>\n",
              "      <th>True</th>\n",
              "    </tr>\n",
              "    <tr>\n",
              "      <th>abstract_bool</th>\n",
              "      <th></th>\n",
              "      <th></th>\n",
              "    </tr>\n",
              "  </thead>\n",
              "  <tbody>\n",
              "    <tr>\n",
              "      <th>False</th>\n",
              "      <td>2264</td>\n",
              "      <td>918</td>\n",
              "    </tr>\n",
              "    <tr>\n",
              "      <th>True</th>\n",
              "      <td>793</td>\n",
              "      <td>762</td>\n",
              "    </tr>\n",
              "    <tr>\n",
              "      <th>Total</th>\n",
              "      <td>3057</td>\n",
              "      <td>1680</td>\n",
              "    </tr>\n",
              "  </tbody>\n",
              "</table>\n",
              "</div>\n",
              "      <button class=\"colab-df-convert\" onclick=\"convertToInteractive('df-994d56ab-2bb6-495d-8949-ad15ef9ed7f3')\"\n",
              "              title=\"Convert this dataframe to an interactive table.\"\n",
              "              style=\"display:none;\">\n",
              "        \n",
              "  <svg xmlns=\"http://www.w3.org/2000/svg\" height=\"24px\"viewBox=\"0 0 24 24\"\n",
              "       width=\"24px\">\n",
              "    <path d=\"M0 0h24v24H0V0z\" fill=\"none\"/>\n",
              "    <path d=\"M18.56 5.44l.94 2.06.94-2.06 2.06-.94-2.06-.94-.94-2.06-.94 2.06-2.06.94zm-11 1L8.5 8.5l.94-2.06 2.06-.94-2.06-.94L8.5 2.5l-.94 2.06-2.06.94zm10 10l.94 2.06.94-2.06 2.06-.94-2.06-.94-.94-2.06-.94 2.06-2.06.94z\"/><path d=\"M17.41 7.96l-1.37-1.37c-.4-.4-.92-.59-1.43-.59-.52 0-1.04.2-1.43.59L10.3 9.45l-7.72 7.72c-.78.78-.78 2.05 0 2.83L4 21.41c.39.39.9.59 1.41.59.51 0 1.02-.2 1.41-.59l7.78-7.78 2.81-2.81c.8-.78.8-2.07 0-2.86zM5.41 20L4 18.59l7.72-7.72 1.47 1.35L5.41 20z\"/>\n",
              "  </svg>\n",
              "      </button>\n",
              "      \n",
              "  <style>\n",
              "    .colab-df-container {\n",
              "      display:flex;\n",
              "      flex-wrap:wrap;\n",
              "      gap: 12px;\n",
              "    }\n",
              "\n",
              "    .colab-df-convert {\n",
              "      background-color: #E8F0FE;\n",
              "      border: none;\n",
              "      border-radius: 50%;\n",
              "      cursor: pointer;\n",
              "      display: none;\n",
              "      fill: #1967D2;\n",
              "      height: 32px;\n",
              "      padding: 0 0 0 0;\n",
              "      width: 32px;\n",
              "    }\n",
              "\n",
              "    .colab-df-convert:hover {\n",
              "      background-color: #E2EBFA;\n",
              "      box-shadow: 0px 1px 2px rgba(60, 64, 67, 0.3), 0px 1px 3px 1px rgba(60, 64, 67, 0.15);\n",
              "      fill: #174EA6;\n",
              "    }\n",
              "\n",
              "    [theme=dark] .colab-df-convert {\n",
              "      background-color: #3B4455;\n",
              "      fill: #D2E3FC;\n",
              "    }\n",
              "\n",
              "    [theme=dark] .colab-df-convert:hover {\n",
              "      background-color: #434B5C;\n",
              "      box-shadow: 0px 1px 3px 1px rgba(0, 0, 0, 0.15);\n",
              "      filter: drop-shadow(0px 1px 2px rgba(0, 0, 0, 0.3));\n",
              "      fill: #FFFFFF;\n",
              "    }\n",
              "  </style>\n",
              "\n",
              "      <script>\n",
              "        const buttonEl =\n",
              "          document.querySelector('#df-994d56ab-2bb6-495d-8949-ad15ef9ed7f3 button.colab-df-convert');\n",
              "        buttonEl.style.display =\n",
              "          google.colab.kernel.accessAllowed ? 'block' : 'none';\n",
              "\n",
              "        async function convertToInteractive(key) {\n",
              "          const element = document.querySelector('#df-994d56ab-2bb6-495d-8949-ad15ef9ed7f3');\n",
              "          const dataTable =\n",
              "            await google.colab.kernel.invokeFunction('convertToInteractive',\n",
              "                                                     [key], {});\n",
              "          if (!dataTable) return;\n",
              "\n",
              "          const docLinkHtml = 'Like what you see? Visit the ' +\n",
              "            '<a target=\"_blank\" href=https://colab.research.google.com/notebooks/data_table.ipynb>data table notebook</a>'\n",
              "            + ' to learn more about interactive tables.';\n",
              "          element.innerHTML = '';\n",
              "          dataTable['output_type'] = 'display_data';\n",
              "          await google.colab.output.renderOutput(dataTable, element);\n",
              "          const docLink = document.createElement('div');\n",
              "          docLink.innerHTML = docLinkHtml;\n",
              "          element.appendChild(docLink);\n",
              "        }\n",
              "      </script>\n",
              "    </div>\n",
              "  </div>\n",
              "  "
            ]
          },
          "metadata": {},
          "execution_count": 121
        }
      ]
    },
    {
      "cell_type": "code",
      "source": [
        "sum(df_abstracts['SENSITIVE']) / len(df_abstracts['SENSITIVE'])"
      ],
      "metadata": {
        "colab": {
          "base_uri": "https://localhost:8080/"
        },
        "id": "O1N8Feq8n7MZ",
        "outputId": "fee25a48-81fb-4e1b-fde0-3292e65fa4bc"
      },
      "id": "O1N8Feq8n7MZ",
      "execution_count": null,
      "outputs": [
        {
          "output_type": "execute_result",
          "data": {
            "text/plain": [
              "0.4060477329363951"
            ]
          },
          "metadata": {},
          "execution_count": 146
        }
      ]
    },
    {
      "cell_type": "code",
      "source": [
        "n_list = [256, 512]\n",
        "for n in n_list:\n",
        "  no_greater = sum([len(i.split(' ')) > n for i in df_abstracts['abstract']])\n",
        "  perc_greater = no_greater / len(df_abstracts['abstract'])\n",
        "  print(f'{no_greater:} abstracts ({perc_greater:1.5%}) > {n:} tokens')\n",
        "  print()"
      ],
      "metadata": {
        "colab": {
          "base_uri": "https://localhost:8080/"
        },
        "id": "URuXbRvS2KUs",
        "outputId": "5b66abea-55f0-4405-b0fb-ffdbfae551c5"
      },
      "id": "URuXbRvS2KUs",
      "execution_count": null,
      "outputs": [
        {
          "output_type": "stream",
          "name": "stdout",
          "text": [
            "14874 abstracts (24.87665%) > 256 tokens\n",
            "\n",
            "338 abstracts (0.56530%) > 512 tokens\n",
            "\n"
          ]
        }
      ]
    },
    {
      "cell_type": "code",
      "source": [
        "df_abstracts['set'].value_counts()"
      ],
      "metadata": {
        "colab": {
          "base_uri": "https://localhost:8080/"
        },
        "id": "qfHuFQ3zuIcM",
        "outputId": "e8bad764-1d7c-4dfe-e1de-9c6bdd747ba7"
      },
      "id": "qfHuFQ3zuIcM",
      "execution_count": 47,
      "outputs": [
        {
          "output_type": "execute_result",
          "data": {
            "text/plain": [
              "train         43431\n",
              "test           8225\n",
              "validation     8135\n",
              "Name: set, dtype: int64"
            ]
          },
          "metadata": {},
          "execution_count": 47
        }
      ]
    },
    {
      "cell_type": "code",
      "source": [
        "df_abstracts['set'].value_counts() / len(df_abstracts['set'])"
      ],
      "metadata": {
        "colab": {
          "base_uri": "https://localhost:8080/"
        },
        "id": "C23Q0OaxuUXj",
        "outputId": "bdb190ad-c2e8-42d3-d88b-9aff8d6e4113"
      },
      "id": "C23Q0OaxuUXj",
      "execution_count": 48,
      "outputs": [
        {
          "output_type": "execute_result",
          "data": {
            "text/plain": [
              "train         0.726380\n",
              "test          0.137563\n",
              "validation    0.136057\n",
              "Name: set, dtype: float64"
            ]
          },
          "metadata": {},
          "execution_count": 48
        }
      ]
    },
    {
      "cell_type": "markdown",
      "source": [
        "# Baseline Results"
      ],
      "metadata": {
        "id": "BjA5LMEbIO5Z"
      },
      "id": "BjA5LMEbIO5Z"
    },
    {
      "cell_type": "code",
      "source": [
        "list_acc, list_f1 = run_baseline(df_mad, seed)"
      ],
      "metadata": {
        "id": "1UHo3a50xlPD"
      },
      "id": "1UHo3a50xlPD",
      "execution_count": null,
      "outputs": []
    },
    {
      "cell_type": "code",
      "source": [
        "np.mean(list_f1)"
      ],
      "metadata": {
        "colab": {
          "base_uri": "https://localhost:8080/"
        },
        "id": "Evk8jp023g48",
        "outputId": "3850675b-977d-40f5-9c8c-e681dd24744f"
      },
      "id": "Evk8jp023g48",
      "execution_count": null,
      "outputs": [
        {
          "output_type": "execute_result",
          "data": {
            "text/plain": [
              "0.2566040100250626"
            ]
          },
          "metadata": {},
          "execution_count": 13
        }
      ]
    },
    {
      "cell_type": "code",
      "source": [
        "np.mean(list_acc)"
      ],
      "metadata": {
        "colab": {
          "base_uri": "https://localhost:8080/"
        },
        "id": "6Kml9m9i0r7-",
        "outputId": "334da32f-1647-49de-ff5b-78bda501c7b6"
      },
      "id": "6Kml9m9i0r7-",
      "execution_count": null,
      "outputs": [
        {
          "output_type": "execute_result",
          "data": {
            "text/plain": [
              "0.3814983922829582"
            ]
          },
          "metadata": {},
          "execution_count": 14
        }
      ]
    },
    {
      "cell_type": "code",
      "execution_count": null,
      "id": "516ddf73",
      "metadata": {
        "colab": {
          "base_uri": "https://localhost:8080/",
          "height": 279
        },
        "id": "516ddf73",
        "outputId": "ae5bdb4f-1d18-4665-cc4f-2c5969344e7c"
      },
      "outputs": [
        {
          "output_type": "display_data",
          "data": {
            "text/plain": [
              "<Figure size 432x288 with 1 Axes>"
            ],
            "image/png": "[encoded data removed]"
          },
          "metadata": {
            "needs_background": "light"
          }
        }
      ],
      "source": [
        "plt.hist(list_acc, alpha=0.5, );\n",
        "plt.vlines(np.mean(list_acc), ymin=0, ymax=280, \n",
        "           color='r', linestyles='dashed');\n",
        "plt.savefig('images/baseline_hist.png');\n",
        "plt.xlabel('Accuracy');\n",
        "plt.ylabel('Count');"
      ]
    },
    {
      "cell_type": "markdown",
      "source": [
        "# Compare Results"
      ],
      "metadata": {
        "id": "DEFMVpkzNso-"
      },
      "id": "DEFMVpkzNso-"
    },
    {
      "cell_type": "code",
      "source": [
        "path_metric = '/content/drive/My Drive/nlu_project/assets/metrics'"
      ],
      "metadata": {
        "id": "gmhk5Rc_Nrrd"
      },
      "id": "gmhk5Rc_Nrrd",
      "execution_count": 12,
      "outputs": []
    },
    {
      "cell_type": "code",
      "source": [
        "def aggregate_metrics(path):\n",
        "  metric_list = os.listdir(path)\n",
        "  # print(metric_list)\n",
        "\n",
        "  df_eval = pd.DataFrame()\n",
        "  df_train = pd.DataFrame()\n",
        "  df_summary = pd.DataFrame()\n",
        "\n",
        "  for metric in metric_list:\n",
        "    ## get relevant file\n",
        "    df = pd.read_csv(path + '/' + metric)\n",
        "\n",
        "    ## extract file source info\n",
        "    source = metric.split('_df')[0]\n",
        "    df['source'] = source\n",
        "\n",
        "    ## add to relevant dataframe\n",
        "    if 'summary' in metric:\n",
        "      df_summary = pd.concat([df_summary, df], ignore_index=True)\n",
        "    if 'eval' in metric:\n",
        "      df_eval = pd.concat([df_eval, df], ignore_index=True)\n",
        "    if 'train' in metric:\n",
        "      df_train = pd.concat([df_train, df], ignore_index=True)\n",
        "\n",
        "  dfs = [df_summary, df_eval, df_train]\n",
        "  for df in dfs:\n",
        "      # df['model'] = [i[0] for i in list(df_train['source'].str.split('_'))]\n",
        "      df['model'] = df['source'].apply(lambda x: x.split('_')[0])    \n",
        "      df['max_length'] = df['source'].apply(lambda x: int(x.split('_')[1]))\n",
        "      df.sort_values('max_length').sort_values('model', inplace=True)\n",
        "\n",
        "  # # df_train['model'] = [i[0] for i in list(df_train['source'].str.split('_'))]\n",
        "  # df_train['model'] = df_train['source'].apply(lambda x: x.split('_')[0])\n",
        "  # df_train['max_length'] = df_train['source'].apply(lambda x: int(x.split('_')[1]))\n",
        "\n",
        "  # df_summary['model'] = df_eval['source'].apply(lambda x: x.split('_')[0])\n",
        "  # df_eval['model'] = df_eval['source'].apply(lambda x: x.split('_')[0])\n",
        "  # df_eval['max_length'] = df_eval['source'].apply(lambda x: int(x.split('_')[1]))\n",
        "\n",
        "  return df_summary, df_eval, df_train"
      ],
      "metadata": {
        "id": "cqDLJlNoRFcp"
      },
      "id": "cqDLJlNoRFcp",
      "execution_count": 30,
      "outputs": []
    },
    {
      "cell_type": "code",
      "source": [
        "df_summary, df_eval, df_train = aggregate_metrics(path_metric)"
      ],
      "metadata": {
        "id": "_KzrZkV5WT5c"
      },
      "id": "_KzrZkV5WT5c",
      "execution_count": 31,
      "outputs": []
    },
    {
      "cell_type": "code",
      "source": [
        "df_summary"
      ],
      "metadata": {
        "colab": {
          "base_uri": "https://localhost:8080/",
          "height": 300
        },
        "id": "IK4OuOWnTEMf",
        "outputId": "765302ec-00e2-4c2d-a370-16a7eefd7ab7"
      },
      "id": "IK4OuOWnTEMf",
      "execution_count": 49,
      "outputs": [
        {
          "output_type": "execute_result",
          "data": {
            "text/plain": [
              "   train_runtime  train_samples_per_second  train_steps_per_second  \\\n",
              "0      6703.4985                    19.437                   1.215   \n",
              "1     10549.1691                    12.351                   0.772   \n",
              "2      4998.7232                    26.065                   1.629   \n",
              "3     10520.4564                    12.385                   0.774   \n",
              "4      5021.4719                    25.947                   1.622   \n",
              "5      7347.1354                    17.734                   1.109   \n",
              "6      4359.0681                    29.890                   1.869   \n",
              "7      4949.5141                    26.324                   1.646   \n",
              "\n",
              "     total_flos  train_loss  epoch  step                             source  \\\n",
              "0  3.428153e+16    0.154162    3.0  8145        BlueBERT_512_3_16_1e-05_0.1   \n",
              "1  3.428153e+16    0.270611    3.0  8145         BioBERT_512_3_16_1e-05_0.1   \n",
              "2  1.714076e+16    0.334190    3.0  8145         BioBERT_256_3_16_1e-05_0.1   \n",
              "3  3.428153e+16    0.269285    3.0  8145         SciBERT_512_3_16_1e-05_0.1   \n",
              "4  1.714076e+16    0.302066    3.0  8145         SciBERT_256_3_16_1e-05_0.1   \n",
              "5  3.428153e+16    0.174605    3.0  8145  BioMed-RoBERTa_512_3_16_1e-05_0.1   \n",
              "6  1.714076e+16    0.276955    3.0  8145  BioMed-RoBERTa_256_3_16_1e-05_0.1   \n",
              "7  1.714076e+16    0.340362    3.0  8145        BlueBERT_256_3_16_1e-05_0.1   \n",
              "\n",
              "            model  max_length  \n",
              "0        BlueBERT         512  \n",
              "1         BioBERT         512  \n",
              "2         BioBERT         256  \n",
              "3         SciBERT         512  \n",
              "4         SciBERT         256  \n",
              "5  BioMed-RoBERTa         512  \n",
              "6  BioMed-RoBERTa         256  \n",
              "7        BlueBERT         256  "
            ],
            "text/html": [
              "\n",
              "  <div id=\"df-89c68ca6-988c-47db-b3f8-7f60a728654f\">\n",
              "    <div class=\"colab-df-container\">\n",
              "      <div>\n",
              "<style scoped>\n",
              "    .dataframe tbody tr th:only-of-type {\n",
              "        vertical-align: middle;\n",
              "    }\n",
              "\n",
              "    .dataframe tbody tr th {\n",
              "        vertical-align: top;\n",
              "    }\n",
              "\n",
              "    .dataframe thead th {\n",
              "        text-align: right;\n",
              "    }\n",
              "</style>\n",
              "<table border=\"1\" class=\"dataframe\">\n",
              "  <thead>\n",
              "    <tr style=\"text-align: right;\">\n",
              "      <th></th>\n",
              "      <th>train_runtime</th>\n",
              "      <th>train_samples_per_second</th>\n",
              "      <th>train_steps_per_second</th>\n",
              "      <th>total_flos</th>\n",
              "      <th>train_loss</th>\n",
              "      <th>epoch</th>\n",
              "      <th>step</th>\n",
              "      <th>source</th>\n",
              "      <th>model</th>\n",
              "      <th>max_length</th>\n",
              "    </tr>\n",
              "  </thead>\n",
              "  <tbody>\n",
              "    <tr>\n",
              "      <th>0</th>\n",
              "      <td>6703.4985</td>\n",
              "      <td>19.437</td>\n",
              "      <td>1.215</td>\n",
              "      <td>3.428153e+16</td>\n",
              "      <td>0.154162</td>\n",
              "      <td>3.0</td>\n",
              "      <td>8145</td>\n",
              "      <td>BlueBERT_512_3_16_1e-05_0.1</td>\n",
              "      <td>BlueBERT</td>\n",
              "      <td>512</td>\n",
              "    </tr>\n",
              "    <tr>\n",
              "      <th>1</th>\n",
              "      <td>10549.1691</td>\n",
              "      <td>12.351</td>\n",
              "      <td>0.772</td>\n",
              "      <td>3.428153e+16</td>\n",
              "      <td>0.270611</td>\n",
              "      <td>3.0</td>\n",
              "      <td>8145</td>\n",
              "      <td>BioBERT_512_3_16_1e-05_0.1</td>\n",
              "      <td>BioBERT</td>\n",
              "      <td>512</td>\n",
              "    </tr>\n",
              "    <tr>\n",
              "      <th>2</th>\n",
              "      <td>4998.7232</td>\n",
              "      <td>26.065</td>\n",
              "      <td>1.629</td>\n",
              "      <td>1.714076e+16</td>\n",
              "      <td>0.334190</td>\n",
              "      <td>3.0</td>\n",
              "      <td>8145</td>\n",
              "      <td>BioBERT_256_3_16_1e-05_0.1</td>\n",
              "      <td>BioBERT</td>\n",
              "      <td>256</td>\n",
              "    </tr>\n",
              "    <tr>\n",
              "      <th>3</th>\n",
              "      <td>10520.4564</td>\n",
              "      <td>12.385</td>\n",
              "      <td>0.774</td>\n",
              "      <td>3.428153e+16</td>\n",
              "      <td>0.269285</td>\n",
              "      <td>3.0</td>\n",
              "      <td>8145</td>\n",
              "      <td>SciBERT_512_3_16_1e-05_0.1</td>\n",
              "      <td>SciBERT</td>\n",
              "      <td>512</td>\n",
              "    </tr>\n",
              "    <tr>\n",
              "      <th>4</th>\n",
              "      <td>5021.4719</td>\n",
              "      <td>25.947</td>\n",
              "      <td>1.622</td>\n",
              "      <td>1.714076e+16</td>\n",
              "      <td>0.302066</td>\n",
              "      <td>3.0</td>\n",
              "      <td>8145</td>\n",
              "      <td>SciBERT_256_3_16_1e-05_0.1</td>\n",
              "      <td>SciBERT</td>\n",
              "      <td>256</td>\n",
              "    </tr>\n",
              "    <tr>\n",
              "      <th>5</th>\n",
              "      <td>7347.1354</td>\n",
              "      <td>17.734</td>\n",
              "      <td>1.109</td>\n",
              "      <td>3.428153e+16</td>\n",
              "      <td>0.174605</td>\n",
              "      <td>3.0</td>\n",
              "      <td>8145</td>\n",
              "      <td>BioMed-RoBERTa_512_3_16_1e-05_0.1</td>\n",
              "      <td>BioMed-RoBERTa</td>\n",
              "      <td>512</td>\n",
              "    </tr>\n",
              "    <tr>\n",
              "      <th>6</th>\n",
              "      <td>4359.0681</td>\n",
              "      <td>29.890</td>\n",
              "      <td>1.869</td>\n",
              "      <td>1.714076e+16</td>\n",
              "      <td>0.276955</td>\n",
              "      <td>3.0</td>\n",
              "      <td>8145</td>\n",
              "      <td>BioMed-RoBERTa_256_3_16_1e-05_0.1</td>\n",
              "      <td>BioMed-RoBERTa</td>\n",
              "      <td>256</td>\n",
              "    </tr>\n",
              "    <tr>\n",
              "      <th>7</th>\n",
              "      <td>4949.5141</td>\n",
              "      <td>26.324</td>\n",
              "      <td>1.646</td>\n",
              "      <td>1.714076e+16</td>\n",
              "      <td>0.340362</td>\n",
              "      <td>3.0</td>\n",
              "      <td>8145</td>\n",
              "      <td>BlueBERT_256_3_16_1e-05_0.1</td>\n",
              "      <td>BlueBERT</td>\n",
              "      <td>256</td>\n",
              "    </tr>\n",
              "  </tbody>\n",
              "</table>\n",
              "</div>\n",
              "      <button class=\"colab-df-convert\" onclick=\"convertToInteractive('df-89c68ca6-988c-47db-b3f8-7f60a728654f')\"\n",
              "              title=\"Convert this dataframe to an interactive table.\"\n",
              "              style=\"display:none;\">\n",
              "        \n",
              "  <svg xmlns=\"http://www.w3.org/2000/svg\" height=\"24px\"viewBox=\"0 0 24 24\"\n",
              "       width=\"24px\">\n",
              "    <path d=\"M0 0h24v24H0V0z\" fill=\"none\"/>\n",
              "    <path d=\"M18.56 5.44l.94 2.06.94-2.06 2.06-.94-2.06-.94-.94-2.06-.94 2.06-2.06.94zm-11 1L8.5 8.5l.94-2.06 2.06-.94-2.06-.94L8.5 2.5l-.94 2.06-2.06.94zm10 10l.94 2.06.94-2.06 2.06-.94-2.06-.94-.94-2.06-.94 2.06-2.06.94z\"/><path d=\"M17.41 7.96l-1.37-1.37c-.4-.4-.92-.59-1.43-.59-.52 0-1.04.2-1.43.59L10.3 9.45l-7.72 7.72c-.78.78-.78 2.05 0 2.83L4 21.41c.39.39.9.59 1.41.59.51 0 1.02-.2 1.41-.59l7.78-7.78 2.81-2.81c.8-.78.8-2.07 0-2.86zM5.41 20L4 18.59l7.72-7.72 1.47 1.35L5.41 20z\"/>\n",
              "  </svg>\n",
              "      </button>\n",
              "      \n",
              "  <style>\n",
              "    .colab-df-container {\n",
              "      display:flex;\n",
              "      flex-wrap:wrap;\n",
              "      gap: 12px;\n",
              "    }\n",
              "\n",
              "    .colab-df-convert {\n",
              "      background-color: #E8F0FE;\n",
              "      border: none;\n",
              "      border-radius: 50%;\n",
              "      cursor: pointer;\n",
              "      display: none;\n",
              "      fill: #1967D2;\n",
              "      height: 32px;\n",
              "      padding: 0 0 0 0;\n",
              "      width: 32px;\n",
              "    }\n",
              "\n",
              "    .colab-df-convert:hover {\n",
              "      background-color: #E2EBFA;\n",
              "      box-shadow: 0px 1px 2px rgba(60, 64, 67, 0.3), 0px 1px 3px 1px rgba(60, 64, 67, 0.15);\n",
              "      fill: #174EA6;\n",
              "    }\n",
              "\n",
              "    [theme=dark] .colab-df-convert {\n",
              "      background-color: #3B4455;\n",
              "      fill: #D2E3FC;\n",
              "    }\n",
              "\n",
              "    [theme=dark] .colab-df-convert:hover {\n",
              "      background-color: #434B5C;\n",
              "      box-shadow: 0px 1px 3px 1px rgba(0, 0, 0, 0.15);\n",
              "      filter: drop-shadow(0px 1px 2px rgba(0, 0, 0, 0.3));\n",
              "      fill: #FFFFFF;\n",
              "    }\n",
              "  </style>\n",
              "\n",
              "      <script>\n",
              "        const buttonEl =\n",
              "          document.querySelector('#df-89c68ca6-988c-47db-b3f8-7f60a728654f button.colab-df-convert');\n",
              "        buttonEl.style.display =\n",
              "          google.colab.kernel.accessAllowed ? 'block' : 'none';\n",
              "\n",
              "        async function convertToInteractive(key) {\n",
              "          const element = document.querySelector('#df-89c68ca6-988c-47db-b3f8-7f60a728654f');\n",
              "          const dataTable =\n",
              "            await google.colab.kernel.invokeFunction('convertToInteractive',\n",
              "                                                     [key], {});\n",
              "          if (!dataTable) return;\n",
              "\n",
              "          const docLinkHtml = 'Like what you see? Visit the ' +\n",
              "            '<a target=\"_blank\" href=https://colab.research.google.com/notebooks/data_table.ipynb>data table notebook</a>'\n",
              "            + ' to learn more about interactive tables.';\n",
              "          element.innerHTML = '';\n",
              "          dataTable['output_type'] = 'display_data';\n",
              "          await google.colab.output.renderOutput(dataTable, element);\n",
              "          const docLink = document.createElement('div');\n",
              "          docLink.innerHTML = docLinkHtml;\n",
              "          element.appendChild(docLink);\n",
              "        }\n",
              "      </script>\n",
              "    </div>\n",
              "  </div>\n",
              "  "
            ]
          },
          "metadata": {},
          "execution_count": 49
        }
      ]
    },
    {
      "cell_type": "code",
      "source": [
        "df_summary['runtime_hours'] = df_summary['train_runtime'] / 3600"
      ],
      "metadata": {
        "id": "MI-9szphVmJm"
      },
      "id": "MI-9szphVmJm",
      "execution_count": 67,
      "outputs": []
    },
    {
      "cell_type": "code",
      "source": [
        "ax = sns.boxplot(x='max_length', y='runtime_hours', data=df_summary, color='grey', boxprops=dict(alpha=.5))\n",
        "ax = sns.swarmplot(x='max_length', y='runtime_hours', hue='model', data=df_summary, size=10)\n",
        "ax.set_xlabel('Maximum Token Length')\n",
        "ax.set_ylabel('Training Runtime in Hours')\n",
        "plt.savefig('/content/drive/My Drive/nlu_project/images/runtime.svg');\n",
        "plt.show()"
      ],
      "metadata": {
        "colab": {
          "base_uri": "https://localhost:8080/",
          "height": 281
        },
        "id": "eL8aCmjqKK3P",
        "outputId": "e786542a-6bdf-4100-ecd1-6ed618591887"
      },
      "id": "eL8aCmjqKK3P",
      "execution_count": 68,
      "outputs": [
        {
          "output_type": "display_data",
          "data": {
            "text/plain": [
              "<Figure size 432x288 with 1 Axes>"
            ],
            "image/png": "[encoded data removed]"
          },
          "metadata": {
            "needs_background": "light"
          }
        }
      ]
    },
    {
      "cell_type": "code",
      "source": [
        "df_train.head(10)"
      ],
      "metadata": {
        "colab": {
          "base_uri": "https://localhost:8080/",
          "height": 363
        },
        "id": "smrzpvPdY_Vt",
        "outputId": "a05a204c-e28d-42ec-9969-cc9778cbd32c"
      },
      "id": "smrzpvPdY_Vt",
      "execution_count": 26,
      "outputs": [
        {
          "output_type": "execute_result",
          "data": {
            "text/plain": [
              "   epoch  learning_rate    loss  step                       source     model  \\\n",
              "0   0.04       0.000002  0.7081   100  BlueBERT_512_3_16_1e-05_0.1  BlueBERT   \n",
              "1   0.07       0.000004  0.6702   200  BlueBERT_512_3_16_1e-05_0.1  BlueBERT   \n",
              "2   0.11       0.000006  0.6713   300  BlueBERT_512_3_16_1e-05_0.1  BlueBERT   \n",
              "3   0.15       0.000008  0.6267   400  BlueBERT_512_3_16_1e-05_0.1  BlueBERT   \n",
              "4   0.18       0.000010  0.5314   500  BlueBERT_512_3_16_1e-05_0.1  BlueBERT   \n",
              "5   0.22       0.000010  0.4559   600  BlueBERT_512_3_16_1e-05_0.1  BlueBERT   \n",
              "6   0.26       0.000010  0.3957   700  BlueBERT_512_3_16_1e-05_0.1  BlueBERT   \n",
              "7   0.29       0.000010  0.3586   800  BlueBERT_512_3_16_1e-05_0.1  BlueBERT   \n",
              "8   0.33       0.000009  0.3786   900  BlueBERT_512_3_16_1e-05_0.1  BlueBERT   \n",
              "9   0.37       0.000009  0.3356  1000  BlueBERT_512_3_16_1e-05_0.1  BlueBERT   \n",
              "\n",
              "   max_length  \n",
              "0         512  \n",
              "1         512  \n",
              "2         512  \n",
              "3         512  \n",
              "4         512  \n",
              "5         512  \n",
              "6         512  \n",
              "7         512  \n",
              "8         512  \n",
              "9         512  "
            ],
            "text/html": [
              "\n",
              "  <div id=\"df-49459206-a159-4a4f-a322-c17cea44461c\">\n",
              "    <div class=\"colab-df-container\">\n",
              "      <div>\n",
              "<style scoped>\n",
              "    .dataframe tbody tr th:only-of-type {\n",
              "        vertical-align: middle;\n",
              "    }\n",
              "\n",
              "    .dataframe tbody tr th {\n",
              "        vertical-align: top;\n",
              "    }\n",
              "\n",
              "    .dataframe thead th {\n",
              "        text-align: right;\n",
              "    }\n",
              "</style>\n",
              "<table border=\"1\" class=\"dataframe\">\n",
              "  <thead>\n",
              "    <tr style=\"text-align: right;\">\n",
              "      <th></th>\n",
              "      <th>epoch</th>\n",
              "      <th>learning_rate</th>\n",
              "      <th>loss</th>\n",
              "      <th>step</th>\n",
              "      <th>source</th>\n",
              "      <th>model</th>\n",
              "      <th>max_length</th>\n",
              "    </tr>\n",
              "  </thead>\n",
              "  <tbody>\n",
              "    <tr>\n",
              "      <th>0</th>\n",
              "      <td>0.04</td>\n",
              "      <td>0.000002</td>\n",
              "      <td>0.7081</td>\n",
              "      <td>100</td>\n",
              "      <td>BlueBERT_512_3_16_1e-05_0.1</td>\n",
              "      <td>BlueBERT</td>\n",
              "      <td>512</td>\n",
              "    </tr>\n",
              "    <tr>\n",
              "      <th>1</th>\n",
              "      <td>0.07</td>\n",
              "      <td>0.000004</td>\n",
              "      <td>0.6702</td>\n",
              "      <td>200</td>\n",
              "      <td>BlueBERT_512_3_16_1e-05_0.1</td>\n",
              "      <td>BlueBERT</td>\n",
              "      <td>512</td>\n",
              "    </tr>\n",
              "    <tr>\n",
              "      <th>2</th>\n",
              "      <td>0.11</td>\n",
              "      <td>0.000006</td>\n",
              "      <td>0.6713</td>\n",
              "      <td>300</td>\n",
              "      <td>BlueBERT_512_3_16_1e-05_0.1</td>\n",
              "      <td>BlueBERT</td>\n",
              "      <td>512</td>\n",
              "    </tr>\n",
              "    <tr>\n",
              "      <th>3</th>\n",
              "      <td>0.15</td>\n",
              "      <td>0.000008</td>\n",
              "      <td>0.6267</td>\n",
              "      <td>400</td>\n",
              "      <td>BlueBERT_512_3_16_1e-05_0.1</td>\n",
              "      <td>BlueBERT</td>\n",
              "      <td>512</td>\n",
              "    </tr>\n",
              "    <tr>\n",
              "      <th>4</th>\n",
              "      <td>0.18</td>\n",
              "      <td>0.000010</td>\n",
              "      <td>0.5314</td>\n",
              "      <td>500</td>\n",
              "      <td>BlueBERT_512_3_16_1e-05_0.1</td>\n",
              "      <td>BlueBERT</td>\n",
              "      <td>512</td>\n",
              "    </tr>\n",
              "    <tr>\n",
              "      <th>5</th>\n",
              "      <td>0.22</td>\n",
              "      <td>0.000010</td>\n",
              "      <td>0.4559</td>\n",
              "      <td>600</td>\n",
              "      <td>BlueBERT_512_3_16_1e-05_0.1</td>\n",
              "      <td>BlueBERT</td>\n",
              "      <td>512</td>\n",
              "    </tr>\n",
              "    <tr>\n",
              "      <th>6</th>\n",
              "      <td>0.26</td>\n",
              "      <td>0.000010</td>\n",
              "      <td>0.3957</td>\n",
              "      <td>700</td>\n",
              "      <td>BlueBERT_512_3_16_1e-05_0.1</td>\n",
              "      <td>BlueBERT</td>\n",
              "      <td>512</td>\n",
              "    </tr>\n",
              "    <tr>\n",
              "      <th>7</th>\n",
              "      <td>0.29</td>\n",
              "      <td>0.000010</td>\n",
              "      <td>0.3586</td>\n",
              "      <td>800</td>\n",
              "      <td>BlueBERT_512_3_16_1e-05_0.1</td>\n",
              "      <td>BlueBERT</td>\n",
              "      <td>512</td>\n",
              "    </tr>\n",
              "    <tr>\n",
              "      <th>8</th>\n",
              "      <td>0.33</td>\n",
              "      <td>0.000009</td>\n",
              "      <td>0.3786</td>\n",
              "      <td>900</td>\n",
              "      <td>BlueBERT_512_3_16_1e-05_0.1</td>\n",
              "      <td>BlueBERT</td>\n",
              "      <td>512</td>\n",
              "    </tr>\n",
              "    <tr>\n",
              "      <th>9</th>\n",
              "      <td>0.37</td>\n",
              "      <td>0.000009</td>\n",
              "      <td>0.3356</td>\n",
              "      <td>1000</td>\n",
              "      <td>BlueBERT_512_3_16_1e-05_0.1</td>\n",
              "      <td>BlueBERT</td>\n",
              "      <td>512</td>\n",
              "    </tr>\n",
              "  </tbody>\n",
              "</table>\n",
              "</div>\n",
              "      <button class=\"colab-df-convert\" onclick=\"convertToInteractive('df-49459206-a159-4a4f-a322-c17cea44461c')\"\n",
              "              title=\"Convert this dataframe to an interactive table.\"\n",
              "              style=\"display:none;\">\n",
              "        \n",
              "  <svg xmlns=\"http://www.w3.org/2000/svg\" height=\"24px\"viewBox=\"0 0 24 24\"\n",
              "       width=\"24px\">\n",
              "    <path d=\"M0 0h24v24H0V0z\" fill=\"none\"/>\n",
              "    <path d=\"M18.56 5.44l.94 2.06.94-2.06 2.06-.94-2.06-.94-.94-2.06-.94 2.06-2.06.94zm-11 1L8.5 8.5l.94-2.06 2.06-.94-2.06-.94L8.5 2.5l-.94 2.06-2.06.94zm10 10l.94 2.06.94-2.06 2.06-.94-2.06-.94-.94-2.06-.94 2.06-2.06.94z\"/><path d=\"M17.41 7.96l-1.37-1.37c-.4-.4-.92-.59-1.43-.59-.52 0-1.04.2-1.43.59L10.3 9.45l-7.72 7.72c-.78.78-.78 2.05 0 2.83L4 21.41c.39.39.9.59 1.41.59.51 0 1.02-.2 1.41-.59l7.78-7.78 2.81-2.81c.8-.78.8-2.07 0-2.86zM5.41 20L4 18.59l7.72-7.72 1.47 1.35L5.41 20z\"/>\n",
              "  </svg>\n",
              "      </button>\n",
              "      \n",
              "  <style>\n",
              "    .colab-df-container {\n",
              "      display:flex;\n",
              "      flex-wrap:wrap;\n",
              "      gap: 12px;\n",
              "    }\n",
              "\n",
              "    .colab-df-convert {\n",
              "      background-color: #E8F0FE;\n",
              "      border: none;\n",
              "      border-radius: 50%;\n",
              "      cursor: pointer;\n",
              "      display: none;\n",
              "      fill: #1967D2;\n",
              "      height: 32px;\n",
              "      padding: 0 0 0 0;\n",
              "      width: 32px;\n",
              "    }\n",
              "\n",
              "    .colab-df-convert:hover {\n",
              "      background-color: #E2EBFA;\n",
              "      box-shadow: 0px 1px 2px rgba(60, 64, 67, 0.3), 0px 1px 3px 1px rgba(60, 64, 67, 0.15);\n",
              "      fill: #174EA6;\n",
              "    }\n",
              "\n",
              "    [theme=dark] .colab-df-convert {\n",
              "      background-color: #3B4455;\n",
              "      fill: #D2E3FC;\n",
              "    }\n",
              "\n",
              "    [theme=dark] .colab-df-convert:hover {\n",
              "      background-color: #434B5C;\n",
              "      box-shadow: 0px 1px 3px 1px rgba(0, 0, 0, 0.15);\n",
              "      filter: drop-shadow(0px 1px 2px rgba(0, 0, 0, 0.3));\n",
              "      fill: #FFFFFF;\n",
              "    }\n",
              "  </style>\n",
              "\n",
              "      <script>\n",
              "        const buttonEl =\n",
              "          document.querySelector('#df-49459206-a159-4a4f-a322-c17cea44461c button.colab-df-convert');\n",
              "        buttonEl.style.display =\n",
              "          google.colab.kernel.accessAllowed ? 'block' : 'none';\n",
              "\n",
              "        async function convertToInteractive(key) {\n",
              "          const element = document.querySelector('#df-49459206-a159-4a4f-a322-c17cea44461c');\n",
              "          const dataTable =\n",
              "            await google.colab.kernel.invokeFunction('convertToInteractive',\n",
              "                                                     [key], {});\n",
              "          if (!dataTable) return;\n",
              "\n",
              "          const docLinkHtml = 'Like what you see? Visit the ' +\n",
              "            '<a target=\"_blank\" href=https://colab.research.google.com/notebooks/data_table.ipynb>data table notebook</a>'\n",
              "            + ' to learn more about interactive tables.';\n",
              "          element.innerHTML = '';\n",
              "          dataTable['output_type'] = 'display_data';\n",
              "          await google.colab.output.renderOutput(dataTable, element);\n",
              "          const docLink = document.createElement('div');\n",
              "          docLink.innerHTML = docLinkHtml;\n",
              "          element.appendChild(docLink);\n",
              "        }\n",
              "      </script>\n",
              "    </div>\n",
              "  </div>\n",
              "  "
            ]
          },
          "metadata": {},
          "execution_count": 26
        }
      ]
    },
    {
      "cell_type": "code",
      "source": [
        "n = len(df_train['max_length'].unique())\n",
        "\n",
        "g = sns.FacetGrid(df_train, col='max_length', hue='model', col_wrap=n)\n",
        "g.map(sns.lineplot, 'step', 'loss')\n",
        "g.add_legend()\n",
        "g.set_axis_labels('Step', 'Training Loss')\n",
        "plt.savefig('/content/drive/My Drive/nlu_project/images/train_accuracy.svg');\n",
        "plt.show();"
      ],
      "metadata": {
        "colab": {
          "base_uri": "https://localhost:8080/",
          "height": 225
        },
        "id": "ftDzNJX5Z7n3",
        "outputId": "9f506980-75ef-4034-baee-9ee023af33b8"
      },
      "id": "ftDzNJX5Z7n3",
      "execution_count": 27,
      "outputs": [
        {
          "output_type": "display_data",
          "data": {
            "text/plain": [
              "<Figure size 550.625x216 with 2 Axes>"
            ],
            "image/png": "[encoded data removed]"
          },
          "metadata": {
            "needs_background": "light"
          }
        }
      ]
    },
    {
      "cell_type": "code",
      "source": [
        "g = sns.FacetGrid(df_eval, col='max_length', hue='model', col_wrap=n)\n",
        "g.map(sns.lineplot, 'step', 'eval_accuracy')\n",
        "g.add_legend()\n",
        "g.set_axis_labels('Step', 'Validation Accuracy')\n",
        "plt.savefig('/content/drive/My Drive/nlu_project/images/val_accuracy.svg');\n",
        "plt.show();"
      ],
      "metadata": {
        "colab": {
          "base_uri": "https://localhost:8080/",
          "height": 225
        },
        "id": "GDQKZQ3haTdS",
        "outputId": "b06ee920-af39-45eb-a540-d561d2128caf"
      },
      "id": "GDQKZQ3haTdS",
      "execution_count": 33,
      "outputs": [
        {
          "output_type": "display_data",
          "data": {
            "text/plain": [
              "<Figure size 550.625x216 with 2 Axes>"
            ],
            "image/png": "[encoded data removed]"
          },
          "metadata": {
            "needs_background": "light"
          }
        }
      ]
    },
    {
      "cell_type": "code",
      "source": [
        "g = sns.FacetGrid(df_eval, col='max_length', hue='model', col_wrap=n)\n",
        "g.map(sns.lineplot, 'step', 'eval_f1')\n",
        "g.add_legend()\n",
        "g.set_axis_labels('Step', 'Validation F1')\n",
        "plt.savefig('/content/drive/My Drive/nlu_project/images/val_f1.svg');\n",
        "plt.show();"
      ],
      "metadata": {
        "colab": {
          "base_uri": "https://localhost:8080/",
          "height": 225
        },
        "id": "62lUvfGgchK4",
        "outputId": "1c6047de-b38a-4f4d-8a6c-4564de40c1a7"
      },
      "id": "62lUvfGgchK4",
      "execution_count": 34,
      "outputs": [
        {
          "output_type": "display_data",
          "data": {
            "text/plain": [
              "<Figure size 550.625x216 with 2 Axes>"
            ],
            "image/png": "[encoded data removed]"
          },
          "metadata": {
            "needs_background": "light"
          }
        }
      ]
    },
    {
      "cell_type": "code",
      "source": [
        "model_list = ['BioBERT', 'BioMed-RoBERTa', 'BlueBERT', 'SciBERT']\n",
        "maxlength_list = [512, 256]\n",
        "\n",
        "for maxlength in maxlength_list:\n",
        "  for model in model_list:\n",
        "    f1_max = df_eval.loc[(df_eval['model'] == model) & (df_eval['max_length'] == maxlength), 'eval_f1'].max()\n",
        "    acc_max = df_eval.loc[(df_eval['model'] == model) & (df_eval['max_length'] == maxlength), 'eval_accuracy'].max()\n",
        "\n",
        "    print(f'{model:}, {maxlength:} Accuracy: {acc_max:.3%}')\n",
        "    print(f'{model:}, {maxlength:} F1: {f1_max:.3%}')\n",
        "    print()"
      ],
      "metadata": {
        "colab": {
          "base_uri": "https://localhost:8080/"
        },
        "id": "5froGbFgcpYy",
        "outputId": "9894d7ca-c753-4ae5-9d13-27c0d62f42ad"
      },
      "id": "5froGbFgcpYy",
      "execution_count": 35,
      "outputs": [
        {
          "output_type": "stream",
          "name": "stdout",
          "text": [
            "BioBERT, 512 Accuracy: 81.401%\n",
            "BioBERT, 512 F1: 80.063%\n",
            "\n",
            "BioMed-RoBERTa, 512 Accuracy: 81.832%\n",
            "BioMed-RoBERTa, 512 F1: 80.349%\n",
            "\n",
            "BlueBERT, 512 Accuracy: 81.955%\n",
            "BlueBERT, 512 F1: 80.248%\n",
            "\n",
            "SciBERT, 512 Accuracy: 81.696%\n",
            "SciBERT, 512 F1: 80.253%\n",
            "\n",
            "BioBERT, 256 Accuracy: 78.943%\n",
            "BioBERT, 256 F1: 77.223%\n",
            "\n",
            "BioMed-RoBERTa, 256 Accuracy: 77.873%\n",
            "BioMed-RoBERTa, 256 F1: 75.846%\n",
            "\n",
            "BlueBERT, 256 Accuracy: 77.984%\n",
            "BlueBERT, 256 F1: 75.679%\n",
            "\n",
            "SciBERT, 256 Accuracy: 81.217%\n",
            "SciBERT, 256 F1: 79.866%\n",
            "\n"
          ]
        }
      ]
    },
    {
      "cell_type": "code",
      "source": [
        "df_eval.tail()"
      ],
      "metadata": {
        "id": "6QdMA_ztiYkA",
        "colab": {
          "base_uri": "https://localhost:8080/",
          "height": 206
        },
        "outputId": "b3d9a945-5a76-40f8-c758-fe3add6f9143"
      },
      "id": "6QdMA_ztiYkA",
      "execution_count": 153,
      "outputs": [
        {
          "output_type": "execute_result",
          "data": {
            "text/plain": [
              "     epoch  eval_accuracy   eval_f1  eval_loss  eval_precision  eval_recall  \\\n",
              "643   2.84       0.765950  0.733109   0.581069        0.795074     0.680104   \n",
              "644   2.87       0.766687  0.737192   0.575405        0.788274     0.692328   \n",
              "645   2.91       0.766933  0.738483   0.577278        0.786197     0.696229   \n",
              "646   2.95       0.768162  0.739215   0.579603        0.789194     0.695189   \n",
              "647   2.98       0.769392  0.739661   0.581168        0.792919     0.693108   \n",
              "\n",
              "     eval_runtime  eval_samples_per_second  eval_steps_per_second  step  \\\n",
              "643       36.7052                  221.631                 13.867  7700   \n",
              "644       36.7431                  221.402                 13.853  7800   \n",
              "645       36.6584                  221.914                 13.885  7900   \n",
              "646       36.6767                  221.803                 13.878  8000   \n",
              "647       36.6339                  222.062                 13.894  8100   \n",
              "\n",
              "                          source     model  max_length  \n",
              "643  BlueBERT_256_3_16_1e-05_0.1  BlueBERT         256  \n",
              "644  BlueBERT_256_3_16_1e-05_0.1  BlueBERT         256  \n",
              "645  BlueBERT_256_3_16_1e-05_0.1  BlueBERT         256  \n",
              "646  BlueBERT_256_3_16_1e-05_0.1  BlueBERT         256  \n",
              "647  BlueBERT_256_3_16_1e-05_0.1  BlueBERT         256  "
            ],
            "text/html": [
              "\n",
              "  <div id=\"df-fae5dd1d-a241-4b2d-a225-d6ea82c0bbf2\">\n",
              "    <div class=\"colab-df-container\">\n",
              "      <div>\n",
              "<style scoped>\n",
              "    .dataframe tbody tr th:only-of-type {\n",
              "        vertical-align: middle;\n",
              "    }\n",
              "\n",
              "    .dataframe tbody tr th {\n",
              "        vertical-align: top;\n",
              "    }\n",
              "\n",
              "    .dataframe thead th {\n",
              "        text-align: right;\n",
              "    }\n",
              "</style>\n",
              "<table border=\"1\" class=\"dataframe\">\n",
              "  <thead>\n",
              "    <tr style=\"text-align: right;\">\n",
              "      <th></th>\n",
              "      <th>epoch</th>\n",
              "      <th>eval_accuracy</th>\n",
              "      <th>eval_f1</th>\n",
              "      <th>eval_loss</th>\n",
              "      <th>eval_precision</th>\n",
              "      <th>eval_recall</th>\n",
              "      <th>eval_runtime</th>\n",
              "      <th>eval_samples_per_second</th>\n",
              "      <th>eval_steps_per_second</th>\n",
              "      <th>step</th>\n",
              "      <th>source</th>\n",
              "      <th>model</th>\n",
              "      <th>max_length</th>\n",
              "    </tr>\n",
              "  </thead>\n",
              "  <tbody>\n",
              "    <tr>\n",
              "      <th>643</th>\n",
              "      <td>2.84</td>\n",
              "      <td>0.765950</td>\n",
              "      <td>0.733109</td>\n",
              "      <td>0.581069</td>\n",
              "      <td>0.795074</td>\n",
              "      <td>0.680104</td>\n",
              "      <td>36.7052</td>\n",
              "      <td>221.631</td>\n",
              "      <td>13.867</td>\n",
              "      <td>7700</td>\n",
              "      <td>BlueBERT_256_3_16_1e-05_0.1</td>\n",
              "      <td>BlueBERT</td>\n",
              "      <td>256</td>\n",
              "    </tr>\n",
              "    <tr>\n",
              "      <th>644</th>\n",
              "      <td>2.87</td>\n",
              "      <td>0.766687</td>\n",
              "      <td>0.737192</td>\n",
              "      <td>0.575405</td>\n",
              "      <td>0.788274</td>\n",
              "      <td>0.692328</td>\n",
              "      <td>36.7431</td>\n",
              "      <td>221.402</td>\n",
              "      <td>13.853</td>\n",
              "      <td>7800</td>\n",
              "      <td>BlueBERT_256_3_16_1e-05_0.1</td>\n",
              "      <td>BlueBERT</td>\n",
              "      <td>256</td>\n",
              "    </tr>\n",
              "    <tr>\n",
              "      <th>645</th>\n",
              "      <td>2.91</td>\n",
              "      <td>0.766933</td>\n",
              "      <td>0.738483</td>\n",
              "      <td>0.577278</td>\n",
              "      <td>0.786197</td>\n",
              "      <td>0.696229</td>\n",
              "      <td>36.6584</td>\n",
              "      <td>221.914</td>\n",
              "      <td>13.885</td>\n",
              "      <td>7900</td>\n",
              "      <td>BlueBERT_256_3_16_1e-05_0.1</td>\n",
              "      <td>BlueBERT</td>\n",
              "      <td>256</td>\n",
              "    </tr>\n",
              "    <tr>\n",
              "      <th>646</th>\n",
              "      <td>2.95</td>\n",
              "      <td>0.768162</td>\n",
              "      <td>0.739215</td>\n",
              "      <td>0.579603</td>\n",
              "      <td>0.789194</td>\n",
              "      <td>0.695189</td>\n",
              "      <td>36.6767</td>\n",
              "      <td>221.803</td>\n",
              "      <td>13.878</td>\n",
              "      <td>8000</td>\n",
              "      <td>BlueBERT_256_3_16_1e-05_0.1</td>\n",
              "      <td>BlueBERT</td>\n",
              "      <td>256</td>\n",
              "    </tr>\n",
              "    <tr>\n",
              "      <th>647</th>\n",
              "      <td>2.98</td>\n",
              "      <td>0.769392</td>\n",
              "      <td>0.739661</td>\n",
              "      <td>0.581168</td>\n",
              "      <td>0.792919</td>\n",
              "      <td>0.693108</td>\n",
              "      <td>36.6339</td>\n",
              "      <td>222.062</td>\n",
              "      <td>13.894</td>\n",
              "      <td>8100</td>\n",
              "      <td>BlueBERT_256_3_16_1e-05_0.1</td>\n",
              "      <td>BlueBERT</td>\n",
              "      <td>256</td>\n",
              "    </tr>\n",
              "  </tbody>\n",
              "</table>\n",
              "</div>\n",
              "      <button class=\"colab-df-convert\" onclick=\"convertToInteractive('df-fae5dd1d-a241-4b2d-a225-d6ea82c0bbf2')\"\n",
              "              title=\"Convert this dataframe to an interactive table.\"\n",
              "              style=\"display:none;\">\n",
              "        \n",
              "  <svg xmlns=\"http://www.w3.org/2000/svg\" height=\"24px\"viewBox=\"0 0 24 24\"\n",
              "       width=\"24px\">\n",
              "    <path d=\"M0 0h24v24H0V0z\" fill=\"none\"/>\n",
              "    <path d=\"M18.56 5.44l.94 2.06.94-2.06 2.06-.94-2.06-.94-.94-2.06-.94 2.06-2.06.94zm-11 1L8.5 8.5l.94-2.06 2.06-.94-2.06-.94L8.5 2.5l-.94 2.06-2.06.94zm10 10l.94 2.06.94-2.06 2.06-.94-2.06-.94-.94-2.06-.94 2.06-2.06.94z\"/><path d=\"M17.41 7.96l-1.37-1.37c-.4-.4-.92-.59-1.43-.59-.52 0-1.04.2-1.43.59L10.3 9.45l-7.72 7.72c-.78.78-.78 2.05 0 2.83L4 21.41c.39.39.9.59 1.41.59.51 0 1.02-.2 1.41-.59l7.78-7.78 2.81-2.81c.8-.78.8-2.07 0-2.86zM5.41 20L4 18.59l7.72-7.72 1.47 1.35L5.41 20z\"/>\n",
              "  </svg>\n",
              "      </button>\n",
              "      \n",
              "  <style>\n",
              "    .colab-df-container {\n",
              "      display:flex;\n",
              "      flex-wrap:wrap;\n",
              "      gap: 12px;\n",
              "    }\n",
              "\n",
              "    .colab-df-convert {\n",
              "      background-color: #E8F0FE;\n",
              "      border: none;\n",
              "      border-radius: 50%;\n",
              "      cursor: pointer;\n",
              "      display: none;\n",
              "      fill: #1967D2;\n",
              "      height: 32px;\n",
              "      padding: 0 0 0 0;\n",
              "      width: 32px;\n",
              "    }\n",
              "\n",
              "    .colab-df-convert:hover {\n",
              "      background-color: #E2EBFA;\n",
              "      box-shadow: 0px 1px 2px rgba(60, 64, 67, 0.3), 0px 1px 3px 1px rgba(60, 64, 67, 0.15);\n",
              "      fill: #174EA6;\n",
              "    }\n",
              "\n",
              "    [theme=dark] .colab-df-convert {\n",
              "      background-color: #3B4455;\n",
              "      fill: #D2E3FC;\n",
              "    }\n",
              "\n",
              "    [theme=dark] .colab-df-convert:hover {\n",
              "      background-color: #434B5C;\n",
              "      box-shadow: 0px 1px 3px 1px rgba(0, 0, 0, 0.15);\n",
              "      filter: drop-shadow(0px 1px 2px rgba(0, 0, 0, 0.3));\n",
              "      fill: #FFFFFF;\n",
              "    }\n",
              "  </style>\n",
              "\n",
              "      <script>\n",
              "        const buttonEl =\n",
              "          document.querySelector('#df-fae5dd1d-a241-4b2d-a225-d6ea82c0bbf2 button.colab-df-convert');\n",
              "        buttonEl.style.display =\n",
              "          google.colab.kernel.accessAllowed ? 'block' : 'none';\n",
              "\n",
              "        async function convertToInteractive(key) {\n",
              "          const element = document.querySelector('#df-fae5dd1d-a241-4b2d-a225-d6ea82c0bbf2');\n",
              "          const dataTable =\n",
              "            await google.colab.kernel.invokeFunction('convertToInteractive',\n",
              "                                                     [key], {});\n",
              "          if (!dataTable) return;\n",
              "\n",
              "          const docLinkHtml = 'Like what you see? Visit the ' +\n",
              "            '<a target=\"_blank\" href=https://colab.research.google.com/notebooks/data_table.ipynb>data table notebook</a>'\n",
              "            + ' to learn more about interactive tables.';\n",
              "          element.innerHTML = '';\n",
              "          dataTable['output_type'] = 'display_data';\n",
              "          await google.colab.output.renderOutput(dataTable, element);\n",
              "          const docLink = document.createElement('div');\n",
              "          docLink.innerHTML = docLinkHtml;\n",
              "          element.appendChild(docLink);\n",
              "        }\n",
              "      </script>\n",
              "    </div>\n",
              "  </div>\n",
              "  "
            ]
          },
          "metadata": {},
          "execution_count": 153
        }
      ]
    },
    {
      "cell_type": "code",
      "source": [
        "link_list = ['scibert_scivocab_uncased', 'dmis-lab/biobert-v1.1', 'allenai/biomed_roberta_base', 'bluebert_pubmed_uncased_L-12_H-768_A-12']\n",
        "\n",
        "for link in link_list:\n",
        "  tokenizer = transformers.AutoTokenizer.from_pretrained(link)"
      ],
      "metadata": {
        "id": "PnJzA9xpiYAm",
        "colab": {
          "base_uri": "https://localhost:8080/",
          "height": 200
        },
        "outputId": "cfc037ac-7772-4d73-ae0f-ce73acc36001"
      },
      "id": "PnJzA9xpiYAm",
      "execution_count": 1,
      "outputs": [
        {
          "output_type": "error",
          "ename": "NameError",
          "evalue": "ignored",
          "traceback": [
            "\u001b[0;31m---------------------------------------------------------------------------\u001b[0m",
            "\u001b[0;31mNameError\u001b[0m                                 Traceback (most recent call last)",
            "\u001b[0;32m<ipython-input-1-f63c38d884d9>\u001b[0m in \u001b[0;36m<module>\u001b[0;34m()\u001b[0m\n\u001b[1;32m      2\u001b[0m \u001b[0;34m\u001b[0m\u001b[0m\n\u001b[1;32m      3\u001b[0m \u001b[0;32mfor\u001b[0m \u001b[0mlink\u001b[0m \u001b[0;32min\u001b[0m \u001b[0mlink_list\u001b[0m\u001b[0;34m:\u001b[0m\u001b[0;34m\u001b[0m\u001b[0;34m\u001b[0m\u001b[0m\n\u001b[0;32m----> 4\u001b[0;31m   \u001b[0mtokenizer\u001b[0m \u001b[0;34m=\u001b[0m \u001b[0mtransformers\u001b[0m\u001b[0;34m.\u001b[0m\u001b[0mAutoTokenizer\u001b[0m\u001b[0;34m.\u001b[0m\u001b[0mfrom_pretrained\u001b[0m\u001b[0;34m(\u001b[0m\u001b[0mlink\u001b[0m\u001b[0;34m)\u001b[0m\u001b[0;34m\u001b[0m\u001b[0;34m\u001b[0m\u001b[0m\n\u001b[0m",
            "\u001b[0;31mNameError\u001b[0m: name 'transformers' is not defined"
          ]
        }
      ]
    },
    {
      "cell_type": "code",
      "source": [
        ""
      ],
      "metadata": {
        "id": "kjLoEyh2iVpW"
      },
      "id": "kjLoEyh2iVpW",
      "execution_count": null,
      "outputs": []
    },
    {
      "cell_type": "code",
      "source": [
        ""
      ],
      "metadata": {
        "id": "x1S7yDwBiVHR"
      },
      "id": "x1S7yDwBiVHR",
      "execution_count": 147,
      "outputs": []
    },
    {
      "cell_type": "markdown",
      "source": [
        "# Models"
      ],
      "metadata": {
        "id": "ubUqBSeDYkxL"
      },
      "id": "ubUqBSeDYkxL"
    },
    {
      "cell_type": "code",
      "source": [
        "scibert_path = '/content/drive/My Drive/nlu_project/SciBERT'"
      ],
      "metadata": {
        "id": "GBHfXlJtMU-Z"
      },
      "id": "GBHfXlJtMU-Z",
      "execution_count": null,
      "outputs": []
    },
    {
      "cell_type": "code",
      "execution_count": null,
      "id": "a5fd605b",
      "metadata": {
        "colab": {
          "base_uri": "https://localhost:8080/",
          "height": 220,
          "referenced_widgets": [
            "ff94517c891a4e3c95a0260547957605",
            "73ead63aeb7c46489bf435ea7075227f",
            "c05d4a3042fa4602827d6a32b0217632",
            "798559b2c903418bb9e938d02aaef8b5",
            "b21b841c5fa149099c63bfb43fee244e",
            "046eecdc391a4ae78a6f2e20d16f499f",
            "6a486db18f54403da7cd3152aaebd4d3",
            "ee042eeda78c44178e59219888b33028",
            "360f0931e5444604b1971a607b3f80c5",
            "61adb76e95df4f61a79a7ac753012cf2",
            "848df2dba2f44889a82e1608fdef5546",
            "bb3aca9a5d314d76afbac1f8af10436f",
            "6fd3d2514073471a9843c56c36dbeddf",
            "5090b7d4e3e743c683d993fb472e578c",
            "ca919c2c5f3842d2bd430b9c269dc7f3",
            "a75de211aa0046ef9e93614f6a74395c",
            "a807e0915b6c46239eeebc6896e7ad89",
            "c007b0d59e724c03bc7dff6c01a00ea1",
            "1ec8908f08ad476ca9bf7a11add98a19",
            "30588a6a797d43cda8abe06e66b4029f",
            "4a6096f55a9f4f5dbd2f171575b59093",
            "3f46483bbf784292aeae724609d9abcb",
            "47a455e422974325bf0d325397cf7e10",
            "2f6a8b5c1b954460a27325b48190fc06",
            "43ff5c0128e94903a27fff8a10115628",
            "d12cf0ac43c04a82991c4cf2a319201a",
            "e502565132d54ff1bd4d9aafca1f78bc",
            "8a5ab0b5968f4ca388bf72a10aeb1708",
            "b951e3b730da46e3907258e90246a2e3",
            "92d93dbcd6914cd79aebe68b48aaf2f1",
            "7ab688be32d54874880de45597a26f3e",
            "8e715b13fc1d430882b92ba41d385644",
            "a6917d82bde14dde92048802f84ce0d8"
          ]
        },
        "id": "a5fd605b",
        "outputId": "a39d6c4f-090f-4069-e9dc-3156c0e6e450"
      },
      "outputs": [
        {
          "output_type": "display_data",
          "data": {
            "text/plain": [
              "Downloading:   0%|          | 0.00/385 [00:00<?, ?B/s]"
            ],
            "application/vnd.jupyter.widget-view+json": {
              "version_major": 2,
              "version_minor": 0,
              "model_id": "ff94517c891a4e3c95a0260547957605"
            }
          },
          "metadata": {}
        },
        {
          "output_type": "display_data",
          "data": {
            "text/plain": [
              "Downloading:   0%|          | 0.00/223k [00:00<?, ?B/s]"
            ],
            "application/vnd.jupyter.widget-view+json": {
              "version_major": 2,
              "version_minor": 0,
              "model_id": "bb3aca9a5d314d76afbac1f8af10436f"
            }
          },
          "metadata": {}
        },
        {
          "output_type": "display_data",
          "data": {
            "text/plain": [
              "Downloading:   0%|          | 0.00/422M [00:00<?, ?B/s]"
            ],
            "application/vnd.jupyter.widget-view+json": {
              "version_major": 2,
              "version_minor": 0,
              "model_id": "47a455e422974325bf0d325397cf7e10"
            }
          },
          "metadata": {}
        },
        {
          "output_type": "stream",
          "name": "stderr",
          "text": [
            "Some weights of the model checkpoint at allenai/scibert_scivocab_uncased were not used when initializing BertForSequenceClassification: ['cls.predictions.transform.dense.bias', 'cls.predictions.bias', 'cls.seq_relationship.weight', 'cls.seq_relationship.bias', 'cls.predictions.decoder.bias', 'cls.predictions.transform.dense.weight', 'cls.predictions.transform.LayerNorm.bias', 'cls.predictions.transform.LayerNorm.weight', 'cls.predictions.decoder.weight']\n",
            "- This IS expected if you are initializing BertForSequenceClassification from the checkpoint of a model trained on another task or with another architecture (e.g. initializing a BertForSequenceClassification model from a BertForPreTraining model).\n",
            "- This IS NOT expected if you are initializing BertForSequenceClassification from the checkpoint of a model that you expect to be exactly identical (initializing a BertForSequenceClassification model from a BertForSequenceClassification model).\n",
            "Some weights of BertForSequenceClassification were not initialized from the model checkpoint at allenai/scibert_scivocab_uncased and are newly initialized: ['classifier.weight', 'classifier.bias']\n",
            "You should probably TRAIN this model on a down-stream task to be able to use it for predictions and inference.\n"
          ]
        }
      ],
      "source": [
        "tokenizer = transformers.AutoTokenizer.from_pretrained('allenai/scibert_scivocab_uncased')\n",
        "model = transformers.BertForSequenceClassification.from_pretrained('allenai/scibert_scivocab_uncased', num_labels=2)"
      ]
    },
    {
      "cell_type": "code",
      "source": [
        "class AbstractDataset(torch.utils.data.Dataset):\n",
        "    def __init__(self, encodings, labels):\n",
        "        self.encodings = encodings\n",
        "        self.labels = labels\n",
        "\n",
        "    def __getitem__(self, idx):\n",
        "        item = {key: torch.tensor(val[idx]) for key, val in self.encodings.items()}\n",
        "        item['labels'] = torch.tensor(self.labels[idx])\n",
        "        return item\n",
        "\n",
        "    def __len__(self):\n",
        "        return len(self.labels)"
      ],
      "metadata": {
        "id": "zhIlMrE_LTxe"
      },
      "id": "zhIlMrE_LTxe",
      "execution_count": null,
      "outputs": []
    },
    {
      "cell_type": "code",
      "source": [
        "def compute_metrics(pred):\n",
        "    labels = pred.label_ids\n",
        "    preds = pred.predictions.argmax(-1)\n",
        "    precision, recall, f1, _ = precision_recall_fscore_support(labels, preds, average='binary')\n",
        "    acc = accuracy_score(labels, preds)\n",
        "    return {\n",
        "        'accuracy': acc,\n",
        "        'f1': f1,\n",
        "        'precision': precision,\n",
        "        'recall': recall\n",
        "    }"
      ],
      "metadata": {
        "id": "Rn6b7iZFnQ9U"
      },
      "id": "Rn6b7iZFnQ9U",
      "execution_count": null,
      "outputs": []
    },
    {
      "cell_type": "code",
      "execution_count": null,
      "id": "41c2cc92",
      "metadata": {
        "id": "41c2cc92"
      },
      "outputs": [],
      "source": [
        "encoded_train = tokenizer(list(df_abstracts.loc[df_abstracts['set'] == 'train', 'abstract']),\n",
        "                          max_length=256, truncation=True, padding=True, return_tensors='pt')\n",
        "encoded_val = tokenizer(list(df_abstracts.loc[df_abstracts['set'] == 'validation', 'abstract']),\n",
        "                        max_length=256, truncation=True, padding=True, return_tensors='pt')\n",
        "encoded_test = tokenizer(list(df_abstracts.loc[df_abstracts['set'] == 'test', 'abstract']),\n",
        "                         max_length=256, truncation=True, padding=True, return_tensors='pt')"
      ]
    },
    {
      "cell_type": "code",
      "source": [
        "label_train = list(df_abstracts.loc[df_abstracts['set'] == 'train', 'SENSITIVE'])\n",
        "label_val = list(df_abstracts.loc[df_abstracts['set'] == 'validation', 'SENSITIVE'])\n",
        "label_test = list(df_abstracts.loc[df_abstracts['set'] == 'test', 'SENSITIVE'])\n",
        "\n",
        "label_train = [int(x == True) for x in label_train]\n",
        "label_val = [int(x == True) for x in label_val]\n",
        "label_test = [int(x == True) for x in label_test]\n",
        "\n",
        "# label_train = torch.FloatTensor([int(x == True) for x in label_train])\n",
        "# label_val = torch.FloatTensor([int(x == True) for x in label_val])\n",
        "# label_test = torch.FloatTensor([int(x == True) for x in label_test])"
      ],
      "metadata": {
        "id": "1MYfoCM2U4ea"
      },
      "id": "1MYfoCM2U4ea",
      "execution_count": null,
      "outputs": []
    },
    {
      "cell_type": "code",
      "source": [
        "dataset_train = AbstractDataset(encoded_train, label_train)\n",
        "dataset_val = AbstractDataset(encoded_val, label_val)\n",
        "dataset_test = AbstractDataset(encoded_test, label_test)"
      ],
      "metadata": {
        "id": "bHEUYTeZMbrO"
      },
      "id": "bHEUYTeZMbrO",
      "execution_count": null,
      "outputs": []
    },
    {
      "cell_type": "code",
      "source": [
        "#CUDA_LAUNCH_BLOCKING=1\n",
        "\n",
        "path = os.path.join(scibert_path, time.strftime(\"%Y%m%d-%H%M%S\"))\n",
        "os.mkdir(path)\n",
        "os.mkdir(path + '/results')\n",
        "os.mkdir(path + '/logs')\n",
        "\n",
        "training_args = transformers.TrainingArguments(\n",
        "    learning_rate = 1e-5,\n",
        "    num_train_epochs=3,              \n",
        "    per_device_train_batch_size=16,  \n",
        "    per_device_eval_batch_size=32,   \n",
        "    warmup_steps=500,\n",
        "    weight_decay=0.2,               \n",
        "    output_dir=path+'/results',      \n",
        "    overwrite_output_dir=True,\n",
        "    save_total_limit=5,\n",
        "    evaluation_strategy='steps',\n",
        "    save_strategy='steps',\n",
        "    load_best_model_at_end=True,    \n",
        "    logging_dir=path + '/logs',            \n",
        "    logging_steps=100\n",
        ")\n",
        "\n",
        "trainer = transformers.Trainer(\n",
        "    model=model,                         \n",
        "    args=training_args,\n",
        "    compute_metrics=compute_metrics,                  \n",
        "    train_dataset=dataset_train,         \n",
        "    eval_dataset=dataset_val             \n",
        ")\n",
        "\n",
        "trainer.train()"
      ],
      "metadata": {
        "colab": {
          "base_uri": "https://localhost:8080/",
          "height": 1000
        },
        "id": "0ryPmREENCrC",
        "outputId": "b97b2bc8-bc22-4a87-cb21-0cf449072a7e"
      },
      "id": "0ryPmREENCrC",
      "execution_count": null,
      "outputs": [
        {
          "output_type": "stream",
          "name": "stderr",
          "text": [
            "/usr/local/lib/python3.7/dist-packages/transformers/optimization.py:309: FutureWarning: This implementation of AdamW is deprecated and will be removed in a future version. Use the PyTorch implementation torch.optim.AdamW instead, or set `no_deprecation_warning=True` to disable this warning\n",
            "  FutureWarning,\n",
            "***** Running training *****\n",
            "  Num examples = 43431\n",
            "  Num Epochs = 3\n",
            "  Instantaneous batch size per device = 16\n",
            "  Total train batch size (w. parallel, distributed & accumulation) = 16\n",
            "  Gradient Accumulation steps = 1\n",
            "  Total optimization steps = 8145\n",
            "/usr/local/lib/python3.7/dist-packages/ipykernel_launcher.py:7: UserWarning: To copy construct from a tensor, it is recommended to use sourceTensor.clone().detach() or sourceTensor.clone().detach().requires_grad_(True), rather than torch.tensor(sourceTensor).\n",
            "  import sys\n"
          ]
        },
        {
          "output_type": "display_data",
          "data": {
            "text/plain": [
              "<IPython.core.display.HTML object>"
            ],
            "text/html": [
              "\n",
              "    <div>\n",
              "      \n",
              "      <progress value='8145' max='8145' style='width:300px; height:20px; vertical-align: middle;'></progress>\n",
              "      [8145/8145 2:17:31, Epoch 3/3]\n",
              "    </div>\n",
              "    <table border=\"1\" class=\"dataframe\">\n",
              "  <thead>\n",
              " <tr style=\"text-align: left;\">\n",
              "      <th>Step</th>\n",
              "      <th>Training Loss</th>\n",
              "      <th>Validation Loss</th>\n",
              "      <th>Accuracy</th>\n",
              "      <th>F1</th>\n",
              "      <th>Precision</th>\n",
              "      <th>Recall</th>\n",
              "    </tr>\n",
              "  </thead>\n",
              "  <tbody>\n",
              "    <tr>\n",
              "      <td>100</td>\n",
              "      <td>0.673100</td>\n",
              "      <td>0.741578</td>\n",
              "      <td>0.527597</td>\n",
              "      <td>0.009791</td>\n",
              "      <td>0.527778</td>\n",
              "      <td>0.004941</td>\n",
              "    </tr>\n",
              "    <tr>\n",
              "      <td>200</td>\n",
              "      <td>0.669000</td>\n",
              "      <td>0.729029</td>\n",
              "      <td>0.527966</td>\n",
              "      <td>0.004149</td>\n",
              "      <td>0.727273</td>\n",
              "      <td>0.002081</td>\n",
              "    </tr>\n",
              "    <tr>\n",
              "      <td>300</td>\n",
              "      <td>0.673300</td>\n",
              "      <td>0.692906</td>\n",
              "      <td>0.541856</td>\n",
              "      <td>0.185355</td>\n",
              "      <td>0.580822</td>\n",
              "      <td>0.110273</td>\n",
              "    </tr>\n",
              "    <tr>\n",
              "      <td>400</td>\n",
              "      <td>0.605400</td>\n",
              "      <td>0.646881</td>\n",
              "      <td>0.639336</td>\n",
              "      <td>0.594639</td>\n",
              "      <td>0.634247</td>\n",
              "      <td>0.559688</td>\n",
              "    </tr>\n",
              "    <tr>\n",
              "      <td>500</td>\n",
              "      <td>0.455200</td>\n",
              "      <td>0.588348</td>\n",
              "      <td>0.735956</td>\n",
              "      <td>0.712757</td>\n",
              "      <td>0.733554</td>\n",
              "      <td>0.693108</td>\n",
              "    </tr>\n",
              "    <tr>\n",
              "      <td>600</td>\n",
              "      <td>0.429700</td>\n",
              "      <td>0.573298</td>\n",
              "      <td>0.737800</td>\n",
              "      <td>0.734998</td>\n",
              "      <td>0.703616</td>\n",
              "      <td>0.769311</td>\n",
              "    </tr>\n",
              "    <tr>\n",
              "      <td>700</td>\n",
              "      <td>0.372700</td>\n",
              "      <td>0.502672</td>\n",
              "      <td>0.773325</td>\n",
              "      <td>0.753674</td>\n",
              "      <td>0.774787</td>\n",
              "      <td>0.733680</td>\n",
              "    </tr>\n",
              "    <tr>\n",
              "      <td>800</td>\n",
              "      <td>0.366400</td>\n",
              "      <td>0.519432</td>\n",
              "      <td>0.759066</td>\n",
              "      <td>0.751773</td>\n",
              "      <td>0.732659</td>\n",
              "      <td>0.771912</td>\n",
              "    </tr>\n",
              "    <tr>\n",
              "      <td>900</td>\n",
              "      <td>0.357200</td>\n",
              "      <td>0.551471</td>\n",
              "      <td>0.762999</td>\n",
              "      <td>0.737616</td>\n",
              "      <td>0.773623</td>\n",
              "      <td>0.704811</td>\n",
              "    </tr>\n",
              "    <tr>\n",
              "      <td>1000</td>\n",
              "      <td>0.345400</td>\n",
              "      <td>0.592641</td>\n",
              "      <td>0.749478</td>\n",
              "      <td>0.732194</td>\n",
              "      <td>0.739973</td>\n",
              "      <td>0.724577</td>\n",
              "    </tr>\n",
              "    <tr>\n",
              "      <td>1100</td>\n",
              "      <td>0.369200</td>\n",
              "      <td>0.523941</td>\n",
              "      <td>0.772465</td>\n",
              "      <td>0.772016</td>\n",
              "      <td>0.733271</td>\n",
              "      <td>0.815085</td>\n",
              "    </tr>\n",
              "    <tr>\n",
              "      <td>1200</td>\n",
              "      <td>0.332400</td>\n",
              "      <td>0.588879</td>\n",
              "      <td>0.766195</td>\n",
              "      <td>0.721033</td>\n",
              "      <td>0.826774</td>\n",
              "      <td>0.639272</td>\n",
              "    </tr>\n",
              "    <tr>\n",
              "      <td>1300</td>\n",
              "      <td>0.347700</td>\n",
              "      <td>0.554735</td>\n",
              "      <td>0.762508</td>\n",
              "      <td>0.731293</td>\n",
              "      <td>0.785949</td>\n",
              "      <td>0.683745</td>\n",
              "    </tr>\n",
              "    <tr>\n",
              "      <td>1400</td>\n",
              "      <td>0.344300</td>\n",
              "      <td>0.534970</td>\n",
              "      <td>0.765335</td>\n",
              "      <td>0.735045</td>\n",
              "      <td>0.788095</td>\n",
              "      <td>0.688687</td>\n",
              "    </tr>\n",
              "    <tr>\n",
              "      <td>1500</td>\n",
              "      <td>0.330600</td>\n",
              "      <td>0.549168</td>\n",
              "      <td>0.747511</td>\n",
              "      <td>0.759878</td>\n",
              "      <td>0.690168</td>\n",
              "      <td>0.845254</td>\n",
              "    </tr>\n",
              "    <tr>\n",
              "      <td>1600</td>\n",
              "      <td>0.351300</td>\n",
              "      <td>0.558684</td>\n",
              "      <td>0.758943</td>\n",
              "      <td>0.708054</td>\n",
              "      <td>0.827994</td>\n",
              "      <td>0.618466</td>\n",
              "    </tr>\n",
              "    <tr>\n",
              "      <td>1700</td>\n",
              "      <td>0.325900</td>\n",
              "      <td>0.514132</td>\n",
              "      <td>0.770621</td>\n",
              "      <td>0.763018</td>\n",
              "      <td>0.745594</td>\n",
              "      <td>0.781274</td>\n",
              "    </tr>\n",
              "    <tr>\n",
              "      <td>1800</td>\n",
              "      <td>0.314900</td>\n",
              "      <td>0.478031</td>\n",
              "      <td>0.774923</td>\n",
              "      <td>0.762609</td>\n",
              "      <td>0.760341</td>\n",
              "      <td>0.764889</td>\n",
              "    </tr>\n",
              "    <tr>\n",
              "      <td>1900</td>\n",
              "      <td>0.316200</td>\n",
              "      <td>0.534156</td>\n",
              "      <td>0.762999</td>\n",
              "      <td>0.740092</td>\n",
              "      <td>0.768262</td>\n",
              "      <td>0.713914</td>\n",
              "    </tr>\n",
              "    <tr>\n",
              "      <td>2000</td>\n",
              "      <td>0.283800</td>\n",
              "      <td>0.605371</td>\n",
              "      <td>0.755378</td>\n",
              "      <td>0.727248</td>\n",
              "      <td>0.768763</td>\n",
              "      <td>0.689987</td>\n",
              "    </tr>\n",
              "    <tr>\n",
              "      <td>2100</td>\n",
              "      <td>0.305300</td>\n",
              "      <td>0.535888</td>\n",
              "      <td>0.757222</td>\n",
              "      <td>0.738653</td>\n",
              "      <td>0.751886</td>\n",
              "      <td>0.725878</td>\n",
              "    </tr>\n",
              "    <tr>\n",
              "      <td>2200</td>\n",
              "      <td>0.318300</td>\n",
              "      <td>0.469461</td>\n",
              "      <td>0.765950</td>\n",
              "      <td>0.766667</td>\n",
              "      <td>0.724913</td>\n",
              "      <td>0.813524</td>\n",
              "    </tr>\n",
              "    <tr>\n",
              "      <td>2300</td>\n",
              "      <td>0.324700</td>\n",
              "      <td>0.504563</td>\n",
              "      <td>0.786478</td>\n",
              "      <td>0.752388</td>\n",
              "      <td>0.832492</td>\n",
              "      <td>0.686346</td>\n",
              "    </tr>\n",
              "    <tr>\n",
              "      <td>2400</td>\n",
              "      <td>0.321700</td>\n",
              "      <td>0.512117</td>\n",
              "      <td>0.778488</td>\n",
              "      <td>0.748675</td>\n",
              "      <td>0.807218</td>\n",
              "      <td>0.698049</td>\n",
              "    </tr>\n",
              "    <tr>\n",
              "      <td>2500</td>\n",
              "      <td>0.307900</td>\n",
              "      <td>0.510100</td>\n",
              "      <td>0.771235</td>\n",
              "      <td>0.744333</td>\n",
              "      <td>0.788876</td>\n",
              "      <td>0.704551</td>\n",
              "    </tr>\n",
              "    <tr>\n",
              "      <td>2600</td>\n",
              "      <td>0.290300</td>\n",
              "      <td>0.600927</td>\n",
              "      <td>0.768531</td>\n",
              "      <td>0.717649</td>\n",
              "      <td>0.847380</td>\n",
              "      <td>0.622367</td>\n",
              "    </tr>\n",
              "    <tr>\n",
              "      <td>2700</td>\n",
              "      <td>0.318100</td>\n",
              "      <td>0.440218</td>\n",
              "      <td>0.788937</td>\n",
              "      <td>0.777331</td>\n",
              "      <td>0.775220</td>\n",
              "      <td>0.779454</td>\n",
              "    </tr>\n",
              "    <tr>\n",
              "      <td>2800</td>\n",
              "      <td>0.292900</td>\n",
              "      <td>0.464053</td>\n",
              "      <td>0.779103</td>\n",
              "      <td>0.769408</td>\n",
              "      <td>0.759372</td>\n",
              "      <td>0.779714</td>\n",
              "    </tr>\n",
              "    <tr>\n",
              "      <td>2900</td>\n",
              "      <td>0.299400</td>\n",
              "      <td>0.489586</td>\n",
              "      <td>0.772588</td>\n",
              "      <td>0.743056</td>\n",
              "      <td>0.797317</td>\n",
              "      <td>0.695709</td>\n",
              "    </tr>\n",
              "    <tr>\n",
              "      <td>3000</td>\n",
              "      <td>0.277900</td>\n",
              "      <td>0.594075</td>\n",
              "      <td>0.767793</td>\n",
              "      <td>0.738184</td>\n",
              "      <td>0.790208</td>\n",
              "      <td>0.692588</td>\n",
              "    </tr>\n",
              "    <tr>\n",
              "      <td>3100</td>\n",
              "      <td>0.316600</td>\n",
              "      <td>0.514728</td>\n",
              "      <td>0.769760</td>\n",
              "      <td>0.740833</td>\n",
              "      <td>0.791543</td>\n",
              "      <td>0.696229</td>\n",
              "    </tr>\n",
              "    <tr>\n",
              "      <td>3200</td>\n",
              "      <td>0.281400</td>\n",
              "      <td>0.493778</td>\n",
              "      <td>0.779226</td>\n",
              "      <td>0.758342</td>\n",
              "      <td>0.785615</td>\n",
              "      <td>0.732900</td>\n",
              "    </tr>\n",
              "    <tr>\n",
              "      <td>3300</td>\n",
              "      <td>0.271300</td>\n",
              "      <td>0.517274</td>\n",
              "      <td>0.780209</td>\n",
              "      <td>0.764799</td>\n",
              "      <td>0.773756</td>\n",
              "      <td>0.756047</td>\n",
              "    </tr>\n",
              "    <tr>\n",
              "      <td>3400</td>\n",
              "      <td>0.278100</td>\n",
              "      <td>0.478654</td>\n",
              "      <td>0.797910</td>\n",
              "      <td>0.768646</td>\n",
              "      <td>0.837473</td>\n",
              "      <td>0.710273</td>\n",
              "    </tr>\n",
              "    <tr>\n",
              "      <td>3500</td>\n",
              "      <td>0.290800</td>\n",
              "      <td>0.462995</td>\n",
              "      <td>0.788199</td>\n",
              "      <td>0.775446</td>\n",
              "      <td>0.777168</td>\n",
              "      <td>0.773732</td>\n",
              "    </tr>\n",
              "    <tr>\n",
              "      <td>3600</td>\n",
              "      <td>0.269600</td>\n",
              "      <td>0.523133</td>\n",
              "      <td>0.786478</td>\n",
              "      <td>0.759784</td>\n",
              "      <td>0.811282</td>\n",
              "      <td>0.714434</td>\n",
              "    </tr>\n",
              "    <tr>\n",
              "      <td>3700</td>\n",
              "      <td>0.284100</td>\n",
              "      <td>0.490864</td>\n",
              "      <td>0.788322</td>\n",
              "      <td>0.753083</td>\n",
              "      <td>0.839246</td>\n",
              "      <td>0.682965</td>\n",
              "    </tr>\n",
              "    <tr>\n",
              "      <td>3800</td>\n",
              "      <td>0.283600</td>\n",
              "      <td>0.477208</td>\n",
              "      <td>0.792870</td>\n",
              "      <td>0.775543</td>\n",
              "      <td>0.794921</td>\n",
              "      <td>0.757087</td>\n",
              "    </tr>\n",
              "    <tr>\n",
              "      <td>3900</td>\n",
              "      <td>0.274300</td>\n",
              "      <td>0.448909</td>\n",
              "      <td>0.785126</td>\n",
              "      <td>0.776012</td>\n",
              "      <td>0.764840</td>\n",
              "      <td>0.787516</td>\n",
              "    </tr>\n",
              "    <tr>\n",
              "      <td>4000</td>\n",
              "      <td>0.258700</td>\n",
              "      <td>0.510393</td>\n",
              "      <td>0.793362</td>\n",
              "      <td>0.764599</td>\n",
              "      <td>0.828277</td>\n",
              "      <td>0.710013</td>\n",
              "    </tr>\n",
              "    <tr>\n",
              "      <td>4100</td>\n",
              "      <td>0.287400</td>\n",
              "      <td>0.490444</td>\n",
              "      <td>0.792993</td>\n",
              "      <td>0.770510</td>\n",
              "      <td>0.809333</td>\n",
              "      <td>0.735241</td>\n",
              "    </tr>\n",
              "    <tr>\n",
              "      <td>4200</td>\n",
              "      <td>0.268100</td>\n",
              "      <td>0.490446</td>\n",
              "      <td>0.785495</td>\n",
              "      <td>0.776483</td>\n",
              "      <td>0.765018</td>\n",
              "      <td>0.788296</td>\n",
              "    </tr>\n",
              "    <tr>\n",
              "      <td>4300</td>\n",
              "      <td>0.285600</td>\n",
              "      <td>0.447786</td>\n",
              "      <td>0.797173</td>\n",
              "      <td>0.785770</td>\n",
              "      <td>0.784548</td>\n",
              "      <td>0.786996</td>\n",
              "    </tr>\n",
              "    <tr>\n",
              "      <td>4400</td>\n",
              "      <td>0.261200</td>\n",
              "      <td>0.525014</td>\n",
              "      <td>0.797419</td>\n",
              "      <td>0.777297</td>\n",
              "      <td>0.809001</td>\n",
              "      <td>0.747984</td>\n",
              "    </tr>\n",
              "    <tr>\n",
              "      <td>4500</td>\n",
              "      <td>0.260300</td>\n",
              "      <td>0.502630</td>\n",
              "      <td>0.795083</td>\n",
              "      <td>0.775246</td>\n",
              "      <td>0.804871</td>\n",
              "      <td>0.747724</td>\n",
              "    </tr>\n",
              "    <tr>\n",
              "      <td>4600</td>\n",
              "      <td>0.278300</td>\n",
              "      <td>0.477775</td>\n",
              "      <td>0.804302</td>\n",
              "      <td>0.781078</td>\n",
              "      <td>0.828713</td>\n",
              "      <td>0.738622</td>\n",
              "    </tr>\n",
              "    <tr>\n",
              "      <td>4700</td>\n",
              "      <td>0.269500</td>\n",
              "      <td>0.494678</td>\n",
              "      <td>0.793239</td>\n",
              "      <td>0.760399</td>\n",
              "      <td>0.840630</td>\n",
              "      <td>0.694148</td>\n",
              "    </tr>\n",
              "    <tr>\n",
              "      <td>4800</td>\n",
              "      <td>0.249700</td>\n",
              "      <td>0.488221</td>\n",
              "      <td>0.791026</td>\n",
              "      <td>0.771259</td>\n",
              "      <td>0.798996</td>\n",
              "      <td>0.745384</td>\n",
              "    </tr>\n",
              "    <tr>\n",
              "      <td>4900</td>\n",
              "      <td>0.265200</td>\n",
              "      <td>0.530508</td>\n",
              "      <td>0.792379</td>\n",
              "      <td>0.758196</td>\n",
              "      <td>0.843312</td>\n",
              "      <td>0.688687</td>\n",
              "    </tr>\n",
              "    <tr>\n",
              "      <td>5000</td>\n",
              "      <td>0.261000</td>\n",
              "      <td>0.484001</td>\n",
              "      <td>0.797664</td>\n",
              "      <td>0.773341</td>\n",
              "      <td>0.821773</td>\n",
              "      <td>0.730299</td>\n",
              "    </tr>\n",
              "    <tr>\n",
              "      <td>5100</td>\n",
              "      <td>0.254700</td>\n",
              "      <td>0.546555</td>\n",
              "      <td>0.794591</td>\n",
              "      <td>0.759810</td>\n",
              "      <td>0.849293</td>\n",
              "      <td>0.687386</td>\n",
              "    </tr>\n",
              "    <tr>\n",
              "      <td>5200</td>\n",
              "      <td>0.290500</td>\n",
              "      <td>0.456940</td>\n",
              "      <td>0.792993</td>\n",
              "      <td>0.783714</td>\n",
              "      <td>0.774169</td>\n",
              "      <td>0.793498</td>\n",
              "    </tr>\n",
              "    <tr>\n",
              "      <td>5300</td>\n",
              "      <td>0.261000</td>\n",
              "      <td>0.523327</td>\n",
              "      <td>0.798033</td>\n",
              "      <td>0.777522</td>\n",
              "      <td>0.811017</td>\n",
              "      <td>0.746684</td>\n",
              "    </tr>\n",
              "    <tr>\n",
              "      <td>5400</td>\n",
              "      <td>0.275300</td>\n",
              "      <td>0.483593</td>\n",
              "      <td>0.802090</td>\n",
              "      <td>0.778907</td>\n",
              "      <td>0.825138</td>\n",
              "      <td>0.737581</td>\n",
              "    </tr>\n",
              "    <tr>\n",
              "      <td>5500</td>\n",
              "      <td>0.241600</td>\n",
              "      <td>0.582704</td>\n",
              "      <td>0.791641</td>\n",
              "      <td>0.753455</td>\n",
              "      <td>0.854785</td>\n",
              "      <td>0.673602</td>\n",
              "    </tr>\n",
              "    <tr>\n",
              "      <td>5600</td>\n",
              "      <td>0.243400</td>\n",
              "      <td>0.622696</td>\n",
              "      <td>0.778611</td>\n",
              "      <td>0.736811</td>\n",
              "      <td>0.840894</td>\n",
              "      <td>0.655657</td>\n",
              "    </tr>\n",
              "    <tr>\n",
              "      <td>5700</td>\n",
              "      <td>0.267200</td>\n",
              "      <td>0.511697</td>\n",
              "      <td>0.801352</td>\n",
              "      <td>0.780614</td>\n",
              "      <td>0.816529</td>\n",
              "      <td>0.747724</td>\n",
              "    </tr>\n",
              "    <tr>\n",
              "      <td>5800</td>\n",
              "      <td>0.238900</td>\n",
              "      <td>0.573774</td>\n",
              "      <td>0.785126</td>\n",
              "      <td>0.754839</td>\n",
              "      <td>0.819178</td>\n",
              "      <td>0.699870</td>\n",
              "    </tr>\n",
              "    <tr>\n",
              "      <td>5900</td>\n",
              "      <td>0.228700</td>\n",
              "      <td>0.574276</td>\n",
              "      <td>0.781561</td>\n",
              "      <td>0.757075</td>\n",
              "      <td>0.797983</td>\n",
              "      <td>0.720156</td>\n",
              "    </tr>\n",
              "    <tr>\n",
              "      <td>6000</td>\n",
              "      <td>0.256400</td>\n",
              "      <td>0.508399</td>\n",
              "      <td>0.792502</td>\n",
              "      <td>0.766722</td>\n",
              "      <td>0.818048</td>\n",
              "      <td>0.721456</td>\n",
              "    </tr>\n",
              "    <tr>\n",
              "      <td>6100</td>\n",
              "      <td>0.245900</td>\n",
              "      <td>0.485382</td>\n",
              "      <td>0.797910</td>\n",
              "      <td>0.772425</td>\n",
              "      <td>0.825688</td>\n",
              "      <td>0.725618</td>\n",
              "    </tr>\n",
              "    <tr>\n",
              "      <td>6200</td>\n",
              "      <td>0.243600</td>\n",
              "      <td>0.547133</td>\n",
              "      <td>0.790166</td>\n",
              "      <td>0.756386</td>\n",
              "      <td>0.838077</td>\n",
              "      <td>0.689207</td>\n",
              "    </tr>\n",
              "    <tr>\n",
              "      <td>6300</td>\n",
              "      <td>0.246600</td>\n",
              "      <td>0.533989</td>\n",
              "      <td>0.792870</td>\n",
              "      <td>0.774522</td>\n",
              "      <td>0.797685</td>\n",
              "      <td>0.752666</td>\n",
              "    </tr>\n",
              "    <tr>\n",
              "      <td>6400</td>\n",
              "      <td>0.219200</td>\n",
              "      <td>0.557132</td>\n",
              "      <td>0.793854</td>\n",
              "      <td>0.769548</td>\n",
              "      <td>0.815851</td>\n",
              "      <td>0.728218</td>\n",
              "    </tr>\n",
              "    <tr>\n",
              "      <td>6500</td>\n",
              "      <td>0.255000</td>\n",
              "      <td>0.548298</td>\n",
              "      <td>0.790412</td>\n",
              "      <td>0.762568</td>\n",
              "      <td>0.820743</td>\n",
              "      <td>0.712094</td>\n",
              "    </tr>\n",
              "    <tr>\n",
              "      <td>6600</td>\n",
              "      <td>0.240700</td>\n",
              "      <td>0.577868</td>\n",
              "      <td>0.788322</td>\n",
              "      <td>0.761826</td>\n",
              "      <td>0.813589</td>\n",
              "      <td>0.716255</td>\n",
              "    </tr>\n",
              "    <tr>\n",
              "      <td>6700</td>\n",
              "      <td>0.238300</td>\n",
              "      <td>0.568606</td>\n",
              "      <td>0.790166</td>\n",
              "      <td>0.769791</td>\n",
              "      <td>0.799440</td>\n",
              "      <td>0.742263</td>\n",
              "    </tr>\n",
              "    <tr>\n",
              "      <td>6800</td>\n",
              "      <td>0.239800</td>\n",
              "      <td>0.565148</td>\n",
              "      <td>0.786478</td>\n",
              "      <td>0.767189</td>\n",
              "      <td>0.791482</td>\n",
              "      <td>0.744343</td>\n",
              "    </tr>\n",
              "    <tr>\n",
              "      <td>6900</td>\n",
              "      <td>0.249200</td>\n",
              "      <td>0.562265</td>\n",
              "      <td>0.787339</td>\n",
              "      <td>0.755719</td>\n",
              "      <td>0.826691</td>\n",
              "      <td>0.695969</td>\n",
              "    </tr>\n",
              "    <tr>\n",
              "      <td>7000</td>\n",
              "      <td>0.237700</td>\n",
              "      <td>0.539452</td>\n",
              "      <td>0.789920</td>\n",
              "      <td>0.768208</td>\n",
              "      <td>0.802721</td>\n",
              "      <td>0.736541</td>\n",
              "    </tr>\n",
              "    <tr>\n",
              "      <td>7100</td>\n",
              "      <td>0.231800</td>\n",
              "      <td>0.565393</td>\n",
              "      <td>0.790412</td>\n",
              "      <td>0.753648</td>\n",
              "      <td>0.847854</td>\n",
              "      <td>0.678283</td>\n",
              "    </tr>\n",
              "    <tr>\n",
              "      <td>7200</td>\n",
              "      <td>0.244100</td>\n",
              "      <td>0.550831</td>\n",
              "      <td>0.794100</td>\n",
              "      <td>0.763385</td>\n",
              "      <td>0.835498</td>\n",
              "      <td>0.702731</td>\n",
              "    </tr>\n",
              "    <tr>\n",
              "      <td>7300</td>\n",
              "      <td>0.252400</td>\n",
              "      <td>0.517470</td>\n",
              "      <td>0.794345</td>\n",
              "      <td>0.771853</td>\n",
              "      <td>0.811353</td>\n",
              "      <td>0.736021</td>\n",
              "    </tr>\n",
              "    <tr>\n",
              "      <td>7400</td>\n",
              "      <td>0.224600</td>\n",
              "      <td>0.545637</td>\n",
              "      <td>0.793362</td>\n",
              "      <td>0.766105</td>\n",
              "      <td>0.823758</td>\n",
              "      <td>0.715995</td>\n",
              "    </tr>\n",
              "    <tr>\n",
              "      <td>7500</td>\n",
              "      <td>0.256600</td>\n",
              "      <td>0.542353</td>\n",
              "      <td>0.791272</td>\n",
              "      <td>0.765405</td>\n",
              "      <td>0.816387</td>\n",
              "      <td>0.720416</td>\n",
              "    </tr>\n",
              "    <tr>\n",
              "      <td>7600</td>\n",
              "      <td>0.215500</td>\n",
              "      <td>0.540794</td>\n",
              "      <td>0.792379</td>\n",
              "      <td>0.765904</td>\n",
              "      <td>0.819881</td>\n",
              "      <td>0.718596</td>\n",
              "    </tr>\n",
              "    <tr>\n",
              "      <td>7700</td>\n",
              "      <td>0.259900</td>\n",
              "      <td>0.542819</td>\n",
              "      <td>0.790904</td>\n",
              "      <td>0.759236</td>\n",
              "      <td>0.832919</td>\n",
              "      <td>0.697529</td>\n",
              "    </tr>\n",
              "    <tr>\n",
              "      <td>7800</td>\n",
              "      <td>0.236900</td>\n",
              "      <td>0.536232</td>\n",
              "      <td>0.794100</td>\n",
              "      <td>0.768358</td>\n",
              "      <td>0.820437</td>\n",
              "      <td>0.722497</td>\n",
              "    </tr>\n",
              "    <tr>\n",
              "      <td>7900</td>\n",
              "      <td>0.218600</td>\n",
              "      <td>0.547513</td>\n",
              "      <td>0.794100</td>\n",
              "      <td>0.768487</td>\n",
              "      <td>0.820059</td>\n",
              "      <td>0.723017</td>\n",
              "    </tr>\n",
              "    <tr>\n",
              "      <td>8000</td>\n",
              "      <td>0.232500</td>\n",
              "      <td>0.548673</td>\n",
              "      <td>0.794100</td>\n",
              "      <td>0.766355</td>\n",
              "      <td>0.826414</td>\n",
              "      <td>0.714434</td>\n",
              "    </tr>\n",
              "    <tr>\n",
              "      <td>8100</td>\n",
              "      <td>0.249700</td>\n",
              "      <td>0.546669</td>\n",
              "      <td>0.794100</td>\n",
              "      <td>0.765570</td>\n",
              "      <td>0.828788</td>\n",
              "      <td>0.711313</td>\n",
              "    </tr>\n",
              "  </tbody>\n",
              "</table><p>"
            ]
          },
          "metadata": {}
        },
        {
          "output_type": "stream",
          "name": "stderr",
          "text": [
            "***** Running Evaluation *****\n",
            "  Num examples = 8135\n",
            "  Batch size = 32\n",
            "/usr/local/lib/python3.7/dist-packages/ipykernel_launcher.py:7: UserWarning: To copy construct from a tensor, it is recommended to use sourceTensor.clone().detach() or sourceTensor.clone().detach().requires_grad_(True), rather than torch.tensor(sourceTensor).\n",
            "  import sys\n",
            "***** Running Evaluation *****\n",
            "  Num examples = 8135\n",
            "  Batch size = 32\n",
            "/usr/local/lib/python3.7/dist-packages/ipykernel_launcher.py:7: UserWarning: To copy construct from a tensor, it is recommended to use sourceTensor.clone().detach() or sourceTensor.clone().detach().requires_grad_(True), rather than torch.tensor(sourceTensor).\n",
            "  import sys\n",
            "***** Running Evaluation *****\n",
            "  Num examples = 8135\n",
            "  Batch size = 32\n",
            "/usr/local/lib/python3.7/dist-packages/ipykernel_launcher.py:7: UserWarning: To copy construct from a tensor, it is recommended to use sourceTensor.clone().detach() or sourceTensor.clone().detach().requires_grad_(True), rather than torch.tensor(sourceTensor).\n",
            "  import sys\n",
            "***** Running Evaluation *****\n",
            "  Num examples = 8135\n",
            "  Batch size = 32\n",
            "/usr/local/lib/python3.7/dist-packages/ipykernel_launcher.py:7: UserWarning: To copy construct from a tensor, it is recommended to use sourceTensor.clone().detach() or sourceTensor.clone().detach().requires_grad_(True), rather than torch.tensor(sourceTensor).\n",
            "  import sys\n",
            "***** Running Evaluation *****\n",
            "  Num examples = 8135\n",
            "  Batch size = 32\n",
            "Saving model checkpoint to /content/drive/My Drive/nlu_project/SciBERT/20220510-134813/results/checkpoint-500\n",
            "Configuration saved in /content/drive/My Drive/nlu_project/SciBERT/20220510-134813/results/checkpoint-500/config.json\n",
            "Model weights saved in /content/drive/My Drive/nlu_project/SciBERT/20220510-134813/results/checkpoint-500/pytorch_model.bin\n",
            "/usr/local/lib/python3.7/dist-packages/ipykernel_launcher.py:7: UserWarning: To copy construct from a tensor, it is recommended to use sourceTensor.clone().detach() or sourceTensor.clone().detach().requires_grad_(True), rather than torch.tensor(sourceTensor).\n",
            "  import sys\n",
            "***** Running Evaluation *****\n",
            "  Num examples = 8135\n",
            "  Batch size = 32\n",
            "/usr/local/lib/python3.7/dist-packages/ipykernel_launcher.py:7: UserWarning: To copy construct from a tensor, it is recommended to use sourceTensor.clone().detach() or sourceTensor.clone().detach().requires_grad_(True), rather than torch.tensor(sourceTensor).\n",
            "  import sys\n",
            "***** Running Evaluation *****\n",
            "  Num examples = 8135\n",
            "  Batch size = 32\n",
            "/usr/local/lib/python3.7/dist-packages/ipykernel_launcher.py:7: UserWarning: To copy construct from a tensor, it is recommended to use sourceTensor.clone().detach() or sourceTensor.clone().detach().requires_grad_(True), rather than torch.tensor(sourceTensor).\n",
            "  import sys\n",
            "***** Running Evaluation *****\n",
            "  Num examples = 8135\n",
            "  Batch size = 32\n",
            "/usr/local/lib/python3.7/dist-packages/ipykernel_launcher.py:7: UserWarning: To copy construct from a tensor, it is recommended to use sourceTensor.clone().detach() or sourceTensor.clone().detach().requires_grad_(True), rather than torch.tensor(sourceTensor).\n",
            "  import sys\n",
            "***** Running Evaluation *****\n",
            "  Num examples = 8135\n",
            "  Batch size = 32\n",
            "/usr/local/lib/python3.7/dist-packages/ipykernel_launcher.py:7: UserWarning: To copy construct from a tensor, it is recommended to use sourceTensor.clone().detach() or sourceTensor.clone().detach().requires_grad_(True), rather than torch.tensor(sourceTensor).\n",
            "  import sys\n",
            "***** Running Evaluation *****\n",
            "  Num examples = 8135\n",
            "  Batch size = 32\n",
            "Saving model checkpoint to /content/drive/My Drive/nlu_project/SciBERT/20220510-134813/results/checkpoint-1000\n",
            "Configuration saved in /content/drive/My Drive/nlu_project/SciBERT/20220510-134813/results/checkpoint-1000/config.json\n",
            "Model weights saved in /content/drive/My Drive/nlu_project/SciBERT/20220510-134813/results/checkpoint-1000/pytorch_model.bin\n",
            "/usr/local/lib/python3.7/dist-packages/ipykernel_launcher.py:7: UserWarning: To copy construct from a tensor, it is recommended to use sourceTensor.clone().detach() or sourceTensor.clone().detach().requires_grad_(True), rather than torch.tensor(sourceTensor).\n",
            "  import sys\n",
            "***** Running Evaluation *****\n",
            "  Num examples = 8135\n",
            "  Batch size = 32\n",
            "/usr/local/lib/python3.7/dist-packages/ipykernel_launcher.py:7: UserWarning: To copy construct from a tensor, it is recommended to use sourceTensor.clone().detach() or sourceTensor.clone().detach().requires_grad_(True), rather than torch.tensor(sourceTensor).\n",
            "  import sys\n",
            "***** Running Evaluation *****\n",
            "  Num examples = 8135\n",
            "  Batch size = 32\n",
            "/usr/local/lib/python3.7/dist-packages/ipykernel_launcher.py:7: UserWarning: To copy construct from a tensor, it is recommended to use sourceTensor.clone().detach() or sourceTensor.clone().detach().requires_grad_(True), rather than torch.tensor(sourceTensor).\n",
            "  import sys\n",
            "***** Running Evaluation *****\n",
            "  Num examples = 8135\n",
            "  Batch size = 32\n",
            "/usr/local/lib/python3.7/dist-packages/ipykernel_launcher.py:7: UserWarning: To copy construct from a tensor, it is recommended to use sourceTensor.clone().detach() or sourceTensor.clone().detach().requires_grad_(True), rather than torch.tensor(sourceTensor).\n",
            "  import sys\n",
            "***** Running Evaluation *****\n",
            "  Num examples = 8135\n",
            "  Batch size = 32\n",
            "/usr/local/lib/python3.7/dist-packages/ipykernel_launcher.py:7: UserWarning: To copy construct from a tensor, it is recommended to use sourceTensor.clone().detach() or sourceTensor.clone().detach().requires_grad_(True), rather than torch.tensor(sourceTensor).\n",
            "  import sys\n",
            "***** Running Evaluation *****\n",
            "  Num examples = 8135\n",
            "  Batch size = 32\n",
            "Saving model checkpoint to /content/drive/My Drive/nlu_project/SciBERT/20220510-134813/results/checkpoint-1500\n",
            "Configuration saved in /content/drive/My Drive/nlu_project/SciBERT/20220510-134813/results/checkpoint-1500/config.json\n",
            "Model weights saved in /content/drive/My Drive/nlu_project/SciBERT/20220510-134813/results/checkpoint-1500/pytorch_model.bin\n",
            "/usr/local/lib/python3.7/dist-packages/ipykernel_launcher.py:7: UserWarning: To copy construct from a tensor, it is recommended to use sourceTensor.clone().detach() or sourceTensor.clone().detach().requires_grad_(True), rather than torch.tensor(sourceTensor).\n",
            "  import sys\n",
            "***** Running Evaluation *****\n",
            "  Num examples = 8135\n",
            "  Batch size = 32\n",
            "/usr/local/lib/python3.7/dist-packages/ipykernel_launcher.py:7: UserWarning: To copy construct from a tensor, it is recommended to use sourceTensor.clone().detach() or sourceTensor.clone().detach().requires_grad_(True), rather than torch.tensor(sourceTensor).\n",
            "  import sys\n",
            "***** Running Evaluation *****\n",
            "  Num examples = 8135\n",
            "  Batch size = 32\n",
            "/usr/local/lib/python3.7/dist-packages/ipykernel_launcher.py:7: UserWarning: To copy construct from a tensor, it is recommended to use sourceTensor.clone().detach() or sourceTensor.clone().detach().requires_grad_(True), rather than torch.tensor(sourceTensor).\n",
            "  import sys\n",
            "***** Running Evaluation *****\n",
            "  Num examples = 8135\n",
            "  Batch size = 32\n",
            "/usr/local/lib/python3.7/dist-packages/ipykernel_launcher.py:7: UserWarning: To copy construct from a tensor, it is recommended to use sourceTensor.clone().detach() or sourceTensor.clone().detach().requires_grad_(True), rather than torch.tensor(sourceTensor).\n",
            "  import sys\n",
            "***** Running Evaluation *****\n",
            "  Num examples = 8135\n",
            "  Batch size = 32\n",
            "/usr/local/lib/python3.7/dist-packages/ipykernel_launcher.py:7: UserWarning: To copy construct from a tensor, it is recommended to use sourceTensor.clone().detach() or sourceTensor.clone().detach().requires_grad_(True), rather than torch.tensor(sourceTensor).\n",
            "  import sys\n",
            "***** Running Evaluation *****\n",
            "  Num examples = 8135\n",
            "  Batch size = 32\n",
            "Saving model checkpoint to /content/drive/My Drive/nlu_project/SciBERT/20220510-134813/results/checkpoint-2000\n",
            "Configuration saved in /content/drive/My Drive/nlu_project/SciBERT/20220510-134813/results/checkpoint-2000/config.json\n",
            "Model weights saved in /content/drive/My Drive/nlu_project/SciBERT/20220510-134813/results/checkpoint-2000/pytorch_model.bin\n",
            "/usr/local/lib/python3.7/dist-packages/ipykernel_launcher.py:7: UserWarning: To copy construct from a tensor, it is recommended to use sourceTensor.clone().detach() or sourceTensor.clone().detach().requires_grad_(True), rather than torch.tensor(sourceTensor).\n",
            "  import sys\n",
            "***** Running Evaluation *****\n",
            "  Num examples = 8135\n",
            "  Batch size = 32\n",
            "/usr/local/lib/python3.7/dist-packages/ipykernel_launcher.py:7: UserWarning: To copy construct from a tensor, it is recommended to use sourceTensor.clone().detach() or sourceTensor.clone().detach().requires_grad_(True), rather than torch.tensor(sourceTensor).\n",
            "  import sys\n",
            "***** Running Evaluation *****\n",
            "  Num examples = 8135\n",
            "  Batch size = 32\n",
            "/usr/local/lib/python3.7/dist-packages/ipykernel_launcher.py:7: UserWarning: To copy construct from a tensor, it is recommended to use sourceTensor.clone().detach() or sourceTensor.clone().detach().requires_grad_(True), rather than torch.tensor(sourceTensor).\n",
            "  import sys\n",
            "***** Running Evaluation *****\n",
            "  Num examples = 8135\n",
            "  Batch size = 32\n",
            "/usr/local/lib/python3.7/dist-packages/ipykernel_launcher.py:7: UserWarning: To copy construct from a tensor, it is recommended to use sourceTensor.clone().detach() or sourceTensor.clone().detach().requires_grad_(True), rather than torch.tensor(sourceTensor).\n",
            "  import sys\n",
            "***** Running Evaluation *****\n",
            "  Num examples = 8135\n",
            "  Batch size = 32\n",
            "/usr/local/lib/python3.7/dist-packages/ipykernel_launcher.py:7: UserWarning: To copy construct from a tensor, it is recommended to use sourceTensor.clone().detach() or sourceTensor.clone().detach().requires_grad_(True), rather than torch.tensor(sourceTensor).\n",
            "  import sys\n",
            "***** Running Evaluation *****\n",
            "  Num examples = 8135\n",
            "  Batch size = 32\n",
            "Saving model checkpoint to /content/drive/My Drive/nlu_project/SciBERT/20220510-134813/results/checkpoint-2500\n",
            "Configuration saved in /content/drive/My Drive/nlu_project/SciBERT/20220510-134813/results/checkpoint-2500/config.json\n",
            "Model weights saved in /content/drive/My Drive/nlu_project/SciBERT/20220510-134813/results/checkpoint-2500/pytorch_model.bin\n",
            "/usr/local/lib/python3.7/dist-packages/ipykernel_launcher.py:7: UserWarning: To copy construct from a tensor, it is recommended to use sourceTensor.clone().detach() or sourceTensor.clone().detach().requires_grad_(True), rather than torch.tensor(sourceTensor).\n",
            "  import sys\n",
            "***** Running Evaluation *****\n",
            "  Num examples = 8135\n",
            "  Batch size = 32\n",
            "/usr/local/lib/python3.7/dist-packages/ipykernel_launcher.py:7: UserWarning: To copy construct from a tensor, it is recommended to use sourceTensor.clone().detach() or sourceTensor.clone().detach().requires_grad_(True), rather than torch.tensor(sourceTensor).\n",
            "  import sys\n",
            "***** Running Evaluation *****\n",
            "  Num examples = 8135\n",
            "  Batch size = 32\n",
            "/usr/local/lib/python3.7/dist-packages/ipykernel_launcher.py:7: UserWarning: To copy construct from a tensor, it is recommended to use sourceTensor.clone().detach() or sourceTensor.clone().detach().requires_grad_(True), rather than torch.tensor(sourceTensor).\n",
            "  import sys\n",
            "***** Running Evaluation *****\n",
            "  Num examples = 8135\n",
            "  Batch size = 32\n",
            "/usr/local/lib/python3.7/dist-packages/ipykernel_launcher.py:7: UserWarning: To copy construct from a tensor, it is recommended to use sourceTensor.clone().detach() or sourceTensor.clone().detach().requires_grad_(True), rather than torch.tensor(sourceTensor).\n",
            "  import sys\n",
            "***** Running Evaluation *****\n",
            "  Num examples = 8135\n",
            "  Batch size = 32\n",
            "/usr/local/lib/python3.7/dist-packages/ipykernel_launcher.py:7: UserWarning: To copy construct from a tensor, it is recommended to use sourceTensor.clone().detach() or sourceTensor.clone().detach().requires_grad_(True), rather than torch.tensor(sourceTensor).\n",
            "  import sys\n",
            "***** Running Evaluation *****\n",
            "  Num examples = 8135\n",
            "  Batch size = 32\n",
            "Saving model checkpoint to /content/drive/My Drive/nlu_project/SciBERT/20220510-134813/results/checkpoint-3000\n",
            "Configuration saved in /content/drive/My Drive/nlu_project/SciBERT/20220510-134813/results/checkpoint-3000/config.json\n",
            "Model weights saved in /content/drive/My Drive/nlu_project/SciBERT/20220510-134813/results/checkpoint-3000/pytorch_model.bin\n",
            "Deleting older checkpoint [/content/drive/My Drive/nlu_project/SciBERT/20220510-134813/results/checkpoint-500] due to args.save_total_limit\n",
            "/usr/local/lib/python3.7/dist-packages/ipykernel_launcher.py:7: UserWarning: To copy construct from a tensor, it is recommended to use sourceTensor.clone().detach() or sourceTensor.clone().detach().requires_grad_(True), rather than torch.tensor(sourceTensor).\n",
            "  import sys\n",
            "***** Running Evaluation *****\n",
            "  Num examples = 8135\n",
            "  Batch size = 32\n",
            "/usr/local/lib/python3.7/dist-packages/ipykernel_launcher.py:7: UserWarning: To copy construct from a tensor, it is recommended to use sourceTensor.clone().detach() or sourceTensor.clone().detach().requires_grad_(True), rather than torch.tensor(sourceTensor).\n",
            "  import sys\n",
            "***** Running Evaluation *****\n",
            "  Num examples = 8135\n",
            "  Batch size = 32\n",
            "/usr/local/lib/python3.7/dist-packages/ipykernel_launcher.py:7: UserWarning: To copy construct from a tensor, it is recommended to use sourceTensor.clone().detach() or sourceTensor.clone().detach().requires_grad_(True), rather than torch.tensor(sourceTensor).\n",
            "  import sys\n",
            "***** Running Evaluation *****\n",
            "  Num examples = 8135\n",
            "  Batch size = 32\n",
            "/usr/local/lib/python3.7/dist-packages/ipykernel_launcher.py:7: UserWarning: To copy construct from a tensor, it is recommended to use sourceTensor.clone().detach() or sourceTensor.clone().detach().requires_grad_(True), rather than torch.tensor(sourceTensor).\n",
            "  import sys\n",
            "***** Running Evaluation *****\n",
            "  Num examples = 8135\n",
            "  Batch size = 32\n",
            "/usr/local/lib/python3.7/dist-packages/ipykernel_launcher.py:7: UserWarning: To copy construct from a tensor, it is recommended to use sourceTensor.clone().detach() or sourceTensor.clone().detach().requires_grad_(True), rather than torch.tensor(sourceTensor).\n",
            "  import sys\n",
            "***** Running Evaluation *****\n",
            "  Num examples = 8135\n",
            "  Batch size = 32\n",
            "Saving model checkpoint to /content/drive/My Drive/nlu_project/SciBERT/20220510-134813/results/checkpoint-3500\n",
            "Configuration saved in /content/drive/My Drive/nlu_project/SciBERT/20220510-134813/results/checkpoint-3500/config.json\n",
            "Model weights saved in /content/drive/My Drive/nlu_project/SciBERT/20220510-134813/results/checkpoint-3500/pytorch_model.bin\n",
            "Deleting older checkpoint [/content/drive/My Drive/nlu_project/SciBERT/20220510-134813/results/checkpoint-1000] due to args.save_total_limit\n",
            "/usr/local/lib/python3.7/dist-packages/ipykernel_launcher.py:7: UserWarning: To copy construct from a tensor, it is recommended to use sourceTensor.clone().detach() or sourceTensor.clone().detach().requires_grad_(True), rather than torch.tensor(sourceTensor).\n",
            "  import sys\n",
            "***** Running Evaluation *****\n",
            "  Num examples = 8135\n",
            "  Batch size = 32\n",
            "/usr/local/lib/python3.7/dist-packages/ipykernel_launcher.py:7: UserWarning: To copy construct from a tensor, it is recommended to use sourceTensor.clone().detach() or sourceTensor.clone().detach().requires_grad_(True), rather than torch.tensor(sourceTensor).\n",
            "  import sys\n",
            "***** Running Evaluation *****\n",
            "  Num examples = 8135\n",
            "  Batch size = 32\n",
            "/usr/local/lib/python3.7/dist-packages/ipykernel_launcher.py:7: UserWarning: To copy construct from a tensor, it is recommended to use sourceTensor.clone().detach() or sourceTensor.clone().detach().requires_grad_(True), rather than torch.tensor(sourceTensor).\n",
            "  import sys\n",
            "***** Running Evaluation *****\n",
            "  Num examples = 8135\n",
            "  Batch size = 32\n",
            "/usr/local/lib/python3.7/dist-packages/ipykernel_launcher.py:7: UserWarning: To copy construct from a tensor, it is recommended to use sourceTensor.clone().detach() or sourceTensor.clone().detach().requires_grad_(True), rather than torch.tensor(sourceTensor).\n",
            "  import sys\n",
            "***** Running Evaluation *****\n",
            "  Num examples = 8135\n",
            "  Batch size = 32\n",
            "/usr/local/lib/python3.7/dist-packages/ipykernel_launcher.py:7: UserWarning: To copy construct from a tensor, it is recommended to use sourceTensor.clone().detach() or sourceTensor.clone().detach().requires_grad_(True), rather than torch.tensor(sourceTensor).\n",
            "  import sys\n",
            "***** Running Evaluation *****\n",
            "  Num examples = 8135\n",
            "  Batch size = 32\n",
            "Saving model checkpoint to /content/drive/My Drive/nlu_project/SciBERT/20220510-134813/results/checkpoint-4000\n",
            "Configuration saved in /content/drive/My Drive/nlu_project/SciBERT/20220510-134813/results/checkpoint-4000/config.json\n",
            "Model weights saved in /content/drive/My Drive/nlu_project/SciBERT/20220510-134813/results/checkpoint-4000/pytorch_model.bin\n",
            "Deleting older checkpoint [/content/drive/My Drive/nlu_project/SciBERT/20220510-134813/results/checkpoint-1500] due to args.save_total_limit\n",
            "/usr/local/lib/python3.7/dist-packages/ipykernel_launcher.py:7: UserWarning: To copy construct from a tensor, it is recommended to use sourceTensor.clone().detach() or sourceTensor.clone().detach().requires_grad_(True), rather than torch.tensor(sourceTensor).\n",
            "  import sys\n",
            "***** Running Evaluation *****\n",
            "  Num examples = 8135\n",
            "  Batch size = 32\n",
            "/usr/local/lib/python3.7/dist-packages/ipykernel_launcher.py:7: UserWarning: To copy construct from a tensor, it is recommended to use sourceTensor.clone().detach() or sourceTensor.clone().detach().requires_grad_(True), rather than torch.tensor(sourceTensor).\n",
            "  import sys\n",
            "***** Running Evaluation *****\n",
            "  Num examples = 8135\n",
            "  Batch size = 32\n",
            "/usr/local/lib/python3.7/dist-packages/ipykernel_launcher.py:7: UserWarning: To copy construct from a tensor, it is recommended to use sourceTensor.clone().detach() or sourceTensor.clone().detach().requires_grad_(True), rather than torch.tensor(sourceTensor).\n",
            "  import sys\n",
            "***** Running Evaluation *****\n",
            "  Num examples = 8135\n",
            "  Batch size = 32\n",
            "/usr/local/lib/python3.7/dist-packages/ipykernel_launcher.py:7: UserWarning: To copy construct from a tensor, it is recommended to use sourceTensor.clone().detach() or sourceTensor.clone().detach().requires_grad_(True), rather than torch.tensor(sourceTensor).\n",
            "  import sys\n",
            "***** Running Evaluation *****\n",
            "  Num examples = 8135\n",
            "  Batch size = 32\n",
            "/usr/local/lib/python3.7/dist-packages/ipykernel_launcher.py:7: UserWarning: To copy construct from a tensor, it is recommended to use sourceTensor.clone().detach() or sourceTensor.clone().detach().requires_grad_(True), rather than torch.tensor(sourceTensor).\n",
            "  import sys\n",
            "***** Running Evaluation *****\n",
            "  Num examples = 8135\n",
            "  Batch size = 32\n",
            "Saving model checkpoint to /content/drive/My Drive/nlu_project/SciBERT/20220510-134813/results/checkpoint-4500\n",
            "Configuration saved in /content/drive/My Drive/nlu_project/SciBERT/20220510-134813/results/checkpoint-4500/config.json\n",
            "Model weights saved in /content/drive/My Drive/nlu_project/SciBERT/20220510-134813/results/checkpoint-4500/pytorch_model.bin\n",
            "Deleting older checkpoint [/content/drive/My Drive/nlu_project/SciBERT/20220510-134813/results/checkpoint-2000] due to args.save_total_limit\n",
            "/usr/local/lib/python3.7/dist-packages/ipykernel_launcher.py:7: UserWarning: To copy construct from a tensor, it is recommended to use sourceTensor.clone().detach() or sourceTensor.clone().detach().requires_grad_(True), rather than torch.tensor(sourceTensor).\n",
            "  import sys\n",
            "***** Running Evaluation *****\n",
            "  Num examples = 8135\n",
            "  Batch size = 32\n",
            "/usr/local/lib/python3.7/dist-packages/ipykernel_launcher.py:7: UserWarning: To copy construct from a tensor, it is recommended to use sourceTensor.clone().detach() or sourceTensor.clone().detach().requires_grad_(True), rather than torch.tensor(sourceTensor).\n",
            "  import sys\n",
            "***** Running Evaluation *****\n",
            "  Num examples = 8135\n",
            "  Batch size = 32\n",
            "/usr/local/lib/python3.7/dist-packages/ipykernel_launcher.py:7: UserWarning: To copy construct from a tensor, it is recommended to use sourceTensor.clone().detach() or sourceTensor.clone().detach().requires_grad_(True), rather than torch.tensor(sourceTensor).\n",
            "  import sys\n",
            "***** Running Evaluation *****\n",
            "  Num examples = 8135\n",
            "  Batch size = 32\n",
            "/usr/local/lib/python3.7/dist-packages/ipykernel_launcher.py:7: UserWarning: To copy construct from a tensor, it is recommended to use sourceTensor.clone().detach() or sourceTensor.clone().detach().requires_grad_(True), rather than torch.tensor(sourceTensor).\n",
            "  import sys\n",
            "***** Running Evaluation *****\n",
            "  Num examples = 8135\n",
            "  Batch size = 32\n",
            "/usr/local/lib/python3.7/dist-packages/ipykernel_launcher.py:7: UserWarning: To copy construct from a tensor, it is recommended to use sourceTensor.clone().detach() or sourceTensor.clone().detach().requires_grad_(True), rather than torch.tensor(sourceTensor).\n",
            "  import sys\n",
            "***** Running Evaluation *****\n",
            "  Num examples = 8135\n",
            "  Batch size = 32\n",
            "Saving model checkpoint to /content/drive/My Drive/nlu_project/SciBERT/20220510-134813/results/checkpoint-5000\n",
            "Configuration saved in /content/drive/My Drive/nlu_project/SciBERT/20220510-134813/results/checkpoint-5000/config.json\n",
            "Model weights saved in /content/drive/My Drive/nlu_project/SciBERT/20220510-134813/results/checkpoint-5000/pytorch_model.bin\n",
            "Deleting older checkpoint [/content/drive/My Drive/nlu_project/SciBERT/20220510-134813/results/checkpoint-2500] due to args.save_total_limit\n",
            "/usr/local/lib/python3.7/dist-packages/ipykernel_launcher.py:7: UserWarning: To copy construct from a tensor, it is recommended to use sourceTensor.clone().detach() or sourceTensor.clone().detach().requires_grad_(True), rather than torch.tensor(sourceTensor).\n",
            "  import sys\n",
            "***** Running Evaluation *****\n",
            "  Num examples = 8135\n",
            "  Batch size = 32\n",
            "/usr/local/lib/python3.7/dist-packages/ipykernel_launcher.py:7: UserWarning: To copy construct from a tensor, it is recommended to use sourceTensor.clone().detach() or sourceTensor.clone().detach().requires_grad_(True), rather than torch.tensor(sourceTensor).\n",
            "  import sys\n",
            "***** Running Evaluation *****\n",
            "  Num examples = 8135\n",
            "  Batch size = 32\n",
            "/usr/local/lib/python3.7/dist-packages/ipykernel_launcher.py:7: UserWarning: To copy construct from a tensor, it is recommended to use sourceTensor.clone().detach() or sourceTensor.clone().detach().requires_grad_(True), rather than torch.tensor(sourceTensor).\n",
            "  import sys\n",
            "***** Running Evaluation *****\n",
            "  Num examples = 8135\n",
            "  Batch size = 32\n",
            "/usr/local/lib/python3.7/dist-packages/ipykernel_launcher.py:7: UserWarning: To copy construct from a tensor, it is recommended to use sourceTensor.clone().detach() or sourceTensor.clone().detach().requires_grad_(True), rather than torch.tensor(sourceTensor).\n",
            "  import sys\n",
            "***** Running Evaluation *****\n",
            "  Num examples = 8135\n",
            "  Batch size = 32\n",
            "/usr/local/lib/python3.7/dist-packages/ipykernel_launcher.py:7: UserWarning: To copy construct from a tensor, it is recommended to use sourceTensor.clone().detach() or sourceTensor.clone().detach().requires_grad_(True), rather than torch.tensor(sourceTensor).\n",
            "  import sys\n",
            "***** Running Evaluation *****\n",
            "  Num examples = 8135\n",
            "  Batch size = 32\n",
            "Saving model checkpoint to /content/drive/My Drive/nlu_project/SciBERT/20220510-134813/results/checkpoint-5500\n",
            "Configuration saved in /content/drive/My Drive/nlu_project/SciBERT/20220510-134813/results/checkpoint-5500/config.json\n",
            "Model weights saved in /content/drive/My Drive/nlu_project/SciBERT/20220510-134813/results/checkpoint-5500/pytorch_model.bin\n",
            "Deleting older checkpoint [/content/drive/My Drive/nlu_project/SciBERT/20220510-134813/results/checkpoint-3000] due to args.save_total_limit\n",
            "/usr/local/lib/python3.7/dist-packages/ipykernel_launcher.py:7: UserWarning: To copy construct from a tensor, it is recommended to use sourceTensor.clone().detach() or sourceTensor.clone().detach().requires_grad_(True), rather than torch.tensor(sourceTensor).\n",
            "  import sys\n",
            "***** Running Evaluation *****\n",
            "  Num examples = 8135\n",
            "  Batch size = 32\n",
            "/usr/local/lib/python3.7/dist-packages/ipykernel_launcher.py:7: UserWarning: To copy construct from a tensor, it is recommended to use sourceTensor.clone().detach() or sourceTensor.clone().detach().requires_grad_(True), rather than torch.tensor(sourceTensor).\n",
            "  import sys\n",
            "***** Running Evaluation *****\n",
            "  Num examples = 8135\n",
            "  Batch size = 32\n",
            "/usr/local/lib/python3.7/dist-packages/ipykernel_launcher.py:7: UserWarning: To copy construct from a tensor, it is recommended to use sourceTensor.clone().detach() or sourceTensor.clone().detach().requires_grad_(True), rather than torch.tensor(sourceTensor).\n",
            "  import sys\n",
            "***** Running Evaluation *****\n",
            "  Num examples = 8135\n",
            "  Batch size = 32\n",
            "/usr/local/lib/python3.7/dist-packages/ipykernel_launcher.py:7: UserWarning: To copy construct from a tensor, it is recommended to use sourceTensor.clone().detach() or sourceTensor.clone().detach().requires_grad_(True), rather than torch.tensor(sourceTensor).\n",
            "  import sys\n",
            "***** Running Evaluation *****\n",
            "  Num examples = 8135\n",
            "  Batch size = 32\n",
            "/usr/local/lib/python3.7/dist-packages/ipykernel_launcher.py:7: UserWarning: To copy construct from a tensor, it is recommended to use sourceTensor.clone().detach() or sourceTensor.clone().detach().requires_grad_(True), rather than torch.tensor(sourceTensor).\n",
            "  import sys\n",
            "***** Running Evaluation *****\n",
            "  Num examples = 8135\n",
            "  Batch size = 32\n",
            "Saving model checkpoint to /content/drive/My Drive/nlu_project/SciBERT/20220510-134813/results/checkpoint-6000\n",
            "Configuration saved in /content/drive/My Drive/nlu_project/SciBERT/20220510-134813/results/checkpoint-6000/config.json\n",
            "Model weights saved in /content/drive/My Drive/nlu_project/SciBERT/20220510-134813/results/checkpoint-6000/pytorch_model.bin\n",
            "Deleting older checkpoint [/content/drive/My Drive/nlu_project/SciBERT/20220510-134813/results/checkpoint-4000] due to args.save_total_limit\n",
            "/usr/local/lib/python3.7/dist-packages/ipykernel_launcher.py:7: UserWarning: To copy construct from a tensor, it is recommended to use sourceTensor.clone().detach() or sourceTensor.clone().detach().requires_grad_(True), rather than torch.tensor(sourceTensor).\n",
            "  import sys\n",
            "***** Running Evaluation *****\n",
            "  Num examples = 8135\n",
            "  Batch size = 32\n",
            "/usr/local/lib/python3.7/dist-packages/ipykernel_launcher.py:7: UserWarning: To copy construct from a tensor, it is recommended to use sourceTensor.clone().detach() or sourceTensor.clone().detach().requires_grad_(True), rather than torch.tensor(sourceTensor).\n",
            "  import sys\n",
            "***** Running Evaluation *****\n",
            "  Num examples = 8135\n",
            "  Batch size = 32\n",
            "/usr/local/lib/python3.7/dist-packages/ipykernel_launcher.py:7: UserWarning: To copy construct from a tensor, it is recommended to use sourceTensor.clone().detach() or sourceTensor.clone().detach().requires_grad_(True), rather than torch.tensor(sourceTensor).\n",
            "  import sys\n",
            "***** Running Evaluation *****\n",
            "  Num examples = 8135\n",
            "  Batch size = 32\n",
            "/usr/local/lib/python3.7/dist-packages/ipykernel_launcher.py:7: UserWarning: To copy construct from a tensor, it is recommended to use sourceTensor.clone().detach() or sourceTensor.clone().detach().requires_grad_(True), rather than torch.tensor(sourceTensor).\n",
            "  import sys\n",
            "***** Running Evaluation *****\n",
            "  Num examples = 8135\n",
            "  Batch size = 32\n",
            "/usr/local/lib/python3.7/dist-packages/ipykernel_launcher.py:7: UserWarning: To copy construct from a tensor, it is recommended to use sourceTensor.clone().detach() or sourceTensor.clone().detach().requires_grad_(True), rather than torch.tensor(sourceTensor).\n",
            "  import sys\n",
            "***** Running Evaluation *****\n",
            "  Num examples = 8135\n",
            "  Batch size = 32\n",
            "Saving model checkpoint to /content/drive/My Drive/nlu_project/SciBERT/20220510-134813/results/checkpoint-6500\n",
            "Configuration saved in /content/drive/My Drive/nlu_project/SciBERT/20220510-134813/results/checkpoint-6500/config.json\n",
            "Model weights saved in /content/drive/My Drive/nlu_project/SciBERT/20220510-134813/results/checkpoint-6500/pytorch_model.bin\n",
            "Deleting older checkpoint [/content/drive/My Drive/nlu_project/SciBERT/20220510-134813/results/checkpoint-4500] due to args.save_total_limit\n",
            "/usr/local/lib/python3.7/dist-packages/ipykernel_launcher.py:7: UserWarning: To copy construct from a tensor, it is recommended to use sourceTensor.clone().detach() or sourceTensor.clone().detach().requires_grad_(True), rather than torch.tensor(sourceTensor).\n",
            "  import sys\n",
            "***** Running Evaluation *****\n",
            "  Num examples = 8135\n",
            "  Batch size = 32\n",
            "/usr/local/lib/python3.7/dist-packages/ipykernel_launcher.py:7: UserWarning: To copy construct from a tensor, it is recommended to use sourceTensor.clone().detach() or sourceTensor.clone().detach().requires_grad_(True), rather than torch.tensor(sourceTensor).\n",
            "  import sys\n",
            "***** Running Evaluation *****\n",
            "  Num examples = 8135\n",
            "  Batch size = 32\n",
            "/usr/local/lib/python3.7/dist-packages/ipykernel_launcher.py:7: UserWarning: To copy construct from a tensor, it is recommended to use sourceTensor.clone().detach() or sourceTensor.clone().detach().requires_grad_(True), rather than torch.tensor(sourceTensor).\n",
            "  import sys\n",
            "***** Running Evaluation *****\n",
            "  Num examples = 8135\n",
            "  Batch size = 32\n",
            "/usr/local/lib/python3.7/dist-packages/ipykernel_launcher.py:7: UserWarning: To copy construct from a tensor, it is recommended to use sourceTensor.clone().detach() or sourceTensor.clone().detach().requires_grad_(True), rather than torch.tensor(sourceTensor).\n",
            "  import sys\n",
            "***** Running Evaluation *****\n",
            "  Num examples = 8135\n",
            "  Batch size = 32\n",
            "/usr/local/lib/python3.7/dist-packages/ipykernel_launcher.py:7: UserWarning: To copy construct from a tensor, it is recommended to use sourceTensor.clone().detach() or sourceTensor.clone().detach().requires_grad_(True), rather than torch.tensor(sourceTensor).\n",
            "  import sys\n",
            "***** Running Evaluation *****\n",
            "  Num examples = 8135\n",
            "  Batch size = 32\n",
            "Saving model checkpoint to /content/drive/My Drive/nlu_project/SciBERT/20220510-134813/results/checkpoint-7000\n",
            "Configuration saved in /content/drive/My Drive/nlu_project/SciBERT/20220510-134813/results/checkpoint-7000/config.json\n",
            "Model weights saved in /content/drive/My Drive/nlu_project/SciBERT/20220510-134813/results/checkpoint-7000/pytorch_model.bin\n",
            "Deleting older checkpoint [/content/drive/My Drive/nlu_project/SciBERT/20220510-134813/results/checkpoint-5000] due to args.save_total_limit\n",
            "/usr/local/lib/python3.7/dist-packages/ipykernel_launcher.py:7: UserWarning: To copy construct from a tensor, it is recommended to use sourceTensor.clone().detach() or sourceTensor.clone().detach().requires_grad_(True), rather than torch.tensor(sourceTensor).\n",
            "  import sys\n",
            "***** Running Evaluation *****\n",
            "  Num examples = 8135\n",
            "  Batch size = 32\n",
            "/usr/local/lib/python3.7/dist-packages/ipykernel_launcher.py:7: UserWarning: To copy construct from a tensor, it is recommended to use sourceTensor.clone().detach() or sourceTensor.clone().detach().requires_grad_(True), rather than torch.tensor(sourceTensor).\n",
            "  import sys\n",
            "***** Running Evaluation *****\n",
            "  Num examples = 8135\n",
            "  Batch size = 32\n",
            "/usr/local/lib/python3.7/dist-packages/ipykernel_launcher.py:7: UserWarning: To copy construct from a tensor, it is recommended to use sourceTensor.clone().detach() or sourceTensor.clone().detach().requires_grad_(True), rather than torch.tensor(sourceTensor).\n",
            "  import sys\n",
            "***** Running Evaluation *****\n",
            "  Num examples = 8135\n",
            "  Batch size = 32\n",
            "/usr/local/lib/python3.7/dist-packages/ipykernel_launcher.py:7: UserWarning: To copy construct from a tensor, it is recommended to use sourceTensor.clone().detach() or sourceTensor.clone().detach().requires_grad_(True), rather than torch.tensor(sourceTensor).\n",
            "  import sys\n",
            "***** Running Evaluation *****\n",
            "  Num examples = 8135\n",
            "  Batch size = 32\n",
            "/usr/local/lib/python3.7/dist-packages/ipykernel_launcher.py:7: UserWarning: To copy construct from a tensor, it is recommended to use sourceTensor.clone().detach() or sourceTensor.clone().detach().requires_grad_(True), rather than torch.tensor(sourceTensor).\n",
            "  import sys\n",
            "***** Running Evaluation *****\n",
            "  Num examples = 8135\n",
            "  Batch size = 32\n",
            "Saving model checkpoint to /content/drive/My Drive/nlu_project/SciBERT/20220510-134813/results/checkpoint-7500\n",
            "Configuration saved in /content/drive/My Drive/nlu_project/SciBERT/20220510-134813/results/checkpoint-7500/config.json\n",
            "Model weights saved in /content/drive/My Drive/nlu_project/SciBERT/20220510-134813/results/checkpoint-7500/pytorch_model.bin\n",
            "Deleting older checkpoint [/content/drive/My Drive/nlu_project/SciBERT/20220510-134813/results/checkpoint-5500] due to args.save_total_limit\n",
            "/usr/local/lib/python3.7/dist-packages/ipykernel_launcher.py:7: UserWarning: To copy construct from a tensor, it is recommended to use sourceTensor.clone().detach() or sourceTensor.clone().detach().requires_grad_(True), rather than torch.tensor(sourceTensor).\n",
            "  import sys\n",
            "***** Running Evaluation *****\n",
            "  Num examples = 8135\n",
            "  Batch size = 32\n",
            "/usr/local/lib/python3.7/dist-packages/ipykernel_launcher.py:7: UserWarning: To copy construct from a tensor, it is recommended to use sourceTensor.clone().detach() or sourceTensor.clone().detach().requires_grad_(True), rather than torch.tensor(sourceTensor).\n",
            "  import sys\n",
            "***** Running Evaluation *****\n",
            "  Num examples = 8135\n",
            "  Batch size = 32\n",
            "/usr/local/lib/python3.7/dist-packages/ipykernel_launcher.py:7: UserWarning: To copy construct from a tensor, it is recommended to use sourceTensor.clone().detach() or sourceTensor.clone().detach().requires_grad_(True), rather than torch.tensor(sourceTensor).\n",
            "  import sys\n",
            "***** Running Evaluation *****\n",
            "  Num examples = 8135\n",
            "  Batch size = 32\n",
            "/usr/local/lib/python3.7/dist-packages/ipykernel_launcher.py:7: UserWarning: To copy construct from a tensor, it is recommended to use sourceTensor.clone().detach() or sourceTensor.clone().detach().requires_grad_(True), rather than torch.tensor(sourceTensor).\n",
            "  import sys\n",
            "***** Running Evaluation *****\n",
            "  Num examples = 8135\n",
            "  Batch size = 32\n",
            "/usr/local/lib/python3.7/dist-packages/ipykernel_launcher.py:7: UserWarning: To copy construct from a tensor, it is recommended to use sourceTensor.clone().detach() or sourceTensor.clone().detach().requires_grad_(True), rather than torch.tensor(sourceTensor).\n",
            "  import sys\n",
            "***** Running Evaluation *****\n",
            "  Num examples = 8135\n",
            "  Batch size = 32\n",
            "Saving model checkpoint to /content/drive/My Drive/nlu_project/SciBERT/20220510-134813/results/checkpoint-8000\n",
            "Configuration saved in /content/drive/My Drive/nlu_project/SciBERT/20220510-134813/results/checkpoint-8000/config.json\n",
            "Model weights saved in /content/drive/My Drive/nlu_project/SciBERT/20220510-134813/results/checkpoint-8000/pytorch_model.bin\n",
            "Deleting older checkpoint [/content/drive/My Drive/nlu_project/SciBERT/20220510-134813/results/checkpoint-6000] due to args.save_total_limit\n",
            "/usr/local/lib/python3.7/dist-packages/ipykernel_launcher.py:7: UserWarning: To copy construct from a tensor, it is recommended to use sourceTensor.clone().detach() or sourceTensor.clone().detach().requires_grad_(True), rather than torch.tensor(sourceTensor).\n",
            "  import sys\n",
            "***** Running Evaluation *****\n",
            "  Num examples = 8135\n",
            "  Batch size = 32\n",
            "/usr/local/lib/python3.7/dist-packages/ipykernel_launcher.py:7: UserWarning: To copy construct from a tensor, it is recommended to use sourceTensor.clone().detach() or sourceTensor.clone().detach().requires_grad_(True), rather than torch.tensor(sourceTensor).\n",
            "  import sys\n",
            "\n",
            "\n",
            "Training completed. Do not forget to share your model on huggingface.co/models =)\n",
            "\n",
            "\n",
            "Loading best model from /content/drive/My Drive/nlu_project/SciBERT/20220510-134813/results/checkpoint-3500 (score: 0.4629949927330017).\n"
          ]
        },
        {
          "output_type": "execute_result",
          "data": {
            "text/plain": [
              "TrainOutput(global_step=8145, training_loss=0.3010544449658098, metrics={'train_runtime': 8251.931, 'train_samples_per_second': 15.789, 'train_steps_per_second': 0.987, 'total_flos': 1.714076436801024e+16, 'train_loss': 0.3010544449658098, 'epoch': 3.0})"
            ]
          },
          "metadata": {},
          "execution_count": 22
        }
      ]
    },
    {
      "cell_type": "code",
      "source": [
        "# time.strftime(\"%Y%m%d-%H%M%S\")\n",
        "ending = str(args.epochs) + '_' + str(args.tbatch) + '_' + str(args.lr) + '_' + str(args.weightdecay)\n",
        "os.path.join(path, ending)"
      ],
      "metadata": {
        "colab": {
          "base_uri": "https://localhost:8080/",
          "height": 35
        },
        "id": "k_dmUWPKRWY6",
        "outputId": "bee5944a-1e3f-44f3-d926-0f6eb734041a"
      },
      "id": "k_dmUWPKRWY6",
      "execution_count": null,
      "outputs": [
        {
          "output_type": "execute_result",
          "data": {
            "text/plain": [
              "'/content/drive/My Drive/nlu_project/SciBERT/20220510-134813/3_16_1e-05_0.1'"
            ],
            "application/vnd.google.colaboratory.intrinsic+json": {
              "type": "string"
            }
          },
          "metadata": {},
          "execution_count": 116
        }
      ]
    },
    {
      "cell_type": "code",
      "source": [
        "def save_stats(trainer, path):\n",
        "  train_keys = list(trainer.state.log_history[0].keys())\n",
        "  val_keys = list(trainer.state.log_history[1].keys())\n",
        "\n",
        "  n = len(trainer.state.log_history)\n",
        "\n",
        "  train_list = []\n",
        "  eval_list = []\n",
        "\n",
        "  for idx, obj in enumerate(trainer.state.log_history):\n",
        "    if idx % 2 == 0 and (idx + 1) < n:\n",
        "      train_list.append(obj)\n",
        "    if idx % 2 != 0 and (idx + 1) < n:\n",
        "      eval_list.append(obj)\n",
        "    if idx + 1 == n:\n",
        "      summary_stats = obj\n",
        "\n",
        "  ## from list of dicts to dict of lists\n",
        "  # train_dict = {}\n",
        "  # for key in train_keys:\n",
        "  #   train_dict[key] = list(d[key] for d in train_list)\n",
        "\n",
        "  # eval_dict = {}\n",
        "  # for key in val_keys:\n",
        "  #   eval_dict[key] = list(d[key] for d in eval_list)\n",
        "\n",
        "  df_train = pd.DataFrame.from_dict(train_list)\n",
        "  df_train.to_csv (path + '/df_train.csv', index = False, header=True)\n",
        "\n",
        "  df_eval = pd.DataFrame.from_dict(eval_list)\n",
        "  df_eval.to_csv (path + '/df_eval.csv', index = False, header=True)\n",
        "\n",
        "  df_summary = pd.DataFrame(summary_stats, index=[0])\n",
        "  df_summary.to_csv (path + '/df_summary.csv', index = False, header=True)"
      ],
      "metadata": {
        "id": "UC66wHH25SRa"
      },
      "id": "UC66wHH25SRa",
      "execution_count": null,
      "outputs": []
    },
    {
      "cell_type": "code",
      "source": [
        "save_stats(trainer, path)"
      ],
      "metadata": {
        "id": "1RMwAb-s5vfe"
      },
      "id": "1RMwAb-s5vfe",
      "execution_count": null,
      "outputs": []
    },
    {
      "cell_type": "code",
      "source": [
        "outputs = trainer.predict(dataset_val)\n",
        "y_pred = outputs.predictions.argmax(1)"
      ],
      "metadata": {
        "colab": {
          "base_uri": "https://localhost:8080/",
          "height": 428
        },
        "id": "lfLj4zli58cP",
        "outputId": "e98f16d3-333e-4a02-fd91-35d899e015fa"
      },
      "id": "lfLj4zli58cP",
      "execution_count": null,
      "outputs": [
        {
          "output_type": "stream",
          "name": "stderr",
          "text": [
            "***** Running Prediction *****\n",
            "  Num examples = 8135\n",
            "  Batch size = 32\n",
            "/usr/local/lib/python3.7/dist-packages/ipykernel_launcher.py:7: UserWarning: To copy construct from a tensor, it is recommended to use sourceTensor.clone().detach() or sourceTensor.clone().detach().requires_grad_(True), rather than torch.tensor(sourceTensor).\n",
            "  import sys\n",
            "/usr/local/lib/python3.7/dist-packages/ipykernel_launcher.py:8: UserWarning: To copy construct from a tensor, it is recommended to use sourceTensor.clone().detach() or sourceTensor.clone().detach().requires_grad_(True), rather than torch.tensor(sourceTensor).\n",
            "  \n"
          ]
        },
        {
          "output_type": "display_data",
          "data": {
            "text/plain": [
              "<IPython.core.display.HTML object>"
            ],
            "text/html": [
              "\n",
              "    <div>\n",
              "      \n",
              "      <progress value='521' max='8145' style='width:300px; height:20px; vertical-align: middle;'></progress>\n",
              "      [ 521/8145 16:56 < 4:08:57, 0.51 it/s, Epoch 0.19/3]\n",
              "    </div>\n",
              "    <table border=\"1\" class=\"dataframe\">\n",
              "  <thead>\n",
              " <tr style=\"text-align: left;\">\n",
              "      <th>Step</th>\n",
              "      <th>Training Loss</th>\n",
              "      <th>Validation Loss</th>\n",
              "      <th>Accuracy</th>\n",
              "      <th>F1</th>\n",
              "      <th>Precision</th>\n",
              "      <th>Recall</th>\n",
              "    </tr>\n",
              "  </thead>\n",
              "  <tbody>\n",
              "    <tr>\n",
              "      <td>100</td>\n",
              "      <td>0.301900</td>\n",
              "      <td>0.266221</td>\n",
              "      <td>0.527351</td>\n",
              "      <td>0.000000</td>\n",
              "      <td>0.000000</td>\n",
              "      <td>0.000000</td>\n",
              "    </tr>\n",
              "    <tr>\n",
              "      <td>200</td>\n",
              "      <td>0.245100</td>\n",
              "      <td>0.251665</td>\n",
              "      <td>0.527351</td>\n",
              "      <td>0.000000</td>\n",
              "      <td>0.000000</td>\n",
              "      <td>0.000000</td>\n",
              "    </tr>\n",
              "    <tr>\n",
              "      <td>300</td>\n",
              "      <td>0.242400</td>\n",
              "      <td>0.252627</td>\n",
              "      <td>0.527351</td>\n",
              "      <td>0.000000</td>\n",
              "      <td>0.000000</td>\n",
              "      <td>0.000000</td>\n",
              "    </tr>\n",
              "    <tr>\n",
              "      <td>400</td>\n",
              "      <td>0.239100</td>\n",
              "      <td>0.257744</td>\n",
              "      <td>0.527351</td>\n",
              "      <td>0.000000</td>\n",
              "      <td>0.000000</td>\n",
              "      <td>0.000000</td>\n",
              "    </tr>\n",
              "    <tr>\n",
              "      <td>500</td>\n",
              "      <td>0.241100</td>\n",
              "      <td>0.255749</td>\n",
              "      <td>0.527351</td>\n",
              "      <td>0.000000</td>\n",
              "      <td>0.000000</td>\n",
              "      <td>0.000000</td>\n",
              "    </tr>\n",
              "  </tbody>\n",
              "</table><p>\n",
              "    <div>\n",
              "      \n",
              "      <progress value='255' max='255' style='width:300px; height:20px; vertical-align: middle;'></progress>\n",
              "      [255/255 01:55]\n",
              "    </div>\n",
              "    "
            ]
          },
          "metadata": {}
        },
        {
          "output_type": "stream",
          "name": "stderr",
          "text": [
            "/usr/local/lib/python3.7/dist-packages/sklearn/metrics/_classification.py:1318: UndefinedMetricWarning: Precision and F-score are ill-defined and being set to 0.0 due to no predicted samples. Use `zero_division` parameter to control this behavior.\n",
            "  _warn_prf(average, modifier, msg_start, len(result))\n"
          ]
        }
      ]
    },
    {
      "cell_type": "code",
      "source": [
        "from main import main"
      ],
      "metadata": {
        "id": "f__obYKsTKxZ"
      },
      "id": "f__obYKsTKxZ",
      "execution_count": null,
      "outputs": []
    },
    {
      "cell_type": "code",
      "source": [
        "args.model == 'BlueBERT'"
      ],
      "metadata": {
        "colab": {
          "base_uri": "https://localhost:8080/"
        },
        "id": "6E2cIZoCTuGW",
        "outputId": "023e234e-0ecc-4109-b565-285873d75dd1"
      },
      "id": "6E2cIZoCTuGW",
      "execution_count": null,
      "outputs": [
        {
          "output_type": "execute_result",
          "data": {
            "text/plain": [
              "False"
            ]
          },
          "metadata": {},
          "execution_count": 127
        }
      ]
    },
    {
      "cell_type": "code",
      "source": [
        "path"
      ],
      "metadata": {
        "colab": {
          "base_uri": "https://localhost:8080/",
          "height": 35
        },
        "id": "zzzWJ6cHXl8x",
        "outputId": "9ec2ebe0-f474-4ed2-f869-fbed4b82c0e0"
      },
      "id": "zzzWJ6cHXl8x",
      "execution_count": null,
      "outputs": [
        {
          "output_type": "execute_result",
          "data": {
            "text/plain": [
              "'/content/drive/My Drive/nlu_project/SciBERT/20220510-190446/3_16_1e-05_0.1'"
            ],
            "application/vnd.google.colaboratory.intrinsic+json": {
              "type": "string"
            }
          },
          "metadata": {},
          "execution_count": 140
        }
      ]
    },
    {
      "cell_type": "code",
      "source": [
        "def main(args):\n",
        "  model = args.model.split(':')[0]\n",
        "  huggingface = args.model.split(':')[1]\n",
        "  path = args.path + model\n",
        "\n",
        "  if torch.cuda.is_available():\n",
        "      torch.device('cuda')\n",
        "  else:\n",
        "      torch.device('cpu')\n",
        "\n",
        "  tokenizer = transformers.AutoTokenizer.from_pretrained(huggingface)\n",
        "\n",
        "  if model == 'BioMed-RoBERTa':\n",
        "    model = transformers.RobertaForSequenceClassification.from_pretrained(huggingface, num_labels=2)\n",
        "  else:\n",
        "    model = transformers.BertForSequenceClassification.from_pretrained(huggingface, num_labels=2)\n",
        "\n",
        "  df = pd.read_csv(args.data)\n",
        "\n",
        "  ## tokenize abstracts\n",
        "  encoded_train = tokenizer(list(df.loc[df['set'] == 'train', 'abstract']),\n",
        "                            max_length=args.maxlength, truncation=True, padding=True, return_tensors='pt')\n",
        "  encoded_val = tokenizer(list(df.loc[df['set'] == 'validation', 'abstract']),\n",
        "                          max_length=args.maxlength, truncation=True, padding=True, return_tensors='pt')\n",
        "  # encoded_test = tokenizer(list(df.loc[df['set'] == 'test', 'abstract']),\n",
        "                          #  max_length=args.maxlength, truncation=True, padding=True, return_tensors='pt')    \n",
        "\n",
        "  ## create labels\n",
        "  label_train = list(df.loc[df['set'] == 'train', 'SENSITIVE'])\n",
        "  label_val = list(df.loc[df['set'] == 'validation', 'SENSITIVE'])\n",
        "  # label_test = list(df.loc[df['set'] == 'test', 'SENSITIVE'])\n",
        "\n",
        "  label_train = [int(x == True) for x in label_train]\n",
        "  label_val = [int(x == True) for x in label_val]\n",
        "  # label_test = [int(x == True) for x in label_test]\n",
        "\n",
        "  ## create dataset\n",
        "  dataset_train = AbstractDataset(encoded_train, label_train)\n",
        "  dataset_val = AbstractDataset(encoded_val, label_val)\n",
        "  # dataset_test = AbstractDataset(encoded_test, label_test)\n",
        "\n",
        "  # time.strftime(\"%Y%m%d-%H%M%S\")\n",
        "  ending = str(args.maxlength) + '_' + str(args.epochs) + '_' + str(args.tbatch) + '_' + str(args.lr) + '_' + str(args.weightdecay)\n",
        "  path = os.path.join(path, ending)\n",
        "  os.mkdir(path)\n",
        "  os.mkdir(path + '/results')\n",
        "  os.mkdir(path + '/logs')\n",
        "\n",
        "  training_args = transformers.TrainingArguments(\n",
        "      learning_rate = args.lr,\n",
        "      num_train_epochs=args.epochs,              \n",
        "      per_device_train_batch_size=args.tbatch,  \n",
        "      per_device_eval_batch_size=args.vbatch,   \n",
        "      warmup_steps=args.warmup,                \n",
        "      weight_decay=args.weightdecay,               \n",
        "      output_dir=path + '/results',      \n",
        "      overwrite_output_dir=args.overwrite,\n",
        "      save_total_limit=args.savelim,\n",
        "      evaluation_strategy='steps',\n",
        "      save_strategy='steps',\n",
        "      load_best_model_at_end=args.loadbest,    \n",
        "      logging_dir=path + '/logs',            \n",
        "      logging_steps=args.loggingsteps\n",
        "  )\n",
        "\n",
        "  trainer = transformers.Trainer(\n",
        "      model=model,                         \n",
        "      args=training_args,\n",
        "      compute_metrics=compute_metrics,                  \n",
        "      train_dataset=dataset_train,         \n",
        "      eval_dataset=dataset_val             \n",
        "  )\n",
        "\n",
        "  trainer.train()\n",
        "\n",
        "  save_stats(trainer, path)\n"
      ],
      "metadata": {
        "id": "9dU45CnaVx_I"
      },
      "id": "9dU45CnaVx_I",
      "execution_count": null,
      "outputs": []
    },
    {
      "cell_type": "code",
      "source": [
        "args"
      ],
      "metadata": {
        "colab": {
          "base_uri": "https://localhost:8080/"
        },
        "id": "ci968ciqaaDP",
        "outputId": "af1e2dce-8c01-48a1-ee9a-e2eb1cf5903e"
      },
      "id": "ci968ciqaaDP",
      "execution_count": null,
      "outputs": [
        {
          "output_type": "execute_result",
          "data": {
            "text/plain": [
              "Namespace(data='/content/drive/My Drive/nlu_project/assets/articles.csv', epochs=3, loadbest=True, loggingsteps=100, lr=1e-05, maxlength=256, model='SciBERT', overwrite=True, path='/content/drive/My Drive/nlu_project/', savelim=2, tbatch=16, vbatch=16, warmup=500, weightdecay=0.1)"
            ]
          },
          "metadata": {},
          "execution_count": 157
        }
      ]
    },
    {
      "cell_type": "code",
      "source": [
        "arguments.model = 'SciBERT:allenai/scibert_scivocab_uncased'\n",
        "# arguments.model ='BioBERT:dmis-lab/biobert-v1.1'\n",
        "# arguments.model ='BioMed-RoBERTa:allenai/biomed_roberta_base'\n",
        "# arguments.model ='BlueBERT:bionlp/bluebert_pubmed_uncased_L-12_H-768_A-12'\n",
        "\n",
        "arguments.maxlength = 512"
      ],
      "metadata": {
        "id": "5fM460XRav-r"
      },
      "id": "5fM460XRav-r",
      "execution_count": null,
      "outputs": []
    },
    {
      "cell_type": "code",
      "source": [
        "arguments"
      ],
      "metadata": {
        "colab": {
          "base_uri": "https://localhost:8080/"
        },
        "id": "Jxqx1avrbywF",
        "outputId": "df2e294a-d375-46f2-fe15-31db5461d4dd"
      },
      "id": "Jxqx1avrbywF",
      "execution_count": null,
      "outputs": [
        {
          "output_type": "execute_result",
          "data": {
            "text/plain": [
              "Namespace(data='/content/drive/My Drive/nlu_project/assets/articles.csv', epochs=3, loadbest=True, loggingsteps=100, lr=1e-05, maxlength=512, model='SciBERT:allenai/scibert_scivocab_uncased', overwrite=True, path='/content/drive/My Drive/nlu_project/', savelim=2, tbatch=16, vbatch=16, warmup=500, weightdecay=0.1)"
            ]
          },
          "metadata": {},
          "execution_count": 194
        }
      ]
    },
    {
      "cell_type": "code",
      "source": [
        "main(args=arguments)"
      ],
      "metadata": {
        "colab": {
          "base_uri": "https://localhost:8080/",
          "height": 1000
        },
        "id": "UvZVplVnTQuc",
        "outputId": "fa79edce-cec1-466f-a70b-813c9eec872e"
      },
      "id": "UvZVplVnTQuc",
      "execution_count": null,
      "outputs": [
        {
          "output_type": "stream",
          "name": "stderr",
          "text": [
            "Could not locate the tokenizer configuration file, will try to use the model config instead.\n",
            "loading configuration file https://huggingface.co/allenai/scibert_scivocab_uncased/resolve/main/config.json from cache at /root/.cache/huggingface/transformers/858852fd2471ce39075378592ddc87f5a6551e64c6825d1b92c8dab9318e0fc3.03ff9e9f998b9a9d40647a2148a202e3fb3d568dc0f170dda9dda194bab4d5dd\n",
            "Model config BertConfig {\n",
            "  \"_name_or_path\": \"allenai/scibert_scivocab_uncased\",\n",
            "  \"attention_probs_dropout_prob\": 0.1,\n",
            "  \"classifier_dropout\": null,\n",
            "  \"hidden_act\": \"gelu\",\n",
            "  \"hidden_dropout_prob\": 0.1,\n",
            "  \"hidden_size\": 768,\n",
            "  \"initializer_range\": 0.02,\n",
            "  \"intermediate_size\": 3072,\n",
            "  \"layer_norm_eps\": 1e-12,\n",
            "  \"max_position_embeddings\": 512,\n",
            "  \"model_type\": \"bert\",\n",
            "  \"num_attention_heads\": 12,\n",
            "  \"num_hidden_layers\": 12,\n",
            "  \"pad_token_id\": 0,\n",
            "  \"position_embedding_type\": \"absolute\",\n",
            "  \"transformers_version\": \"4.18.0\",\n",
            "  \"type_vocab_size\": 2,\n",
            "  \"use_cache\": true,\n",
            "  \"vocab_size\": 31090\n",
            "}\n",
            "\n",
            "loading file https://huggingface.co/allenai/scibert_scivocab_uncased/resolve/main/vocab.txt from cache at /root/.cache/huggingface/transformers/33593020f507d72099bd84ea6cd2296feb424fecd62d4a8edcc2a02899af6e29.38339d84e6e392addd730fd85fae32652c4cc7c5423633d6fa73e5f7937bbc38\n",
            "loading file https://huggingface.co/allenai/scibert_scivocab_uncased/resolve/main/tokenizer.json from cache at None\n",
            "loading file https://huggingface.co/allenai/scibert_scivocab_uncased/resolve/main/added_tokens.json from cache at None\n",
            "loading file https://huggingface.co/allenai/scibert_scivocab_uncased/resolve/main/special_tokens_map.json from cache at None\n",
            "loading file https://huggingface.co/allenai/scibert_scivocab_uncased/resolve/main/tokenizer_config.json from cache at None\n",
            "loading configuration file https://huggingface.co/allenai/scibert_scivocab_uncased/resolve/main/config.json from cache at /root/.cache/huggingface/transformers/858852fd2471ce39075378592ddc87f5a6551e64c6825d1b92c8dab9318e0fc3.03ff9e9f998b9a9d40647a2148a202e3fb3d568dc0f170dda9dda194bab4d5dd\n",
            "Model config BertConfig {\n",
            "  \"_name_or_path\": \"allenai/scibert_scivocab_uncased\",\n",
            "  \"attention_probs_dropout_prob\": 0.1,\n",
            "  \"classifier_dropout\": null,\n",
            "  \"hidden_act\": \"gelu\",\n",
            "  \"hidden_dropout_prob\": 0.1,\n",
            "  \"hidden_size\": 768,\n",
            "  \"initializer_range\": 0.02,\n",
            "  \"intermediate_size\": 3072,\n",
            "  \"layer_norm_eps\": 1e-12,\n",
            "  \"max_position_embeddings\": 512,\n",
            "  \"model_type\": \"bert\",\n",
            "  \"num_attention_heads\": 12,\n",
            "  \"num_hidden_layers\": 12,\n",
            "  \"pad_token_id\": 0,\n",
            "  \"position_embedding_type\": \"absolute\",\n",
            "  \"transformers_version\": \"4.18.0\",\n",
            "  \"type_vocab_size\": 2,\n",
            "  \"use_cache\": true,\n",
            "  \"vocab_size\": 31090\n",
            "}\n",
            "\n",
            "loading configuration file https://huggingface.co/allenai/scibert_scivocab_uncased/resolve/main/config.json from cache at /root/.cache/huggingface/transformers/858852fd2471ce39075378592ddc87f5a6551e64c6825d1b92c8dab9318e0fc3.03ff9e9f998b9a9d40647a2148a202e3fb3d568dc0f170dda9dda194bab4d5dd\n",
            "Model config BertConfig {\n",
            "  \"_name_or_path\": \"allenai/scibert_scivocab_uncased\",\n",
            "  \"attention_probs_dropout_prob\": 0.1,\n",
            "  \"classifier_dropout\": null,\n",
            "  \"hidden_act\": \"gelu\",\n",
            "  \"hidden_dropout_prob\": 0.1,\n",
            "  \"hidden_size\": 768,\n",
            "  \"initializer_range\": 0.02,\n",
            "  \"intermediate_size\": 3072,\n",
            "  \"layer_norm_eps\": 1e-12,\n",
            "  \"max_position_embeddings\": 512,\n",
            "  \"model_type\": \"bert\",\n",
            "  \"num_attention_heads\": 12,\n",
            "  \"num_hidden_layers\": 12,\n",
            "  \"pad_token_id\": 0,\n",
            "  \"position_embedding_type\": \"absolute\",\n",
            "  \"transformers_version\": \"4.18.0\",\n",
            "  \"type_vocab_size\": 2,\n",
            "  \"use_cache\": true,\n",
            "  \"vocab_size\": 31090\n",
            "}\n",
            "\n",
            "loading configuration file https://huggingface.co/allenai/scibert_scivocab_uncased/resolve/main/config.json from cache at /root/.cache/huggingface/transformers/858852fd2471ce39075378592ddc87f5a6551e64c6825d1b92c8dab9318e0fc3.03ff9e9f998b9a9d40647a2148a202e3fb3d568dc0f170dda9dda194bab4d5dd\n",
            "Model config BertConfig {\n",
            "  \"attention_probs_dropout_prob\": 0.1,\n",
            "  \"classifier_dropout\": null,\n",
            "  \"hidden_act\": \"gelu\",\n",
            "  \"hidden_dropout_prob\": 0.1,\n",
            "  \"hidden_size\": 768,\n",
            "  \"initializer_range\": 0.02,\n",
            "  \"intermediate_size\": 3072,\n",
            "  \"layer_norm_eps\": 1e-12,\n",
            "  \"max_position_embeddings\": 512,\n",
            "  \"model_type\": \"bert\",\n",
            "  \"num_attention_heads\": 12,\n",
            "  \"num_hidden_layers\": 12,\n",
            "  \"pad_token_id\": 0,\n",
            "  \"position_embedding_type\": \"absolute\",\n",
            "  \"transformers_version\": \"4.18.0\",\n",
            "  \"type_vocab_size\": 2,\n",
            "  \"use_cache\": true,\n",
            "  \"vocab_size\": 31090\n",
            "}\n",
            "\n",
            "loading weights file https://huggingface.co/allenai/scibert_scivocab_uncased/resolve/main/pytorch_model.bin from cache at /root/.cache/huggingface/transformers/de14937a851e8180a2bc5660c0041d385f8a0c62b1b2ccafa46df31043a2390c.74830bb01a0ffcdeaed8be9916312726d0c4cd364ac6fc15b375f789eaff4cbb\n",
            "Some weights of the model checkpoint at allenai/scibert_scivocab_uncased were not used when initializing BertForSequenceClassification: ['cls.predictions.transform.dense.bias', 'cls.predictions.bias', 'cls.seq_relationship.weight', 'cls.seq_relationship.bias', 'cls.predictions.decoder.bias', 'cls.predictions.transform.dense.weight', 'cls.predictions.transform.LayerNorm.bias', 'cls.predictions.transform.LayerNorm.weight', 'cls.predictions.decoder.weight']\n",
            "- This IS expected if you are initializing BertForSequenceClassification from the checkpoint of a model trained on another task or with another architecture (e.g. initializing a BertForSequenceClassification model from a BertForPreTraining model).\n",
            "- This IS NOT expected if you are initializing BertForSequenceClassification from the checkpoint of a model that you expect to be exactly identical (initializing a BertForSequenceClassification model from a BertForSequenceClassification model).\n",
            "Some weights of BertForSequenceClassification were not initialized from the model checkpoint at allenai/scibert_scivocab_uncased and are newly initialized: ['classifier.weight', 'classifier.bias']\n",
            "You should probably TRAIN this model on a down-stream task to be able to use it for predictions and inference.\n",
            "using `logging_steps` to initialize `eval_steps` to 100\n",
            "PyTorch: setting up devices\n",
            "The default value for the training argument `--report_to` will change in v5 (from all installed integrations to none). In v5, you will need to use `--report_to all` to get the same behavior as now. You should start updating your code and make this info disappear :-).\n",
            "/usr/local/lib/python3.7/dist-packages/transformers/optimization.py:309: FutureWarning: This implementation of AdamW is deprecated and will be removed in a future version. Use the PyTorch implementation torch.optim.AdamW instead, or set `no_deprecation_warning=True` to disable this warning\n",
            "  FutureWarning,\n",
            "***** Running training *****\n",
            "  Num examples = 43431\n",
            "  Num Epochs = 3\n",
            "  Instantaneous batch size per device = 16\n",
            "  Total train batch size (w. parallel, distributed & accumulation) = 16\n",
            "  Gradient Accumulation steps = 1\n",
            "  Total optimization steps = 8145\n",
            "/usr/local/lib/python3.7/dist-packages/ipykernel_launcher.py:7: UserWarning: To copy construct from a tensor, it is recommended to use sourceTensor.clone().detach() or sourceTensor.clone().detach().requires_grad_(True), rather than torch.tensor(sourceTensor).\n",
            "  import sys\n"
          ]
        },
        {
          "output_type": "display_data",
          "data": {
            "text/plain": [
              "<IPython.core.display.HTML object>"
            ],
            "text/html": [
              "\n",
              "    <div>\n",
              "      \n",
              "      <progress value='2' max='8145' style='width:300px; height:20px; vertical-align: middle;'></progress>\n",
              "      [   2/8145 : < :, Epoch 0.00/3]\n",
              "    </div>\n",
              "    <table border=\"1\" class=\"dataframe\">\n",
              "  <thead>\n",
              " <tr style=\"text-align: left;\">\n",
              "      <th>Step</th>\n",
              "      <th>Training Loss</th>\n",
              "      <th>Validation Loss</th>\n",
              "    </tr>\n",
              "  </thead>\n",
              "  <tbody>\n",
              "  </tbody>\n",
              "</table><p>"
            ]
          },
          "metadata": {}
        },
        {
          "output_type": "error",
          "ename": "RuntimeError",
          "evalue": "ignored",
          "traceback": [
            "\u001b[0;31m---------------------------------------------------------------------------\u001b[0m",
            "\u001b[0;31mRuntimeError\u001b[0m                              Traceback (most recent call last)",
            "\u001b[0;32m<ipython-input-195-cfc20f3034d6>\u001b[0m in \u001b[0;36m<module>\u001b[0;34m()\u001b[0m\n\u001b[0;32m----> 1\u001b[0;31m \u001b[0mmain\u001b[0m\u001b[0;34m(\u001b[0m\u001b[0margs\u001b[0m\u001b[0;34m=\u001b[0m\u001b[0marguments\u001b[0m\u001b[0;34m)\u001b[0m\u001b[0;34m\u001b[0m\u001b[0;34m\u001b[0m\u001b[0m\n\u001b[0m",
            "\u001b[0;32m<ipython-input-166-29cd45207dd5>\u001b[0m in \u001b[0;36mmain\u001b[0;34m(args)\u001b[0m\n\u001b[1;32m     72\u001b[0m   )\n\u001b[1;32m     73\u001b[0m \u001b[0;34m\u001b[0m\u001b[0m\n\u001b[0;32m---> 74\u001b[0;31m   \u001b[0mtrainer\u001b[0m\u001b[0;34m.\u001b[0m\u001b[0mtrain\u001b[0m\u001b[0;34m(\u001b[0m\u001b[0;34m)\u001b[0m\u001b[0;34m\u001b[0m\u001b[0;34m\u001b[0m\u001b[0m\n\u001b[0m\u001b[1;32m     75\u001b[0m \u001b[0;34m\u001b[0m\u001b[0m\n\u001b[1;32m     76\u001b[0m   \u001b[0msave_stats\u001b[0m\u001b[0;34m(\u001b[0m\u001b[0mtrainer\u001b[0m\u001b[0;34m,\u001b[0m \u001b[0mpath\u001b[0m\u001b[0;34m)\u001b[0m\u001b[0;34m\u001b[0m\u001b[0;34m\u001b[0m\u001b[0m\n",
            "\u001b[0;32m/usr/local/lib/python3.7/dist-packages/transformers/trainer.py\u001b[0m in \u001b[0;36mtrain\u001b[0;34m(self, resume_from_checkpoint, trial, ignore_keys_for_eval, **kwargs)\u001b[0m\n\u001b[1;32m   1420\u001b[0m                         \u001b[0mtr_loss_step\u001b[0m \u001b[0;34m=\u001b[0m \u001b[0mself\u001b[0m\u001b[0;34m.\u001b[0m\u001b[0mtraining_step\u001b[0m\u001b[0;34m(\u001b[0m\u001b[0mmodel\u001b[0m\u001b[0;34m,\u001b[0m \u001b[0minputs\u001b[0m\u001b[0;34m)\u001b[0m\u001b[0;34m\u001b[0m\u001b[0;34m\u001b[0m\u001b[0m\n\u001b[1;32m   1421\u001b[0m                 \u001b[0;32melse\u001b[0m\u001b[0;34m:\u001b[0m\u001b[0;34m\u001b[0m\u001b[0;34m\u001b[0m\u001b[0m\n\u001b[0;32m-> 1422\u001b[0;31m                     \u001b[0mtr_loss_step\u001b[0m \u001b[0;34m=\u001b[0m \u001b[0mself\u001b[0m\u001b[0;34m.\u001b[0m\u001b[0mtraining_step\u001b[0m\u001b[0;34m(\u001b[0m\u001b[0mmodel\u001b[0m\u001b[0;34m,\u001b[0m \u001b[0minputs\u001b[0m\u001b[0;34m)\u001b[0m\u001b[0;34m\u001b[0m\u001b[0;34m\u001b[0m\u001b[0m\n\u001b[0m\u001b[1;32m   1423\u001b[0m \u001b[0;34m\u001b[0m\u001b[0m\n\u001b[1;32m   1424\u001b[0m                 if (\n",
            "\u001b[0;32m/usr/local/lib/python3.7/dist-packages/transformers/trainer.py\u001b[0m in \u001b[0;36mtraining_step\u001b[0;34m(self, model, inputs)\u001b[0m\n\u001b[1;32m   2009\u001b[0m \u001b[0;34m\u001b[0m\u001b[0m\n\u001b[1;32m   2010\u001b[0m         \u001b[0;32mwith\u001b[0m \u001b[0mself\u001b[0m\u001b[0;34m.\u001b[0m\u001b[0mautocast_smart_context_manager\u001b[0m\u001b[0;34m(\u001b[0m\u001b[0;34m)\u001b[0m\u001b[0;34m:\u001b[0m\u001b[0;34m\u001b[0m\u001b[0;34m\u001b[0m\u001b[0m\n\u001b[0;32m-> 2011\u001b[0;31m             \u001b[0mloss\u001b[0m \u001b[0;34m=\u001b[0m \u001b[0mself\u001b[0m\u001b[0;34m.\u001b[0m\u001b[0mcompute_loss\u001b[0m\u001b[0;34m(\u001b[0m\u001b[0mmodel\u001b[0m\u001b[0;34m,\u001b[0m \u001b[0minputs\u001b[0m\u001b[0;34m)\u001b[0m\u001b[0;34m\u001b[0m\u001b[0;34m\u001b[0m\u001b[0m\n\u001b[0m\u001b[1;32m   2012\u001b[0m \u001b[0;34m\u001b[0m\u001b[0m\n\u001b[1;32m   2013\u001b[0m         \u001b[0;32mif\u001b[0m \u001b[0mself\u001b[0m\u001b[0;34m.\u001b[0m\u001b[0margs\u001b[0m\u001b[0;34m.\u001b[0m\u001b[0mn_gpu\u001b[0m \u001b[0;34m>\u001b[0m \u001b[0;36m1\u001b[0m\u001b[0;34m:\u001b[0m\u001b[0;34m\u001b[0m\u001b[0;34m\u001b[0m\u001b[0m\n",
            "\u001b[0;32m/usr/local/lib/python3.7/dist-packages/transformers/trainer.py\u001b[0m in \u001b[0;36mcompute_loss\u001b[0;34m(self, model, inputs, return_outputs)\u001b[0m\n\u001b[1;32m   2041\u001b[0m         \u001b[0;32melse\u001b[0m\u001b[0;34m:\u001b[0m\u001b[0;34m\u001b[0m\u001b[0;34m\u001b[0m\u001b[0m\n\u001b[1;32m   2042\u001b[0m             \u001b[0mlabels\u001b[0m \u001b[0;34m=\u001b[0m \u001b[0;32mNone\u001b[0m\u001b[0;34m\u001b[0m\u001b[0;34m\u001b[0m\u001b[0m\n\u001b[0;32m-> 2043\u001b[0;31m         \u001b[0moutputs\u001b[0m \u001b[0;34m=\u001b[0m \u001b[0mmodel\u001b[0m\u001b[0;34m(\u001b[0m\u001b[0;34m**\u001b[0m\u001b[0minputs\u001b[0m\u001b[0;34m)\u001b[0m\u001b[0;34m\u001b[0m\u001b[0;34m\u001b[0m\u001b[0m\n\u001b[0m\u001b[1;32m   2044\u001b[0m         \u001b[0;31m# Save past state if it exists\u001b[0m\u001b[0;34m\u001b[0m\u001b[0;34m\u001b[0m\u001b[0;34m\u001b[0m\u001b[0m\n\u001b[1;32m   2045\u001b[0m         \u001b[0;31m# TODO: this needs to be fixed and made cleaner later.\u001b[0m\u001b[0;34m\u001b[0m\u001b[0;34m\u001b[0m\u001b[0;34m\u001b[0m\u001b[0m\n",
            "\u001b[0;32m/usr/local/lib/python3.7/dist-packages/torch/nn/modules/module.py\u001b[0m in \u001b[0;36m_call_impl\u001b[0;34m(self, *input, **kwargs)\u001b[0m\n\u001b[1;32m   1108\u001b[0m         if not (self._backward_hooks or self._forward_hooks or self._forward_pre_hooks or _global_backward_hooks\n\u001b[1;32m   1109\u001b[0m                 or _global_forward_hooks or _global_forward_pre_hooks):\n\u001b[0;32m-> 1110\u001b[0;31m             \u001b[0;32mreturn\u001b[0m \u001b[0mforward_call\u001b[0m\u001b[0;34m(\u001b[0m\u001b[0;34m*\u001b[0m\u001b[0minput\u001b[0m\u001b[0;34m,\u001b[0m \u001b[0;34m**\u001b[0m\u001b[0mkwargs\u001b[0m\u001b[0;34m)\u001b[0m\u001b[0;34m\u001b[0m\u001b[0;34m\u001b[0m\u001b[0m\n\u001b[0m\u001b[1;32m   1111\u001b[0m         \u001b[0;31m# Do not call functions when jit is used\u001b[0m\u001b[0;34m\u001b[0m\u001b[0;34m\u001b[0m\u001b[0;34m\u001b[0m\u001b[0m\n\u001b[1;32m   1112\u001b[0m         \u001b[0mfull_backward_hooks\u001b[0m\u001b[0;34m,\u001b[0m \u001b[0mnon_full_backward_hooks\u001b[0m \u001b[0;34m=\u001b[0m \u001b[0;34m[\u001b[0m\u001b[0;34m]\u001b[0m\u001b[0;34m,\u001b[0m \u001b[0;34m[\u001b[0m\u001b[0;34m]\u001b[0m\u001b[0;34m\u001b[0m\u001b[0;34m\u001b[0m\u001b[0m\n",
            "\u001b[0;32m/usr/local/lib/python3.7/dist-packages/transformers/models/bert/modeling_bert.py\u001b[0m in \u001b[0;36mforward\u001b[0;34m(self, input_ids, attention_mask, token_type_ids, position_ids, head_mask, inputs_embeds, labels, output_attentions, output_hidden_states, return_dict)\u001b[0m\n\u001b[1;32m   1552\u001b[0m             \u001b[0moutput_attentions\u001b[0m\u001b[0;34m=\u001b[0m\u001b[0moutput_attentions\u001b[0m\u001b[0;34m,\u001b[0m\u001b[0;34m\u001b[0m\u001b[0;34m\u001b[0m\u001b[0m\n\u001b[1;32m   1553\u001b[0m             \u001b[0moutput_hidden_states\u001b[0m\u001b[0;34m=\u001b[0m\u001b[0moutput_hidden_states\u001b[0m\u001b[0;34m,\u001b[0m\u001b[0;34m\u001b[0m\u001b[0;34m\u001b[0m\u001b[0m\n\u001b[0;32m-> 1554\u001b[0;31m             \u001b[0mreturn_dict\u001b[0m\u001b[0;34m=\u001b[0m\u001b[0mreturn_dict\u001b[0m\u001b[0;34m,\u001b[0m\u001b[0;34m\u001b[0m\u001b[0;34m\u001b[0m\u001b[0m\n\u001b[0m\u001b[1;32m   1555\u001b[0m         )\n\u001b[1;32m   1556\u001b[0m \u001b[0;34m\u001b[0m\u001b[0m\n",
            "\u001b[0;32m/usr/local/lib/python3.7/dist-packages/torch/nn/modules/module.py\u001b[0m in \u001b[0;36m_call_impl\u001b[0;34m(self, *input, **kwargs)\u001b[0m\n\u001b[1;32m   1108\u001b[0m         if not (self._backward_hooks or self._forward_hooks or self._forward_pre_hooks or _global_backward_hooks\n\u001b[1;32m   1109\u001b[0m                 or _global_forward_hooks or _global_forward_pre_hooks):\n\u001b[0;32m-> 1110\u001b[0;31m             \u001b[0;32mreturn\u001b[0m \u001b[0mforward_call\u001b[0m\u001b[0;34m(\u001b[0m\u001b[0;34m*\u001b[0m\u001b[0minput\u001b[0m\u001b[0;34m,\u001b[0m \u001b[0;34m**\u001b[0m\u001b[0mkwargs\u001b[0m\u001b[0;34m)\u001b[0m\u001b[0;34m\u001b[0m\u001b[0;34m\u001b[0m\u001b[0m\n\u001b[0m\u001b[1;32m   1111\u001b[0m         \u001b[0;31m# Do not call functions when jit is used\u001b[0m\u001b[0;34m\u001b[0m\u001b[0;34m\u001b[0m\u001b[0;34m\u001b[0m\u001b[0m\n\u001b[1;32m   1112\u001b[0m         \u001b[0mfull_backward_hooks\u001b[0m\u001b[0;34m,\u001b[0m \u001b[0mnon_full_backward_hooks\u001b[0m \u001b[0;34m=\u001b[0m \u001b[0;34m[\u001b[0m\u001b[0;34m]\u001b[0m\u001b[0;34m,\u001b[0m \u001b[0;34m[\u001b[0m\u001b[0;34m]\u001b[0m\u001b[0;34m\u001b[0m\u001b[0;34m\u001b[0m\u001b[0m\n",
            "\u001b[0;32m/usr/local/lib/python3.7/dist-packages/transformers/models/bert/modeling_bert.py\u001b[0m in \u001b[0;36mforward\u001b[0;34m(self, input_ids, attention_mask, token_type_ids, position_ids, head_mask, inputs_embeds, encoder_hidden_states, encoder_attention_mask, past_key_values, use_cache, output_attentions, output_hidden_states, return_dict)\u001b[0m\n\u001b[1;32m   1004\u001b[0m             \u001b[0moutput_attentions\u001b[0m\u001b[0;34m=\u001b[0m\u001b[0moutput_attentions\u001b[0m\u001b[0;34m,\u001b[0m\u001b[0;34m\u001b[0m\u001b[0;34m\u001b[0m\u001b[0m\n\u001b[1;32m   1005\u001b[0m             \u001b[0moutput_hidden_states\u001b[0m\u001b[0;34m=\u001b[0m\u001b[0moutput_hidden_states\u001b[0m\u001b[0;34m,\u001b[0m\u001b[0;34m\u001b[0m\u001b[0;34m\u001b[0m\u001b[0m\n\u001b[0;32m-> 1006\u001b[0;31m             \u001b[0mreturn_dict\u001b[0m\u001b[0;34m=\u001b[0m\u001b[0mreturn_dict\u001b[0m\u001b[0;34m,\u001b[0m\u001b[0;34m\u001b[0m\u001b[0;34m\u001b[0m\u001b[0m\n\u001b[0m\u001b[1;32m   1007\u001b[0m         )\n\u001b[1;32m   1008\u001b[0m         \u001b[0msequence_output\u001b[0m \u001b[0;34m=\u001b[0m \u001b[0mencoder_outputs\u001b[0m\u001b[0;34m[\u001b[0m\u001b[0;36m0\u001b[0m\u001b[0;34m]\u001b[0m\u001b[0;34m\u001b[0m\u001b[0;34m\u001b[0m\u001b[0m\n",
            "\u001b[0;32m/usr/local/lib/python3.7/dist-packages/torch/nn/modules/module.py\u001b[0m in \u001b[0;36m_call_impl\u001b[0;34m(self, *input, **kwargs)\u001b[0m\n\u001b[1;32m   1108\u001b[0m         if not (self._backward_hooks or self._forward_hooks or self._forward_pre_hooks or _global_backward_hooks\n\u001b[1;32m   1109\u001b[0m                 or _global_forward_hooks or _global_forward_pre_hooks):\n\u001b[0;32m-> 1110\u001b[0;31m             \u001b[0;32mreturn\u001b[0m \u001b[0mforward_call\u001b[0m\u001b[0;34m(\u001b[0m\u001b[0;34m*\u001b[0m\u001b[0minput\u001b[0m\u001b[0;34m,\u001b[0m \u001b[0;34m**\u001b[0m\u001b[0mkwargs\u001b[0m\u001b[0;34m)\u001b[0m\u001b[0;34m\u001b[0m\u001b[0;34m\u001b[0m\u001b[0m\n\u001b[0m\u001b[1;32m   1111\u001b[0m         \u001b[0;31m# Do not call functions when jit is used\u001b[0m\u001b[0;34m\u001b[0m\u001b[0;34m\u001b[0m\u001b[0;34m\u001b[0m\u001b[0m\n\u001b[1;32m   1112\u001b[0m         \u001b[0mfull_backward_hooks\u001b[0m\u001b[0;34m,\u001b[0m \u001b[0mnon_full_backward_hooks\u001b[0m \u001b[0;34m=\u001b[0m \u001b[0;34m[\u001b[0m\u001b[0;34m]\u001b[0m\u001b[0;34m,\u001b[0m \u001b[0;34m[\u001b[0m\u001b[0;34m]\u001b[0m\u001b[0;34m\u001b[0m\u001b[0;34m\u001b[0m\u001b[0m\n",
            "\u001b[0;32m/usr/local/lib/python3.7/dist-packages/transformers/models/bert/modeling_bert.py\u001b[0m in \u001b[0;36mforward\u001b[0;34m(self, hidden_states, attention_mask, head_mask, encoder_hidden_states, encoder_attention_mask, past_key_values, use_cache, output_attentions, output_hidden_states, return_dict)\u001b[0m\n\u001b[1;32m    590\u001b[0m                     \u001b[0mencoder_attention_mask\u001b[0m\u001b[0;34m,\u001b[0m\u001b[0;34m\u001b[0m\u001b[0;34m\u001b[0m\u001b[0m\n\u001b[1;32m    591\u001b[0m                     \u001b[0mpast_key_value\u001b[0m\u001b[0;34m,\u001b[0m\u001b[0;34m\u001b[0m\u001b[0;34m\u001b[0m\u001b[0m\n\u001b[0;32m--> 592\u001b[0;31m                     \u001b[0moutput_attentions\u001b[0m\u001b[0;34m,\u001b[0m\u001b[0;34m\u001b[0m\u001b[0;34m\u001b[0m\u001b[0m\n\u001b[0m\u001b[1;32m    593\u001b[0m                 )\n\u001b[1;32m    594\u001b[0m \u001b[0;34m\u001b[0m\u001b[0m\n",
            "\u001b[0;32m/usr/local/lib/python3.7/dist-packages/torch/nn/modules/module.py\u001b[0m in \u001b[0;36m_call_impl\u001b[0;34m(self, *input, **kwargs)\u001b[0m\n\u001b[1;32m   1108\u001b[0m         if not (self._backward_hooks or self._forward_hooks or self._forward_pre_hooks or _global_backward_hooks\n\u001b[1;32m   1109\u001b[0m                 or _global_forward_hooks or _global_forward_pre_hooks):\n\u001b[0;32m-> 1110\u001b[0;31m             \u001b[0;32mreturn\u001b[0m \u001b[0mforward_call\u001b[0m\u001b[0;34m(\u001b[0m\u001b[0;34m*\u001b[0m\u001b[0minput\u001b[0m\u001b[0;34m,\u001b[0m \u001b[0;34m**\u001b[0m\u001b[0mkwargs\u001b[0m\u001b[0;34m)\u001b[0m\u001b[0;34m\u001b[0m\u001b[0;34m\u001b[0m\u001b[0m\n\u001b[0m\u001b[1;32m   1111\u001b[0m         \u001b[0;31m# Do not call functions when jit is used\u001b[0m\u001b[0;34m\u001b[0m\u001b[0;34m\u001b[0m\u001b[0;34m\u001b[0m\u001b[0m\n\u001b[1;32m   1112\u001b[0m         \u001b[0mfull_backward_hooks\u001b[0m\u001b[0;34m,\u001b[0m \u001b[0mnon_full_backward_hooks\u001b[0m \u001b[0;34m=\u001b[0m \u001b[0;34m[\u001b[0m\u001b[0;34m]\u001b[0m\u001b[0;34m,\u001b[0m \u001b[0;34m[\u001b[0m\u001b[0;34m]\u001b[0m\u001b[0;34m\u001b[0m\u001b[0;34m\u001b[0m\u001b[0m\n",
            "\u001b[0;32m/usr/local/lib/python3.7/dist-packages/transformers/models/bert/modeling_bert.py\u001b[0m in \u001b[0;36mforward\u001b[0;34m(self, hidden_states, attention_mask, head_mask, encoder_hidden_states, encoder_attention_mask, past_key_value, output_attentions)\u001b[0m\n\u001b[1;32m    475\u001b[0m             \u001b[0mhead_mask\u001b[0m\u001b[0;34m,\u001b[0m\u001b[0;34m\u001b[0m\u001b[0;34m\u001b[0m\u001b[0m\n\u001b[1;32m    476\u001b[0m             \u001b[0moutput_attentions\u001b[0m\u001b[0;34m=\u001b[0m\u001b[0moutput_attentions\u001b[0m\u001b[0;34m,\u001b[0m\u001b[0;34m\u001b[0m\u001b[0;34m\u001b[0m\u001b[0m\n\u001b[0;32m--> 477\u001b[0;31m             \u001b[0mpast_key_value\u001b[0m\u001b[0;34m=\u001b[0m\u001b[0mself_attn_past_key_value\u001b[0m\u001b[0;34m,\u001b[0m\u001b[0;34m\u001b[0m\u001b[0;34m\u001b[0m\u001b[0m\n\u001b[0m\u001b[1;32m    478\u001b[0m         )\n\u001b[1;32m    479\u001b[0m         \u001b[0mattention_output\u001b[0m \u001b[0;34m=\u001b[0m \u001b[0mself_attention_outputs\u001b[0m\u001b[0;34m[\u001b[0m\u001b[0;36m0\u001b[0m\u001b[0;34m]\u001b[0m\u001b[0;34m\u001b[0m\u001b[0;34m\u001b[0m\u001b[0m\n",
            "\u001b[0;32m/usr/local/lib/python3.7/dist-packages/torch/nn/modules/module.py\u001b[0m in \u001b[0;36m_call_impl\u001b[0;34m(self, *input, **kwargs)\u001b[0m\n\u001b[1;32m   1108\u001b[0m         if not (self._backward_hooks or self._forward_hooks or self._forward_pre_hooks or _global_backward_hooks\n\u001b[1;32m   1109\u001b[0m                 or _global_forward_hooks or _global_forward_pre_hooks):\n\u001b[0;32m-> 1110\u001b[0;31m             \u001b[0;32mreturn\u001b[0m \u001b[0mforward_call\u001b[0m\u001b[0;34m(\u001b[0m\u001b[0;34m*\u001b[0m\u001b[0minput\u001b[0m\u001b[0;34m,\u001b[0m \u001b[0;34m**\u001b[0m\u001b[0mkwargs\u001b[0m\u001b[0;34m)\u001b[0m\u001b[0;34m\u001b[0m\u001b[0;34m\u001b[0m\u001b[0m\n\u001b[0m\u001b[1;32m   1111\u001b[0m         \u001b[0;31m# Do not call functions when jit is used\u001b[0m\u001b[0;34m\u001b[0m\u001b[0;34m\u001b[0m\u001b[0;34m\u001b[0m\u001b[0m\n\u001b[1;32m   1112\u001b[0m         \u001b[0mfull_backward_hooks\u001b[0m\u001b[0;34m,\u001b[0m \u001b[0mnon_full_backward_hooks\u001b[0m \u001b[0;34m=\u001b[0m \u001b[0;34m[\u001b[0m\u001b[0;34m]\u001b[0m\u001b[0;34m,\u001b[0m \u001b[0;34m[\u001b[0m\u001b[0;34m]\u001b[0m\u001b[0;34m\u001b[0m\u001b[0;34m\u001b[0m\u001b[0m\n",
            "\u001b[0;32m/usr/local/lib/python3.7/dist-packages/transformers/models/bert/modeling_bert.py\u001b[0m in \u001b[0;36mforward\u001b[0;34m(self, hidden_states, attention_mask, head_mask, encoder_hidden_states, encoder_attention_mask, past_key_value, output_attentions)\u001b[0m\n\u001b[1;32m    407\u001b[0m             \u001b[0mencoder_attention_mask\u001b[0m\u001b[0;34m,\u001b[0m\u001b[0;34m\u001b[0m\u001b[0;34m\u001b[0m\u001b[0m\n\u001b[1;32m    408\u001b[0m             \u001b[0mpast_key_value\u001b[0m\u001b[0;34m,\u001b[0m\u001b[0;34m\u001b[0m\u001b[0;34m\u001b[0m\u001b[0m\n\u001b[0;32m--> 409\u001b[0;31m             \u001b[0moutput_attentions\u001b[0m\u001b[0;34m,\u001b[0m\u001b[0;34m\u001b[0m\u001b[0;34m\u001b[0m\u001b[0m\n\u001b[0m\u001b[1;32m    410\u001b[0m         )\n\u001b[1;32m    411\u001b[0m         \u001b[0mattention_output\u001b[0m \u001b[0;34m=\u001b[0m \u001b[0mself\u001b[0m\u001b[0;34m.\u001b[0m\u001b[0moutput\u001b[0m\u001b[0;34m(\u001b[0m\u001b[0mself_outputs\u001b[0m\u001b[0;34m[\u001b[0m\u001b[0;36m0\u001b[0m\u001b[0;34m]\u001b[0m\u001b[0;34m,\u001b[0m \u001b[0mhidden_states\u001b[0m\u001b[0;34m)\u001b[0m\u001b[0;34m\u001b[0m\u001b[0;34m\u001b[0m\u001b[0m\n",
            "\u001b[0;32m/usr/local/lib/python3.7/dist-packages/torch/nn/modules/module.py\u001b[0m in \u001b[0;36m_call_impl\u001b[0;34m(self, *input, **kwargs)\u001b[0m\n\u001b[1;32m   1108\u001b[0m         if not (self._backward_hooks or self._forward_hooks or self._forward_pre_hooks or _global_backward_hooks\n\u001b[1;32m   1109\u001b[0m                 or _global_forward_hooks or _global_forward_pre_hooks):\n\u001b[0;32m-> 1110\u001b[0;31m             \u001b[0;32mreturn\u001b[0m \u001b[0mforward_call\u001b[0m\u001b[0;34m(\u001b[0m\u001b[0;34m*\u001b[0m\u001b[0minput\u001b[0m\u001b[0;34m,\u001b[0m \u001b[0;34m**\u001b[0m\u001b[0mkwargs\u001b[0m\u001b[0;34m)\u001b[0m\u001b[0;34m\u001b[0m\u001b[0;34m\u001b[0m\u001b[0m\n\u001b[0m\u001b[1;32m   1111\u001b[0m         \u001b[0;31m# Do not call functions when jit is used\u001b[0m\u001b[0;34m\u001b[0m\u001b[0;34m\u001b[0m\u001b[0;34m\u001b[0m\u001b[0m\n\u001b[1;32m   1112\u001b[0m         \u001b[0mfull_backward_hooks\u001b[0m\u001b[0;34m,\u001b[0m \u001b[0mnon_full_backward_hooks\u001b[0m \u001b[0;34m=\u001b[0m \u001b[0;34m[\u001b[0m\u001b[0;34m]\u001b[0m\u001b[0;34m,\u001b[0m \u001b[0;34m[\u001b[0m\u001b[0;34m]\u001b[0m\u001b[0;34m\u001b[0m\u001b[0;34m\u001b[0m\u001b[0m\n",
            "\u001b[0;32m/usr/local/lib/python3.7/dist-packages/transformers/models/bert/modeling_bert.py\u001b[0m in \u001b[0;36mforward\u001b[0;34m(self, hidden_states, attention_mask, head_mask, encoder_hidden_states, encoder_attention_mask, past_key_value, output_attentions)\u001b[0m\n\u001b[1;32m    332\u001b[0m         \u001b[0;31m# This is actually dropping out entire tokens to attend to, which might\u001b[0m\u001b[0;34m\u001b[0m\u001b[0;34m\u001b[0m\u001b[0;34m\u001b[0m\u001b[0m\n\u001b[1;32m    333\u001b[0m         \u001b[0;31m# seem a bit unusual, but is taken from the original Transformer paper.\u001b[0m\u001b[0;34m\u001b[0m\u001b[0;34m\u001b[0m\u001b[0;34m\u001b[0m\u001b[0m\n\u001b[0;32m--> 334\u001b[0;31m         \u001b[0mattention_probs\u001b[0m \u001b[0;34m=\u001b[0m \u001b[0mself\u001b[0m\u001b[0;34m.\u001b[0m\u001b[0mdropout\u001b[0m\u001b[0;34m(\u001b[0m\u001b[0mattention_probs\u001b[0m\u001b[0;34m)\u001b[0m\u001b[0;34m\u001b[0m\u001b[0;34m\u001b[0m\u001b[0m\n\u001b[0m\u001b[1;32m    335\u001b[0m \u001b[0;34m\u001b[0m\u001b[0m\n\u001b[1;32m    336\u001b[0m         \u001b[0;31m# Mask heads if we want to\u001b[0m\u001b[0;34m\u001b[0m\u001b[0;34m\u001b[0m\u001b[0;34m\u001b[0m\u001b[0m\n",
            "\u001b[0;32m/usr/local/lib/python3.7/dist-packages/torch/nn/modules/module.py\u001b[0m in \u001b[0;36m_call_impl\u001b[0;34m(self, *input, **kwargs)\u001b[0m\n\u001b[1;32m   1108\u001b[0m         if not (self._backward_hooks or self._forward_hooks or self._forward_pre_hooks or _global_backward_hooks\n\u001b[1;32m   1109\u001b[0m                 or _global_forward_hooks or _global_forward_pre_hooks):\n\u001b[0;32m-> 1110\u001b[0;31m             \u001b[0;32mreturn\u001b[0m \u001b[0mforward_call\u001b[0m\u001b[0;34m(\u001b[0m\u001b[0;34m*\u001b[0m\u001b[0minput\u001b[0m\u001b[0;34m,\u001b[0m \u001b[0;34m**\u001b[0m\u001b[0mkwargs\u001b[0m\u001b[0;34m)\u001b[0m\u001b[0;34m\u001b[0m\u001b[0;34m\u001b[0m\u001b[0m\n\u001b[0m\u001b[1;32m   1111\u001b[0m         \u001b[0;31m# Do not call functions when jit is used\u001b[0m\u001b[0;34m\u001b[0m\u001b[0;34m\u001b[0m\u001b[0;34m\u001b[0m\u001b[0m\n\u001b[1;32m   1112\u001b[0m         \u001b[0mfull_backward_hooks\u001b[0m\u001b[0;34m,\u001b[0m \u001b[0mnon_full_backward_hooks\u001b[0m \u001b[0;34m=\u001b[0m \u001b[0;34m[\u001b[0m\u001b[0;34m]\u001b[0m\u001b[0;34m,\u001b[0m \u001b[0;34m[\u001b[0m\u001b[0;34m]\u001b[0m\u001b[0;34m\u001b[0m\u001b[0;34m\u001b[0m\u001b[0m\n",
            "\u001b[0;32m/usr/local/lib/python3.7/dist-packages/torch/nn/modules/dropout.py\u001b[0m in \u001b[0;36mforward\u001b[0;34m(self, input)\u001b[0m\n\u001b[1;32m     56\u001b[0m \u001b[0;34m\u001b[0m\u001b[0m\n\u001b[1;32m     57\u001b[0m     \u001b[0;32mdef\u001b[0m \u001b[0mforward\u001b[0m\u001b[0;34m(\u001b[0m\u001b[0mself\u001b[0m\u001b[0;34m,\u001b[0m \u001b[0minput\u001b[0m\u001b[0;34m:\u001b[0m \u001b[0mTensor\u001b[0m\u001b[0;34m)\u001b[0m \u001b[0;34m->\u001b[0m \u001b[0mTensor\u001b[0m\u001b[0;34m:\u001b[0m\u001b[0;34m\u001b[0m\u001b[0;34m\u001b[0m\u001b[0m\n\u001b[0;32m---> 58\u001b[0;31m         \u001b[0;32mreturn\u001b[0m \u001b[0mF\u001b[0m\u001b[0;34m.\u001b[0m\u001b[0mdropout\u001b[0m\u001b[0;34m(\u001b[0m\u001b[0minput\u001b[0m\u001b[0;34m,\u001b[0m \u001b[0mself\u001b[0m\u001b[0;34m.\u001b[0m\u001b[0mp\u001b[0m\u001b[0;34m,\u001b[0m \u001b[0mself\u001b[0m\u001b[0;34m.\u001b[0m\u001b[0mtraining\u001b[0m\u001b[0;34m,\u001b[0m \u001b[0mself\u001b[0m\u001b[0;34m.\u001b[0m\u001b[0minplace\u001b[0m\u001b[0;34m)\u001b[0m\u001b[0;34m\u001b[0m\u001b[0;34m\u001b[0m\u001b[0m\n\u001b[0m\u001b[1;32m     59\u001b[0m \u001b[0;34m\u001b[0m\u001b[0m\n\u001b[1;32m     60\u001b[0m \u001b[0;34m\u001b[0m\u001b[0m\n",
            "\u001b[0;32m/usr/local/lib/python3.7/dist-packages/torch/nn/functional.py\u001b[0m in \u001b[0;36mdropout\u001b[0;34m(input, p, training, inplace)\u001b[0m\n\u001b[1;32m   1277\u001b[0m     \u001b[0;32mif\u001b[0m \u001b[0mp\u001b[0m \u001b[0;34m<\u001b[0m \u001b[0;36m0.0\u001b[0m \u001b[0;32mor\u001b[0m \u001b[0mp\u001b[0m \u001b[0;34m>\u001b[0m \u001b[0;36m1.0\u001b[0m\u001b[0;34m:\u001b[0m\u001b[0;34m\u001b[0m\u001b[0;34m\u001b[0m\u001b[0m\n\u001b[1;32m   1278\u001b[0m         \u001b[0;32mraise\u001b[0m \u001b[0mValueError\u001b[0m\u001b[0;34m(\u001b[0m\u001b[0;34m\"dropout probability has to be between 0 and 1, \"\u001b[0m \u001b[0;34m\"but got {}\"\u001b[0m\u001b[0;34m.\u001b[0m\u001b[0mformat\u001b[0m\u001b[0;34m(\u001b[0m\u001b[0mp\u001b[0m\u001b[0;34m)\u001b[0m\u001b[0;34m)\u001b[0m\u001b[0;34m\u001b[0m\u001b[0;34m\u001b[0m\u001b[0m\n\u001b[0;32m-> 1279\u001b[0;31m     \u001b[0;32mreturn\u001b[0m \u001b[0m_VF\u001b[0m\u001b[0;34m.\u001b[0m\u001b[0mdropout_\u001b[0m\u001b[0;34m(\u001b[0m\u001b[0minput\u001b[0m\u001b[0;34m,\u001b[0m \u001b[0mp\u001b[0m\u001b[0;34m,\u001b[0m \u001b[0mtraining\u001b[0m\u001b[0;34m)\u001b[0m \u001b[0;32mif\u001b[0m \u001b[0minplace\u001b[0m \u001b[0;32melse\u001b[0m \u001b[0m_VF\u001b[0m\u001b[0;34m.\u001b[0m\u001b[0mdropout\u001b[0m\u001b[0;34m(\u001b[0m\u001b[0minput\u001b[0m\u001b[0;34m,\u001b[0m \u001b[0mp\u001b[0m\u001b[0;34m,\u001b[0m \u001b[0mtraining\u001b[0m\u001b[0;34m)\u001b[0m\u001b[0;34m\u001b[0m\u001b[0;34m\u001b[0m\u001b[0m\n\u001b[0m\u001b[1;32m   1280\u001b[0m \u001b[0;34m\u001b[0m\u001b[0m\n\u001b[1;32m   1281\u001b[0m \u001b[0;34m\u001b[0m\u001b[0m\n",
            "\u001b[0;31mRuntimeError\u001b[0m: CUDA out of memory. Tried to allocate 48.00 MiB (GPU 0; 15.90 GiB total capacity; 14.68 GiB already allocated; 5.75 MiB free; 14.86 GiB reserved in total by PyTorch) If reserved memory is >> allocated memory try setting max_split_size_mb to avoid fragmentation.  See documentation for Memory Management and PYTORCH_CUDA_ALLOC_CONF"
          ]
        }
      ]
    },
    {
      "cell_type": "code",
      "source": [
        "path"
      ],
      "metadata": {
        "colab": {
          "base_uri": "https://localhost:8080/",
          "height": 35
        },
        "id": "wB-CMTZ0kNMQ",
        "outputId": "62fe199b-5448-427f-c832-f7e80d783dc3"
      },
      "id": "wB-CMTZ0kNMQ",
      "execution_count": null,
      "outputs": [
        {
          "output_type": "execute_result",
          "data": {
            "text/plain": [
              "'/content/drive/My Drive/nlu_project/SciBERT/256_3_16_1e-05_0.1'"
            ],
            "application/vnd.google.colaboratory.intrinsic+json": {
              "type": "string"
            }
          },
          "metadata": {},
          "execution_count": 188
        }
      ]
    },
    {
      "cell_type": "code",
      "source": [
        "compute_metrics"
      ],
      "metadata": {
        "id": "tGadxn91f2lF"
      },
      "id": "tGadxn91f2lF",
      "execution_count": null,
      "outputs": []
    },
    {
      "cell_type": "code",
      "source": [
        "yval_pred = [1 if x == True else 0 for x in list(outputs.predictions > 0.454)]"
      ],
      "metadata": {
        "id": "NCWg3gBtmAy4"
      },
      "id": "NCWg3gBtmAy4",
      "execution_count": null,
      "outputs": []
    },
    {
      "cell_type": "code",
      "source": [
        "sum([pred != actual for pred, actual in zip(yval, yval_pred)]) / len(yval)"
      ],
      "metadata": {
        "colab": {
          "base_uri": "https://localhost:8080/"
        },
        "id": "aUeeFs_KmLUS",
        "outputId": "5d8ee5c6-6cc9-44b7-d7d1-e3d7d546b193"
      },
      "id": "aUeeFs_KmLUS",
      "execution_count": null,
      "outputs": [
        {
          "output_type": "execute_result",
          "data": {
            "text/plain": [
              "0.3984019668100799"
            ]
          },
          "metadata": {},
          "execution_count": 206
        }
      ]
    },
    {
      "cell_type": "code",
      "source": [
        "sum([1 if x == True else 0 for x in list(outputs.predictions > 0.455)])"
      ],
      "metadata": {
        "colab": {
          "base_uri": "https://localhost:8080/"
        },
        "id": "f4hNPENBlICj",
        "outputId": "f1d854b9-4209-4087-902d-b16c657988ee"
      },
      "id": "f4hNPENBlICj",
      "execution_count": null,
      "outputs": [
        {
          "output_type": "execute_result",
          "data": {
            "text/plain": [
              "6324"
            ]
          },
          "metadata": {},
          "execution_count": 198
        }
      ]
    },
    {
      "cell_type": "code",
      "source": [
        "import argparse"
      ],
      "metadata": {
        "id": "aYOEbhfIODMp"
      },
      "id": "aYOEbhfIODMp",
      "execution_count": null,
      "outputs": []
    },
    {
      "cell_type": "code",
      "source": [
        "parser = argparse.ArgumentParser(description='Run Hugging Face model from transformer library on abstract data.')\n",
        "\n",
        "parser.add_argument('-p','--path', help='Path to save data model and data, if applicable (str)', default='/content/drive/My Drive/nlu_project/', type=str)\n",
        "parser.add_argument('-d','--data', help='Path to dataframe to load (str)', default='/content/drive/My Drive/nlu_project/assets/articles.csv', type=str)\n",
        "parser.add_argument('-m','--model', help='Model name: SciBERT:allenai/scibert_scivocab_uncased (default), BioBERT:dmis-lab/biobert-v1.1, BioMed-RoBERTa:allenai/biomed_roberta_base, BlueBERT:bionlp/bluebert_pubmed_uncased_L-12_H-768_A-12 (str)', default='SciBERT:allenai/scibert_scivocab_uncased', type=str)\n",
        "parser.add_argument('-n','--maxlength', help='Maximum length (int)', default=256, type=int)\n",
        "parser.add_argument('-l','--lr', help='Learning rate (float)', default=0.00001, type=float)\n",
        "parser.add_argument('-e','--epochs', help='Number of training epochs (int)', default=3, type=int)\n",
        "parser.add_argument('-t','--tbatch', help='Training batch size (int)', default=16, type=int)\n",
        "parser.add_argument('-v','--vbatch', help='Validation batch size (int)', default=16, type=int)\n",
        "parser.add_argument('-w','--warmup', help='Number of warm-up steps (int)', default=500, type=int)\n",
        "parser.add_argument('-c','--weightdecay', help='Weight decay (float)', default=0.1, type=float)\n",
        "parser.add_argument('-o','--overwrite', help='Overwrite output directory (bool)', default=True, type=bool)\n",
        "parser.add_argument('-s','--savelim', help='Save total limit (int)', default=2, type=int)\n",
        "parser.add_argument('-b','--loadbest', help='Load best model at end (bool)', default=True, type=bool)\n",
        "parser.add_argument('-g','--loggingsteps', help='Logging steps (int)', default=100, type=int)\n",
        "parser.add_argument('-f','--loadfromfile', help='Load model from checkpoint (int)', default=None, nargs='?', type=str)\n",
        "# parser.add_argument('-f','--huggingface', help='Hugging face: allenai/scibert_scivocab_uncased (default), dmis-lab/biobert-v1.1, allenai/biomed_roberta_base, bionlp/bluebert_pubmed_uncased_L-12_H-768_A-12 (str)', default='allenai/scibert_scivocab_uncased', type=str)"
      ],
      "metadata": {
        "colab": {
          "base_uri": "https://localhost:8080/"
        },
        "id": "fhpkIoNBLB_Z",
        "outputId": "da098bf1-559b-4819-f8c1-9f3c07b0e473"
      },
      "id": "fhpkIoNBLB_Z",
      "execution_count": null,
      "outputs": [
        {
          "output_type": "execute_result",
          "data": {
            "text/plain": [
              "_StoreAction(option_strings=['-f', '--loadfromfile'], dest='loadfromfile', nargs='?', const=None, default=None, type=<class 'str'>, choices=None, help='Load model from checkpoint (int)', metavar=None)"
            ]
          },
          "metadata": {},
          "execution_count": 4
        }
      ]
    },
    {
      "cell_type": "code",
      "source": [
        "arguments = parser.parse_args('')\n",
        "# default_dict = {}\n",
        "# for key in vars(args):\n",
        "#   default_dict[key] = parser.get_default(key)\n",
        "# default_dict"
      ],
      "metadata": {
        "id": "ASppJ9nzLOCK"
      },
      "id": "ASppJ9nzLOCK",
      "execution_count": null,
      "outputs": []
    },
    {
      "cell_type": "code",
      "source": [
        "arguments.loadfromfile = 'str'"
      ],
      "metadata": {
        "id": "1MCjIZzzOOw1"
      },
      "id": "1MCjIZzzOOw1",
      "execution_count": null,
      "outputs": []
    },
    {
      "cell_type": "code",
      "source": [
        "arguments.loadfromfile is not None"
      ],
      "metadata": {
        "colab": {
          "base_uri": "https://localhost:8080/"
        },
        "id": "0zLv8MY1OAiF",
        "outputId": "f9f4c717-b3d1-43f1-bb48-8eb4a7e3c71c"
      },
      "id": "0zLv8MY1OAiF",
      "execution_count": null,
      "outputs": [
        {
          "output_type": "execute_result",
          "data": {
            "text/plain": [
              "True"
            ]
          },
          "metadata": {},
          "execution_count": 10
        }
      ]
    },
    {
      "cell_type": "code",
      "source": [
        "arguments.loadfromfile"
      ],
      "metadata": {
        "colab": {
          "base_uri": "https://localhost:8080/",
          "height": 35
        },
        "id": "camQn1wuOfOE",
        "outputId": "2c2414ea-6ac0-4af6-cd37-eb3d6e48e92b"
      },
      "id": "camQn1wuOfOE",
      "execution_count": null,
      "outputs": [
        {
          "output_type": "execute_result",
          "data": {
            "text/plain": [
              "'str'"
            ],
            "application/vnd.google.colaboratory.intrinsic+json": {
              "type": "string"
            }
          },
          "metadata": {},
          "execution_count": 11
        }
      ]
    },
    {
      "cell_type": "markdown",
      "source": [
        "# BioBERT"
      ],
      "metadata": {
        "id": "cetDv-jhRxTQ"
      },
      "id": "cetDv-jhRxTQ"
    },
    {
      "cell_type": "code",
      "source": [
        "biobert_path = '/content/drive/My Drive/nlu_project/BioBERT'"
      ],
      "metadata": {
        "id": "4e9AdYNpqg8d"
      },
      "id": "4e9AdYNpqg8d",
      "execution_count": null,
      "outputs": []
    },
    {
      "cell_type": "code",
      "source": [
        "tokenizer = transformers.AutoTokenizer.from_pretrained('dmis-lab/biobert-v1.1')\n",
        "model = transformers.BertForSequenceClassification.from_pretrained('dmis-lab/biobert-v1.1', num_labels=1)"
      ],
      "metadata": {
        "id": "qbnfXJG_qjIq"
      },
      "id": "qbnfXJG_qjIq",
      "execution_count": null,
      "outputs": []
    }
  ],
  "metadata": {
    "kernelspec": {
      "display_name": "Python 3",
      "language": "python",
      "name": "python3"
    },
    "language_info": {
      "codemirror_mode": {
        "name": "ipython",
        "version": 3
      },
      "file_extension": ".py",
      "mimetype": "text/x-python",
      "name": "python",
      "nbconvert_exporter": "python",
      "pygments_lexer": "ipython3",
      "version": "3.6.15"
    },
    "colab": {
      "name": "main.ipynb",
      "provenance": [],
      "collapsed_sections": [],
      "machine_shape": "hm"
    },
    "widgets": {
      "application/vnd.jupyter.widget-state+json": {
        "ff94517c891a4e3c95a0260547957605": {
          "model_module": "@jupyter-widgets/controls",
          "model_name": "HBoxModel",
          "model_module_version": "1.5.0",
          "state": {
            "_dom_classes": [],
            "_model_module": "@jupyter-widgets/controls",
            "_model_module_version": "1.5.0",
            "_model_name": "HBoxModel",
            "_view_count": null,
            "_view_module": "@jupyter-widgets/controls",
            "_view_module_version": "1.5.0",
            "_view_name": "HBoxView",
            "box_style": "",
            "children": [
              "IPY_MODEL_73ead63aeb7c46489bf435ea7075227f",
              "IPY_MODEL_c05d4a3042fa4602827d6a32b0217632",
              "IPY_MODEL_798559b2c903418bb9e938d02aaef8b5"
            ],
            "layout": "IPY_MODEL_b21b841c5fa149099c63bfb43fee244e"
          }
        },
        "73ead63aeb7c46489bf435ea7075227f": {
          "model_module": "@jupyter-widgets/controls",
          "model_name": "HTMLModel",
          "model_module_version": "1.5.0",
          "state": {
            "_dom_classes": [],
            "_model_module": "@jupyter-widgets/controls",
            "_model_module_version": "1.5.0",
            "_model_name": "HTMLModel",
            "_view_count": null,
            "_view_module": "@jupyter-widgets/controls",
            "_view_module_version": "1.5.0",
            "_view_name": "HTMLView",
            "description": "",
            "description_tooltip": null,
            "layout": "IPY_MODEL_046eecdc391a4ae78a6f2e20d16f499f",
            "placeholder": "​",
            "style": "IPY_MODEL_6a486db18f54403da7cd3152aaebd4d3",
            "value": "Downloading: 100%"
          }
        },
        "c05d4a3042fa4602827d6a32b0217632": {
          "model_module": "@jupyter-widgets/controls",
          "model_name": "FloatProgressModel",
          "model_module_version": "1.5.0",
          "state": {
            "_dom_classes": [],
            "_model_module": "@jupyter-widgets/controls",
            "_model_module_version": "1.5.0",
            "_model_name": "FloatProgressModel",
            "_view_count": null,
            "_view_module": "@jupyter-widgets/controls",
            "_view_module_version": "1.5.0",
            "_view_name": "ProgressView",
            "bar_style": "success",
            "description": "",
            "description_tooltip": null,
            "layout": "IPY_MODEL_ee042eeda78c44178e59219888b33028",
            "max": 385,
            "min": 0,
            "orientation": "horizontal",
            "style": "IPY_MODEL_360f0931e5444604b1971a607b3f80c5",
            "value": 385
          }
        },
        "798559b2c903418bb9e938d02aaef8b5": {
          "model_module": "@jupyter-widgets/controls",
          "model_name": "HTMLModel",
          "model_module_version": "1.5.0",
          "state": {
            "_dom_classes": [],
            "_model_module": "@jupyter-widgets/controls",
            "_model_module_version": "1.5.0",
            "_model_name": "HTMLModel",
            "_view_count": null,
            "_view_module": "@jupyter-widgets/controls",
            "_view_module_version": "1.5.0",
            "_view_name": "HTMLView",
            "description": "",
            "description_tooltip": null,
            "layout": "IPY_MODEL_61adb76e95df4f61a79a7ac753012cf2",
            "placeholder": "​",
            "style": "IPY_MODEL_848df2dba2f44889a82e1608fdef5546",
            "value": " 385/385 [00:00&lt;00:00, 15.8kB/s]"
          }
        },
        "b21b841c5fa149099c63bfb43fee244e": {
          "model_module": "@jupyter-widgets/base",
          "model_name": "LayoutModel",
          "model_module_version": "1.2.0",
          "state": {
            "_model_module": "@jupyter-widgets/base",
            "_model_module_version": "1.2.0",
            "_model_name": "LayoutModel",
            "_view_count": null,
            "_view_module": "@jupyter-widgets/base",
            "_view_module_version": "1.2.0",
            "_view_name": "LayoutView",
            "align_content": null,
            "align_items": null,
            "align_self": null,
            "border": null,
            "bottom": null,
            "display": null,
            "flex": null,
            "flex_flow": null,
            "grid_area": null,
            "grid_auto_columns": null,
            "grid_auto_flow": null,
            "grid_auto_rows": null,
            "grid_column": null,
            "grid_gap": null,
            "grid_row": null,
            "grid_template_areas": null,
            "grid_template_columns": null,
            "grid_template_rows": null,
            "height": null,
            "justify_content": null,
            "justify_items": null,
            "left": null,
            "margin": null,
            "max_height": null,
            "max_width": null,
            "min_height": null,
            "min_width": null,
            "object_fit": null,
            "object_position": null,
            "order": null,
            "overflow": null,
            "overflow_x": null,
            "overflow_y": null,
            "padding": null,
            "right": null,
            "top": null,
            "visibility": null,
            "width": null
          }
        },
        "046eecdc391a4ae78a6f2e20d16f499f": {
          "model_module": "@jupyter-widgets/base",
          "model_name": "LayoutModel",
          "model_module_version": "1.2.0",
          "state": {
            "_model_module": "@jupyter-widgets/base",
            "_model_module_version": "1.2.0",
            "_model_name": "LayoutModel",
            "_view_count": null,
            "_view_module": "@jupyter-widgets/base",
            "_view_module_version": "1.2.0",
            "_view_name": "LayoutView",
            "align_content": null,
            "align_items": null,
            "align_self": null,
            "border": null,
            "bottom": null,
            "display": null,
            "flex": null,
            "flex_flow": null,
            "grid_area": null,
            "grid_auto_columns": null,
            "grid_auto_flow": null,
            "grid_auto_rows": null,
            "grid_column": null,
            "grid_gap": null,
            "grid_row": null,
            "grid_template_areas": null,
            "grid_template_columns": null,
            "grid_template_rows": null,
            "height": null,
            "justify_content": null,
            "justify_items": null,
            "left": null,
            "margin": null,
            "max_height": null,
            "max_width": null,
            "min_height": null,
            "min_width": null,
            "object_fit": null,
            "object_position": null,
            "order": null,
            "overflow": null,
            "overflow_x": null,
            "overflow_y": null,
            "padding": null,
            "right": null,
            "top": null,
            "visibility": null,
            "width": null
          }
        },
        "6a486db18f54403da7cd3152aaebd4d3": {
          "model_module": "@jupyter-widgets/controls",
          "model_name": "DescriptionStyleModel",
          "model_module_version": "1.5.0",
          "state": {
            "_model_module": "@jupyter-widgets/controls",
            "_model_module_version": "1.5.0",
            "_model_name": "DescriptionStyleModel",
            "_view_count": null,
            "_view_module": "@jupyter-widgets/base",
            "_view_module_version": "1.2.0",
            "_view_name": "StyleView",
            "description_width": ""
          }
        },
        "ee042eeda78c44178e59219888b33028": {
          "model_module": "@jupyter-widgets/base",
          "model_name": "LayoutModel",
          "model_module_version": "1.2.0",
          "state": {
            "_model_module": "@jupyter-widgets/base",
            "_model_module_version": "1.2.0",
            "_model_name": "LayoutModel",
            "_view_count": null,
            "_view_module": "@jupyter-widgets/base",
            "_view_module_version": "1.2.0",
            "_view_name": "LayoutView",
            "align_content": null,
            "align_items": null,
            "align_self": null,
            "border": null,
            "bottom": null,
            "display": null,
            "flex": null,
            "flex_flow": null,
            "grid_area": null,
            "grid_auto_columns": null,
            "grid_auto_flow": null,
            "grid_auto_rows": null,
            "grid_column": null,
            "grid_gap": null,
            "grid_row": null,
            "grid_template_areas": null,
            "grid_template_columns": null,
            "grid_template_rows": null,
            "height": null,
            "justify_content": null,
            "justify_items": null,
            "left": null,
            "margin": null,
            "max_height": null,
            "max_width": null,
            "min_height": null,
            "min_width": null,
            "object_fit": null,
            "object_position": null,
            "order": null,
            "overflow": null,
            "overflow_x": null,
            "overflow_y": null,
            "padding": null,
            "right": null,
            "top": null,
            "visibility": null,
            "width": null
          }
        },
        "360f0931e5444604b1971a607b3f80c5": {
          "model_module": "@jupyter-widgets/controls",
          "model_name": "ProgressStyleModel",
          "model_module_version": "1.5.0",
          "state": {
            "_model_module": "@jupyter-widgets/controls",
            "_model_module_version": "1.5.0",
            "_model_name": "ProgressStyleModel",
            "_view_count": null,
            "_view_module": "@jupyter-widgets/base",
            "_view_module_version": "1.2.0",
            "_view_name": "StyleView",
            "bar_color": null,
            "description_width": ""
          }
        },
        "61adb76e95df4f61a79a7ac753012cf2": {
          "model_module": "@jupyter-widgets/base",
          "model_name": "LayoutModel",
          "model_module_version": "1.2.0",
          "state": {
            "_model_module": "@jupyter-widgets/base",
            "_model_module_version": "1.2.0",
            "_model_name": "LayoutModel",
            "_view_count": null,
            "_view_module": "@jupyter-widgets/base",
            "_view_module_version": "1.2.0",
            "_view_name": "LayoutView",
            "align_content": null,
            "align_items": null,
            "align_self": null,
            "border": null,
            "bottom": null,
            "display": null,
            "flex": null,
            "flex_flow": null,
            "grid_area": null,
            "grid_auto_columns": null,
            "grid_auto_flow": null,
            "grid_auto_rows": null,
            "grid_column": null,
            "grid_gap": null,
            "grid_row": null,
            "grid_template_areas": null,
            "grid_template_columns": null,
            "grid_template_rows": null,
            "height": null,
            "justify_content": null,
            "justify_items": null,
            "left": null,
            "margin": null,
            "max_height": null,
            "max_width": null,
            "min_height": null,
            "min_width": null,
            "object_fit": null,
            "object_position": null,
            "order": null,
            "overflow": null,
            "overflow_x": null,
            "overflow_y": null,
            "padding": null,
            "right": null,
            "top": null,
            "visibility": null,
            "width": null
          }
        },
        "848df2dba2f44889a82e1608fdef5546": {
          "model_module": "@jupyter-widgets/controls",
          "model_name": "DescriptionStyleModel",
          "model_module_version": "1.5.0",
          "state": {
            "_model_module": "@jupyter-widgets/controls",
            "_model_module_version": "1.5.0",
            "_model_name": "DescriptionStyleModel",
            "_view_count": null,
            "_view_module": "@jupyter-widgets/base",
            "_view_module_version": "1.2.0",
            "_view_name": "StyleView",
            "description_width": ""
          }
        },
        "bb3aca9a5d314d76afbac1f8af10436f": {
          "model_module": "@jupyter-widgets/controls",
          "model_name": "HBoxModel",
          "model_module_version": "1.5.0",
          "state": {
            "_dom_classes": [],
            "_model_module": "@jupyter-widgets/controls",
            "_model_module_version": "1.5.0",
            "_model_name": "HBoxModel",
            "_view_count": null,
            "_view_module": "@jupyter-widgets/controls",
            "_view_module_version": "1.5.0",
            "_view_name": "HBoxView",
            "box_style": "",
            "children": [
              "IPY_MODEL_6fd3d2514073471a9843c56c36dbeddf",
              "IPY_MODEL_5090b7d4e3e743c683d993fb472e578c",
              "IPY_MODEL_ca919c2c5f3842d2bd430b9c269dc7f3"
            ],
            "layout": "IPY_MODEL_a75de211aa0046ef9e93614f6a74395c"
          }
        },
        "6fd3d2514073471a9843c56c36dbeddf": {
          "model_module": "@jupyter-widgets/controls",
          "model_name": "HTMLModel",
          "model_module_version": "1.5.0",
          "state": {
            "_dom_classes": [],
            "_model_module": "@jupyter-widgets/controls",
            "_model_module_version": "1.5.0",
            "_model_name": "HTMLModel",
            "_view_count": null,
            "_view_module": "@jupyter-widgets/controls",
            "_view_module_version": "1.5.0",
            "_view_name": "HTMLView",
            "description": "",
            "description_tooltip": null,
            "layout": "IPY_MODEL_a807e0915b6c46239eeebc6896e7ad89",
            "placeholder": "​",
            "style": "IPY_MODEL_c007b0d59e724c03bc7dff6c01a00ea1",
            "value": "Downloading: 100%"
          }
        },
        "5090b7d4e3e743c683d993fb472e578c": {
          "model_module": "@jupyter-widgets/controls",
          "model_name": "FloatProgressModel",
          "model_module_version": "1.5.0",
          "state": {
            "_dom_classes": [],
            "_model_module": "@jupyter-widgets/controls",
            "_model_module_version": "1.5.0",
            "_model_name": "FloatProgressModel",
            "_view_count": null,
            "_view_module": "@jupyter-widgets/controls",
            "_view_module_version": "1.5.0",
            "_view_name": "ProgressView",
            "bar_style": "success",
            "description": "",
            "description_tooltip": null,
            "layout": "IPY_MODEL_1ec8908f08ad476ca9bf7a11add98a19",
            "max": 227845,
            "min": 0,
            "orientation": "horizontal",
            "style": "IPY_MODEL_30588a6a797d43cda8abe06e66b4029f",
            "value": 227845
          }
        },
        "ca919c2c5f3842d2bd430b9c269dc7f3": {
          "model_module": "@jupyter-widgets/controls",
          "model_name": "HTMLModel",
          "model_module_version": "1.5.0",
          "state": {
            "_dom_classes": [],
            "_model_module": "@jupyter-widgets/controls",
            "_model_module_version": "1.5.0",
            "_model_name": "HTMLModel",
            "_view_count": null,
            "_view_module": "@jupyter-widgets/controls",
            "_view_module_version": "1.5.0",
            "_view_name": "HTMLView",
            "description": "",
            "description_tooltip": null,
            "layout": "IPY_MODEL_4a6096f55a9f4f5dbd2f171575b59093",
            "placeholder": "​",
            "style": "IPY_MODEL_3f46483bbf784292aeae724609d9abcb",
            "value": " 223k/223k [00:00&lt;00:00, 336kB/s]"
          }
        },
        "a75de211aa0046ef9e93614f6a74395c": {
          "model_module": "@jupyter-widgets/base",
          "model_name": "LayoutModel",
          "model_module_version": "1.2.0",
          "state": {
            "_model_module": "@jupyter-widgets/base",
            "_model_module_version": "1.2.0",
            "_model_name": "LayoutModel",
            "_view_count": null,
            "_view_module": "@jupyter-widgets/base",
            "_view_module_version": "1.2.0",
            "_view_name": "LayoutView",
            "align_content": null,
            "align_items": null,
            "align_self": null,
            "border": null,
            "bottom": null,
            "display": null,
            "flex": null,
            "flex_flow": null,
            "grid_area": null,
            "grid_auto_columns": null,
            "grid_auto_flow": null,
            "grid_auto_rows": null,
            "grid_column": null,
            "grid_gap": null,
            "grid_row": null,
            "grid_template_areas": null,
            "grid_template_columns": null,
            "grid_template_rows": null,
            "height": null,
            "justify_content": null,
            "justify_items": null,
            "left": null,
            "margin": null,
            "max_height": null,
            "max_width": null,
            "min_height": null,
            "min_width": null,
            "object_fit": null,
            "object_position": null,
            "order": null,
            "overflow": null,
            "overflow_x": null,
            "overflow_y": null,
            "padding": null,
            "right": null,
            "top": null,
            "visibility": null,
            "width": null
          }
        },
        "a807e0915b6c46239eeebc6896e7ad89": {
          "model_module": "@jupyter-widgets/base",
          "model_name": "LayoutModel",
          "model_module_version": "1.2.0",
          "state": {
            "_model_module": "@jupyter-widgets/base",
            "_model_module_version": "1.2.0",
            "_model_name": "LayoutModel",
            "_view_count": null,
            "_view_module": "@jupyter-widgets/base",
            "_view_module_version": "1.2.0",
            "_view_name": "LayoutView",
            "align_content": null,
            "align_items": null,
            "align_self": null,
            "border": null,
            "bottom": null,
            "display": null,
            "flex": null,
            "flex_flow": null,
            "grid_area": null,
            "grid_auto_columns": null,
            "grid_auto_flow": null,
            "grid_auto_rows": null,
            "grid_column": null,
            "grid_gap": null,
            "grid_row": null,
            "grid_template_areas": null,
            "grid_template_columns": null,
            "grid_template_rows": null,
            "height": null,
            "justify_content": null,
            "justify_items": null,
            "left": null,
            "margin": null,
            "max_height": null,
            "max_width": null,
            "min_height": null,
            "min_width": null,
            "object_fit": null,
            "object_position": null,
            "order": null,
            "overflow": null,
            "overflow_x": null,
            "overflow_y": null,
            "padding": null,
            "right": null,
            "top": null,
            "visibility": null,
            "width": null
          }
        },
        "c007b0d59e724c03bc7dff6c01a00ea1": {
          "model_module": "@jupyter-widgets/controls",
          "model_name": "DescriptionStyleModel",
          "model_module_version": "1.5.0",
          "state": {
            "_model_module": "@jupyter-widgets/controls",
            "_model_module_version": "1.5.0",
            "_model_name": "DescriptionStyleModel",
            "_view_count": null,
            "_view_module": "@jupyter-widgets/base",
            "_view_module_version": "1.2.0",
            "_view_name": "StyleView",
            "description_width": ""
          }
        },
        "1ec8908f08ad476ca9bf7a11add98a19": {
          "model_module": "@jupyter-widgets/base",
          "model_name": "LayoutModel",
          "model_module_version": "1.2.0",
          "state": {
            "_model_module": "@jupyter-widgets/base",
            "_model_module_version": "1.2.0",
            "_model_name": "LayoutModel",
            "_view_count": null,
            "_view_module": "@jupyter-widgets/base",
            "_view_module_version": "1.2.0",
            "_view_name": "LayoutView",
            "align_content": null,
            "align_items": null,
            "align_self": null,
            "border": null,
            "bottom": null,
            "display": null,
            "flex": null,
            "flex_flow": null,
            "grid_area": null,
            "grid_auto_columns": null,
            "grid_auto_flow": null,
            "grid_auto_rows": null,
            "grid_column": null,
            "grid_gap": null,
            "grid_row": null,
            "grid_template_areas": null,
            "grid_template_columns": null,
            "grid_template_rows": null,
            "height": null,
            "justify_content": null,
            "justify_items": null,
            "left": null,
            "margin": null,
            "max_height": null,
            "max_width": null,
            "min_height": null,
            "min_width": null,
            "object_fit": null,
            "object_position": null,
            "order": null,
            "overflow": null,
            "overflow_x": null,
            "overflow_y": null,
            "padding": null,
            "right": null,
            "top": null,
            "visibility": null,
            "width": null
          }
        },
        "30588a6a797d43cda8abe06e66b4029f": {
          "model_module": "@jupyter-widgets/controls",
          "model_name": "ProgressStyleModel",
          "model_module_version": "1.5.0",
          "state": {
            "_model_module": "@jupyter-widgets/controls",
            "_model_module_version": "1.5.0",
            "_model_name": "ProgressStyleModel",
            "_view_count": null,
            "_view_module": "@jupyter-widgets/base",
            "_view_module_version": "1.2.0",
            "_view_name": "StyleView",
            "bar_color": null,
            "description_width": ""
          }
        },
        "4a6096f55a9f4f5dbd2f171575b59093": {
          "model_module": "@jupyter-widgets/base",
          "model_name": "LayoutModel",
          "model_module_version": "1.2.0",
          "state": {
            "_model_module": "@jupyter-widgets/base",
            "_model_module_version": "1.2.0",
            "_model_name": "LayoutModel",
            "_view_count": null,
            "_view_module": "@jupyter-widgets/base",
            "_view_module_version": "1.2.0",
            "_view_name": "LayoutView",
            "align_content": null,
            "align_items": null,
            "align_self": null,
            "border": null,
            "bottom": null,
            "display": null,
            "flex": null,
            "flex_flow": null,
            "grid_area": null,
            "grid_auto_columns": null,
            "grid_auto_flow": null,
            "grid_auto_rows": null,
            "grid_column": null,
            "grid_gap": null,
            "grid_row": null,
            "grid_template_areas": null,
            "grid_template_columns": null,
            "grid_template_rows": null,
            "height": null,
            "justify_content": null,
            "justify_items": null,
            "left": null,
            "margin": null,
            "max_height": null,
            "max_width": null,
            "min_height": null,
            "min_width": null,
            "object_fit": null,
            "object_position": null,
            "order": null,
            "overflow": null,
            "overflow_x": null,
            "overflow_y": null,
            "padding": null,
            "right": null,
            "top": null,
            "visibility": null,
            "width": null
          }
        },
        "3f46483bbf784292aeae724609d9abcb": {
          "model_module": "@jupyter-widgets/controls",
          "model_name": "DescriptionStyleModel",
          "model_module_version": "1.5.0",
          "state": {
            "_model_module": "@jupyter-widgets/controls",
            "_model_module_version": "1.5.0",
            "_model_name": "DescriptionStyleModel",
            "_view_count": null,
            "_view_module": "@jupyter-widgets/base",
            "_view_module_version": "1.2.0",
            "_view_name": "StyleView",
            "description_width": ""
          }
        },
        "47a455e422974325bf0d325397cf7e10": {
          "model_module": "@jupyter-widgets/controls",
          "model_name": "HBoxModel",
          "model_module_version": "1.5.0",
          "state": {
            "_dom_classes": [],
            "_model_module": "@jupyter-widgets/controls",
            "_model_module_version": "1.5.0",
            "_model_name": "HBoxModel",
            "_view_count": null,
            "_view_module": "@jupyter-widgets/controls",
            "_view_module_version": "1.5.0",
            "_view_name": "HBoxView",
            "box_style": "",
            "children": [
              "IPY_MODEL_2f6a8b5c1b954460a27325b48190fc06",
              "IPY_MODEL_43ff5c0128e94903a27fff8a10115628",
              "IPY_MODEL_d12cf0ac43c04a82991c4cf2a319201a"
            ],
            "layout": "IPY_MODEL_e502565132d54ff1bd4d9aafca1f78bc"
          }
        },
        "2f6a8b5c1b954460a27325b48190fc06": {
          "model_module": "@jupyter-widgets/controls",
          "model_name": "HTMLModel",
          "model_module_version": "1.5.0",
          "state": {
            "_dom_classes": [],
            "_model_module": "@jupyter-widgets/controls",
            "_model_module_version": "1.5.0",
            "_model_name": "HTMLModel",
            "_view_count": null,
            "_view_module": "@jupyter-widgets/controls",
            "_view_module_version": "1.5.0",
            "_view_name": "HTMLView",
            "description": "",
            "description_tooltip": null,
            "layout": "IPY_MODEL_8a5ab0b5968f4ca388bf72a10aeb1708",
            "placeholder": "​",
            "style": "IPY_MODEL_b951e3b730da46e3907258e90246a2e3",
            "value": "Downloading: 100%"
          }
        },
        "43ff5c0128e94903a27fff8a10115628": {
          "model_module": "@jupyter-widgets/controls",
          "model_name": "FloatProgressModel",
          "model_module_version": "1.5.0",
          "state": {
            "_dom_classes": [],
            "_model_module": "@jupyter-widgets/controls",
            "_model_module_version": "1.5.0",
            "_model_name": "FloatProgressModel",
            "_view_count": null,
            "_view_module": "@jupyter-widgets/controls",
            "_view_module_version": "1.5.0",
            "_view_name": "ProgressView",
            "bar_style": "success",
            "description": "",
            "description_tooltip": null,
            "layout": "IPY_MODEL_92d93dbcd6914cd79aebe68b48aaf2f1",
            "max": 442221694,
            "min": 0,
            "orientation": "horizontal",
            "style": "IPY_MODEL_7ab688be32d54874880de45597a26f3e",
            "value": 442221694
          }
        },
        "d12cf0ac43c04a82991c4cf2a319201a": {
          "model_module": "@jupyter-widgets/controls",
          "model_name": "HTMLModel",
          "model_module_version": "1.5.0",
          "state": {
            "_dom_classes": [],
            "_model_module": "@jupyter-widgets/controls",
            "_model_module_version": "1.5.0",
            "_model_name": "HTMLModel",
            "_view_count": null,
            "_view_module": "@jupyter-widgets/controls",
            "_view_module_version": "1.5.0",
            "_view_name": "HTMLView",
            "description": "",
            "description_tooltip": null,
            "layout": "IPY_MODEL_8e715b13fc1d430882b92ba41d385644",
            "placeholder": "​",
            "style": "IPY_MODEL_a6917d82bde14dde92048802f84ce0d8",
            "value": " 422M/422M [00:06&lt;00:00, 62.4MB/s]"
          }
        },
        "e502565132d54ff1bd4d9aafca1f78bc": {
          "model_module": "@jupyter-widgets/base",
          "model_name": "LayoutModel",
          "model_module_version": "1.2.0",
          "state": {
            "_model_module": "@jupyter-widgets/base",
            "_model_module_version": "1.2.0",
            "_model_name": "LayoutModel",
            "_view_count": null,
            "_view_module": "@jupyter-widgets/base",
            "_view_module_version": "1.2.0",
            "_view_name": "LayoutView",
            "align_content": null,
            "align_items": null,
            "align_self": null,
            "border": null,
            "bottom": null,
            "display": null,
            "flex": null,
            "flex_flow": null,
            "grid_area": null,
            "grid_auto_columns": null,
            "grid_auto_flow": null,
            "grid_auto_rows": null,
            "grid_column": null,
            "grid_gap": null,
            "grid_row": null,
            "grid_template_areas": null,
            "grid_template_columns": null,
            "grid_template_rows": null,
            "height": null,
            "justify_content": null,
            "justify_items": null,
            "left": null,
            "margin": null,
            "max_height": null,
            "max_width": null,
            "min_height": null,
            "min_width": null,
            "object_fit": null,
            "object_position": null,
            "order": null,
            "overflow": null,
            "overflow_x": null,
            "overflow_y": null,
            "padding": null,
            "right": null,
            "top": null,
            "visibility": null,
            "width": null
          }
        },
        "8a5ab0b5968f4ca388bf72a10aeb1708": {
          "model_module": "@jupyter-widgets/base",
          "model_name": "LayoutModel",
          "model_module_version": "1.2.0",
          "state": {
            "_model_module": "@jupyter-widgets/base",
            "_model_module_version": "1.2.0",
            "_model_name": "LayoutModel",
            "_view_count": null,
            "_view_module": "@jupyter-widgets/base",
            "_view_module_version": "1.2.0",
            "_view_name": "LayoutView",
            "align_content": null,
            "align_items": null,
            "align_self": null,
            "border": null,
            "bottom": null,
            "display": null,
            "flex": null,
            "flex_flow": null,
            "grid_area": null,
            "grid_auto_columns": null,
            "grid_auto_flow": null,
            "grid_auto_rows": null,
            "grid_column": null,
            "grid_gap": null,
            "grid_row": null,
            "grid_template_areas": null,
            "grid_template_columns": null,
            "grid_template_rows": null,
            "height": null,
            "justify_content": null,
            "justify_items": null,
            "left": null,
            "margin": null,
            "max_height": null,
            "max_width": null,
            "min_height": null,
            "min_width": null,
            "object_fit": null,
            "object_position": null,
            "order": null,
            "overflow": null,
            "overflow_x": null,
            "overflow_y": null,
            "padding": null,
            "right": null,
            "top": null,
            "visibility": null,
            "width": null
          }
        },
        "b951e3b730da46e3907258e90246a2e3": {
          "model_module": "@jupyter-widgets/controls",
          "model_name": "DescriptionStyleModel",
          "model_module_version": "1.5.0",
          "state": {
            "_model_module": "@jupyter-widgets/controls",
            "_model_module_version": "1.5.0",
            "_model_name": "DescriptionStyleModel",
            "_view_count": null,
            "_view_module": "@jupyter-widgets/base",
            "_view_module_version": "1.2.0",
            "_view_name": "StyleView",
            "description_width": ""
          }
        },
        "92d93dbcd6914cd79aebe68b48aaf2f1": {
          "model_module": "@jupyter-widgets/base",
          "model_name": "LayoutModel",
          "model_module_version": "1.2.0",
          "state": {
            "_model_module": "@jupyter-widgets/base",
            "_model_module_version": "1.2.0",
            "_model_name": "LayoutModel",
            "_view_count": null,
            "_view_module": "@jupyter-widgets/base",
            "_view_module_version": "1.2.0",
            "_view_name": "LayoutView",
            "align_content": null,
            "align_items": null,
            "align_self": null,
            "border": null,
            "bottom": null,
            "display": null,
            "flex": null,
            "flex_flow": null,
            "grid_area": null,
            "grid_auto_columns": null,
            "grid_auto_flow": null,
            "grid_auto_rows": null,
            "grid_column": null,
            "grid_gap": null,
            "grid_row": null,
            "grid_template_areas": null,
            "grid_template_columns": null,
            "grid_template_rows": null,
            "height": null,
            "justify_content": null,
            "justify_items": null,
            "left": null,
            "margin": null,
            "max_height": null,
            "max_width": null,
            "min_height": null,
            "min_width": null,
            "object_fit": null,
            "object_position": null,
            "order": null,
            "overflow": null,
            "overflow_x": null,
            "overflow_y": null,
            "padding": null,
            "right": null,
            "top": null,
            "visibility": null,
            "width": null
          }
        },
        "7ab688be32d54874880de45597a26f3e": {
          "model_module": "@jupyter-widgets/controls",
          "model_name": "ProgressStyleModel",
          "model_module_version": "1.5.0",
          "state": {
            "_model_module": "@jupyter-widgets/controls",
            "_model_module_version": "1.5.0",
            "_model_name": "ProgressStyleModel",
            "_view_count": null,
            "_view_module": "@jupyter-widgets/base",
            "_view_module_version": "1.2.0",
            "_view_name": "StyleView",
            "bar_color": null,
            "description_width": ""
          }
        },
        "8e715b13fc1d430882b92ba41d385644": {
          "model_module": "@jupyter-widgets/base",
          "model_name": "LayoutModel",
          "model_module_version": "1.2.0",
          "state": {
            "_model_module": "@jupyter-widgets/base",
            "_model_module_version": "1.2.0",
            "_model_name": "LayoutModel",
            "_view_count": null,
            "_view_module": "@jupyter-widgets/base",
            "_view_module_version": "1.2.0",
            "_view_name": "LayoutView",
            "align_content": null,
            "align_items": null,
            "align_self": null,
            "border": null,
            "bottom": null,
            "display": null,
            "flex": null,
            "flex_flow": null,
            "grid_area": null,
            "grid_auto_columns": null,
            "grid_auto_flow": null,
            "grid_auto_rows": null,
            "grid_column": null,
            "grid_gap": null,
            "grid_row": null,
            "grid_template_areas": null,
            "grid_template_columns": null,
            "grid_template_rows": null,
            "height": null,
            "justify_content": null,
            "justify_items": null,
            "left": null,
            "margin": null,
            "max_height": null,
            "max_width": null,
            "min_height": null,
            "min_width": null,
            "object_fit": null,
            "object_position": null,
            "order": null,
            "overflow": null,
            "overflow_x": null,
            "overflow_y": null,
            "padding": null,
            "right": null,
            "top": null,
            "visibility": null,
            "width": null
          }
        },
        "a6917d82bde14dde92048802f84ce0d8": {
          "model_module": "@jupyter-widgets/controls",
          "model_name": "DescriptionStyleModel",
          "model_module_version": "1.5.0",
          "state": {
            "_model_module": "@jupyter-widgets/controls",
            "_model_module_version": "1.5.0",
            "_model_name": "DescriptionStyleModel",
            "_view_count": null,
            "_view_module": "@jupyter-widgets/base",
            "_view_module_version": "1.2.0",
            "_view_name": "StyleView",
            "description_width": ""
          }
        }
      }
    }
  },
  "nbformat": 4,
  "nbformat_minor": 5
}